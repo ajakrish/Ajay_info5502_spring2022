{
  "cells": [
    {
      "cell_type": "markdown",
      "metadata": {
        "id": "view-in-github",
        "colab_type": "text"
      },
      "source": [
        "<a href=\"https://colab.research.google.com/github/ajakrish/Ajay_info5502_spring2022/blob/main/Assignment_4_5501_(1).ipynb\" target=\"_parent\"><img src=\"https://colab.research.google.com/assets/colab-badge.svg\" alt=\"Open In Colab\"/></a>"
      ]
    },
    {
      "cell_type": "code",
      "execution_count": null,
      "id": "a565d6e2",
      "metadata": {
        "id": "a565d6e2"
      },
      "outputs": [],
      "source": [
        "import pandas as pd\n",
        "import numpy as np\n",
        "from matplotlib import pyplot as plt\n",
        "%matplotlib inline"
      ]
    },
    {
      "cell_type": "code",
      "execution_count": null,
      "id": "b8195f24",
      "metadata": {
        "id": "b8195f24",
        "outputId": "3cffcef8-b490-4cfa-bef0-11585924a264"
      },
      "outputs": [
        {
          "data": {
            "text/plain": [
              "9999"
            ]
          },
          "execution_count": 3,
          "metadata": {},
          "output_type": "execute_result"
        }
      ],
      "source": [
        "results = []\n",
        "for n in range(1,10000):\n",
        " nums = np.random.randint(low=1,high=10, size=n)\n",
        " mean = nums.mean()\n",
        " results.append(mean)\n",
        "len(results)    "
      ]
    },
    {
      "cell_type": "code",
      "execution_count": null,
      "id": "a8db2489",
      "metadata": {
        "id": "a8db2489",
        "outputId": "0b2c3727-2fa4-4fc6-c64b-8e6d6f4c0f7d"
      },
      "outputs": [
        {
          "name": "stdout",
          "output_type": "stream",
          "text": [
            "         means\n",
            "0     4.000000\n",
            "1     4.000000\n",
            "2     3.000000\n",
            "3     3.750000\n",
            "4     4.400000\n",
            "...        ...\n",
            "9994  4.988094\n",
            "9995  4.980092\n",
            "9996  4.948084\n",
            "9997  4.993799\n",
            "9998  4.979198\n",
            "\n",
            "[9999 rows x 1 columns]\n"
          ]
        }
      ],
      "source": [
        "df = pd.DataFrame({ 'means' : results})\n",
        "print(df) "
      ]
    },
    {
      "cell_type": "code",
      "execution_count": null,
      "id": "0509fcea",
      "metadata": {
        "id": "0509fcea",
        "outputId": "4536f9ff-f197-4e04-eb65-77e15dacf4f6"
      },
      "outputs": [
        {
          "data": {
            "image/png": "[encoded data removed]",
            "text/plain": [
              "<Figure size 432x288 with 1 Axes>"
            ]
          },
          "metadata": {
            "needs_background": "light"
          },
          "output_type": "display_data"
        }
      ],
      "source": [
        "df.plot(title='Law of Large Numbers')\n",
        "plt.xlabel(\"Number of throws in sample\")\n",
        "plt.ylabel(\"Average Of Sample\")\n",
        "plt.show()"
      ]
    }
  ],
  "metadata": {
    "kernelspec": {
      "display_name": "Python 3 (ipykernel)",
      "language": "python",
      "name": "python3"
    },
    "language_info": {
      "codemirror_mode": {
        "name": "ipython",
        "version": 3
      },
      "file_extension": ".py",
      "mimetype": "text/x-python",
      "name": "python",
      "nbconvert_exporter": "python",
      "pygments_lexer": "ipython3",
      "version": "3.9.7"
    },
    "colab": {
      "provenance": [],
      "include_colab_link": true
    }
  },
  "nbformat": 4,
  "nbformat_minor": 5
}