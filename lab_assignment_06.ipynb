{
  "cells": [
    {
      "cell_type": "markdown",
      "metadata": {
        "id": "view-in-github",
        "colab_type": "text"
      },
      "source": [
        "<a href=\"https://colab.research.google.com/github/ajakrish/Ajay_info5502_spring2022/blob/main/lab_assignment_06.ipynb\" target=\"_parent\"><img src=\"https://colab.research.google.com/assets/colab-badge.svg\" alt=\"Open In Colab\"/></a>"
      ]
    },
    {
      "cell_type": "markdown",
      "metadata": {
        "id": "Wo3n99t8zxhU"
      },
      "source": [
        "## The sixth Lab-assignment (03/24/2022, 50 points in total)"
      ]
    },
    {
      "cell_type": "markdown",
      "metadata": {
        "id": "pW3DYyJ0zxhc"
      },
      "source": [
        "The purpose of this exercise is to build a simple predicition model which can helpyou understand the workflow of machine learning. "
      ]
    },
    {
      "cell_type": "markdown",
      "metadata": {
        "id": "pX142gYNzxhe"
      },
      "source": [
        "### Task Decription "
      ]
    },
    {
      "cell_type": "markdown",
      "metadata": {
        "id": "ogCa6tkyzxhf"
      },
      "source": [
        "The goal of this assignment is to predict bike share use, given the hour, day, and information about the weather. Companies like Divvy try to predict how much demand there will be for bikes on any given day to allocate resources to redistribute bikes so that, ideally, very few bike stations are ever full (when you can’t park your bike) or empty (when you can’t pick up a bike if you want to).\n",
        "\n",
        "The data (link: https://github.com/unt-iialab/info5502-spring2022/tree/main/datasets/lab_assignment_06) in Github provides detailed information on the data set and necessary downloads."
      ]
    },
    {
      "cell_type": "markdown",
      "metadata": {
        "id": "pmpGl0Gdzxhg"
      },
      "source": [
        "### Data Description"
      ]
    },
    {
      "cell_type": "markdown",
      "metadata": {
        "id": "vTX500C7zxhh"
      },
      "source": [
        "You are provided hourly rental data spanning two years (link: https://github.com/unt-iialab/info5502-spring2022/tree/main/datasets/lab_assignment_06). For this task, the training set is comprised of the first 16 days of each month, while the test set is the 17-19th day of the month. You must predict the total count of bikes rented during each hour covered by the test set, using only information available prior to the rental period. That is, predict \"count\" without using \"count\" or its components \"casual\" and \"registered\".\n",
        "\n",
        "Data Fields\n",
        "\n",
        "datetime - hourly date + timestamp\n",
        "\n",
        "season - 1 = spring, 2 = summer, 3 = fall, 4 = winter\n",
        "\n",
        "holiday - whether the day is considered a holiday\n",
        "\n",
        "workingday - whether the day is neither a weekend nor holiday\n",
        "\n",
        "weather -\n",
        "\n",
        "1 - Clear, Few clouds, Partly cloudy, Partly cloudy\n",
        "\n",
        "2 - Mist + Cloudy, Mist + Broken clouds, Mist + Few clouds, Mist\n",
        "\n",
        "3 - Light Snow, Light Rain + Thunderstorm + Scattered clouds, Light Rain + Scattered clouds\n",
        "\n",
        "4 - Heavy Rain + Ice Pallets + Thunderstorm + Mist, Snow + Fog\n",
        "\n",
        "temp - temperature in Celsius\n",
        "\n",
        "atemp - \"feels like\" temperature in Celsius\n",
        "\n",
        "humidity - relative humidity\n",
        "\n",
        "windspeed - wind speed\n",
        "\n",
        "casual - number of non-registered user rentals initiated\n",
        "\n",
        "registered - number of registered user rentals initiated\n",
        "\n",
        "count - number of total rentals"
      ]
    },
    {
      "cell_type": "markdown",
      "metadata": {
        "id": "CwtmbkHKzxhj"
      },
      "source": [
        "### Output"
      ]
    },
    {
      "cell_type": "markdown",
      "metadata": {
        "id": "Z53u0EKkzxhl"
      },
      "source": [
        "Submission Format\n",
        "\n",
        "Your output (a separate file) must have a header line and should be structured in the following format:\n",
        "\n",
        " datetime,count\n",
        " \n",
        " 2011-01-20 00:00:00,0 \n",
        " \n",
        " 2011-01-20 01:00:00,0\n",
        " \n",
        " 2011-01-20 02:00:00,0\n",
        " \n",
        " ...\n",
        " \n",
        "The tutorial code should demonstrate how to generate such a file from a very simple prediction model. Note, these prediction are to be done on the test file under the data tab, where you do not know the actual count, and should match the rows of the test file in count and order.\n",
        "\n",
        "Your predictions should be compared to the ground truth information (sample_prediction.csv). Score are calculated using Root Mean Squared Error (RMSE)."
      ]
    },
    {
      "cell_type": "markdown",
      "metadata": {
        "id": "Cf7B4Hq-zxhn"
      },
      "source": [
        "### Tips"
      ]
    },
    {
      "cell_type": "markdown",
      "metadata": {
        "id": "C8i-DMQ0zxhp"
      },
      "source": [
        "●\tAdd features: Pick columns/features from the data you already have. Or make a new feature from the ones you have. For example, the tutorial makes ‘hour’ from the datetime stamp, which seemed very useful. How about ‘month’?\n",
        "\n",
        "●\tModel selection: Try different models. Make sure they are regression models rather than classification models. Tip: random forest regression is a good, all around modeling strategy on complicated data sets.\n",
        "\n",
        "●\tModel tuning: Almost all regression models have parameters to tune (“hyperparameters”). E.g. polynomial regression has the degree of the polynomial (n = 1 for a line, n=2 for a quadratic fit, n=3 for a cubic fit…). Generally, one extreme makes the model too simple (e.g. a line for a curved set of points) and the other extreme makes the model overfit/be too complex, and usually the right choice is in between. For some models it is obvious what to tune (e.g. k for k nearest neighbors regression) and some don’t need much tuning with defaults that often work well. e.g. try changing the number of trees used in the random forest model!\n",
        "\n",
        "●\tCross validation: The tutorial has a simple way of separating training and test data, however, there are better ways of splitting training and test data. Look into cross validation techniques, which are more reliable than an arbitrary split of training and test data.\n",
        "\n",
        "●\tSeparate models for ...: Notice that count comes from just adding casual riders and registered riders. However, what if these two types of riders acted very differently? It might make sense to make two separate models and just add the results of both models together. This is also true for any subsets of your data that may behave wildly differently (e.g. create a separate model for each season?)"
      ]
    },
    {
      "cell_type": "markdown",
      "metadata": {
        "id": "BOv8M6HVzxhr"
      },
      "source": [
        "### Your code"
      ]
    },
    {
      "cell_type": "code",
      "execution_count": 1,
      "metadata": {
        "colab": {
          "base_uri": "https://localhost:8080/",
          "height": 206
        },
        "id": "i18duMkCzxht",
        "outputId": "0be9efe5-de0a-4156-82b3-ef6c0193f19c"
      },
      "outputs": [
        {
          "output_type": "execute_result",
          "data": {
            "text/plain": [
              "             datetime  season  holiday  workingday  weather  temp   atemp  \\\n",
              "0 2011-01-01 00:00:00       1        0           0        1  9.84  14.395   \n",
              "1 2011-01-01 01:00:00       1        0           0        1  9.02  13.635   \n",
              "2 2011-01-01 02:00:00       1        0           0        1  9.02  13.635   \n",
              "3 2011-01-01 03:00:00       1        0           0        1  9.84  14.395   \n",
              "4 2011-01-01 04:00:00       1        0           0        1  9.84  14.395   \n",
              "\n",
              "   humidity  windspeed  casual  registered  count  hour  day  month  \n",
              "0        81        0.0       3          13     16     0    1      1  \n",
              "1        80        0.0       8          32     40     1    1      1  \n",
              "2        80        0.0       5          27     32     2    1      1  \n",
              "3        75        0.0       3          10     13     3    1      1  \n",
              "4        75        0.0       0           1      1     4    1      1  "
            ],
            "text/html": [
              "\n",
              "  <div id=\"df-192833a6-583a-4bd6-bc48-128482f0ac35\">\n",
              "    <div class=\"colab-df-container\">\n",
              "      <div>\n",
              "<style scoped>\n",
              "    .dataframe tbody tr th:only-of-type {\n",
              "        vertical-align: middle;\n",
              "    }\n",
              "\n",
              "    .dataframe tbody tr th {\n",
              "        vertical-align: top;\n",
              "    }\n",
              "\n",
              "    .dataframe thead th {\n",
              "        text-align: right;\n",
              "    }\n",
              "</style>\n",
              "<table border=\"1\" class=\"dataframe\">\n",
              "  <thead>\n",
              "    <tr style=\"text-align: right;\">\n",
              "      <th></th>\n",
              "      <th>datetime</th>\n",
              "      <th>season</th>\n",
              "      <th>holiday</th>\n",
              "      <th>workingday</th>\n",
              "      <th>weather</th>\n",
              "      <th>temp</th>\n",
              "      <th>atemp</th>\n",
              "      <th>humidity</th>\n",
              "      <th>windspeed</th>\n",
              "      <th>casual</th>\n",
              "      <th>registered</th>\n",
              "      <th>count</th>\n",
              "      <th>hour</th>\n",
              "      <th>day</th>\n",
              "      <th>month</th>\n",
              "    </tr>\n",
              "  </thead>\n",
              "  <tbody>\n",
              "    <tr>\n",
              "      <th>0</th>\n",
              "      <td>2011-01-01 00:00:00</td>\n",
              "      <td>1</td>\n",
              "      <td>0</td>\n",
              "      <td>0</td>\n",
              "      <td>1</td>\n",
              "      <td>9.84</td>\n",
              "      <td>14.395</td>\n",
              "      <td>81</td>\n",
              "      <td>0.0</td>\n",
              "      <td>3</td>\n",
              "      <td>13</td>\n",
              "      <td>16</td>\n",
              "      <td>0</td>\n",
              "      <td>1</td>\n",
              "      <td>1</td>\n",
              "    </tr>\n",
              "    <tr>\n",
              "      <th>1</th>\n",
              "      <td>2011-01-01 01:00:00</td>\n",
              "      <td>1</td>\n",
              "      <td>0</td>\n",
              "      <td>0</td>\n",
              "      <td>1</td>\n",
              "      <td>9.02</td>\n",
              "      <td>13.635</td>\n",
              "      <td>80</td>\n",
              "      <td>0.0</td>\n",
              "      <td>8</td>\n",
              "      <td>32</td>\n",
              "      <td>40</td>\n",
              "      <td>1</td>\n",
              "      <td>1</td>\n",
              "      <td>1</td>\n",
              "    </tr>\n",
              "    <tr>\n",
              "      <th>2</th>\n",
              "      <td>2011-01-01 02:00:00</td>\n",
              "      <td>1</td>\n",
              "      <td>0</td>\n",
              "      <td>0</td>\n",
              "      <td>1</td>\n",
              "      <td>9.02</td>\n",
              "      <td>13.635</td>\n",
              "      <td>80</td>\n",
              "      <td>0.0</td>\n",
              "      <td>5</td>\n",
              "      <td>27</td>\n",
              "      <td>32</td>\n",
              "      <td>2</td>\n",
              "      <td>1</td>\n",
              "      <td>1</td>\n",
              "    </tr>\n",
              "    <tr>\n",
              "      <th>3</th>\n",
              "      <td>2011-01-01 03:00:00</td>\n",
              "      <td>1</td>\n",
              "      <td>0</td>\n",
              "      <td>0</td>\n",
              "      <td>1</td>\n",
              "      <td>9.84</td>\n",
              "      <td>14.395</td>\n",
              "      <td>75</td>\n",
              "      <td>0.0</td>\n",
              "      <td>3</td>\n",
              "      <td>10</td>\n",
              "      <td>13</td>\n",
              "      <td>3</td>\n",
              "      <td>1</td>\n",
              "      <td>1</td>\n",
              "    </tr>\n",
              "    <tr>\n",
              "      <th>4</th>\n",
              "      <td>2011-01-01 04:00:00</td>\n",
              "      <td>1</td>\n",
              "      <td>0</td>\n",
              "      <td>0</td>\n",
              "      <td>1</td>\n",
              "      <td>9.84</td>\n",
              "      <td>14.395</td>\n",
              "      <td>75</td>\n",
              "      <td>0.0</td>\n",
              "      <td>0</td>\n",
              "      <td>1</td>\n",
              "      <td>1</td>\n",
              "      <td>4</td>\n",
              "      <td>1</td>\n",
              "      <td>1</td>\n",
              "    </tr>\n",
              "  </tbody>\n",
              "</table>\n",
              "</div>\n",
              "      <button class=\"colab-df-convert\" onclick=\"convertToInteractive('df-192833a6-583a-4bd6-bc48-128482f0ac35')\"\n",
              "              title=\"Convert this dataframe to an interactive table.\"\n",
              "              style=\"display:none;\">\n",
              "        \n",
              "  <svg xmlns=\"http://www.w3.org/2000/svg\" height=\"24px\"viewBox=\"0 0 24 24\"\n",
              "       width=\"24px\">\n",
              "    <path d=\"M0 0h24v24H0V0z\" fill=\"none\"/>\n",
              "    <path d=\"M18.56 5.44l.94 2.06.94-2.06 2.06-.94-2.06-.94-.94-2.06-.94 2.06-2.06.94zm-11 1L8.5 8.5l.94-2.06 2.06-.94-2.06-.94L8.5 2.5l-.94 2.06-2.06.94zm10 10l.94 2.06.94-2.06 2.06-.94-2.06-.94-.94-2.06-.94 2.06-2.06.94z\"/><path d=\"M17.41 7.96l-1.37-1.37c-.4-.4-.92-.59-1.43-.59-.52 0-1.04.2-1.43.59L10.3 9.45l-7.72 7.72c-.78.78-.78 2.05 0 2.83L4 21.41c.39.39.9.59 1.41.59.51 0 1.02-.2 1.41-.59l7.78-7.78 2.81-2.81c.8-.78.8-2.07 0-2.86zM5.41 20L4 18.59l7.72-7.72 1.47 1.35L5.41 20z\"/>\n",
              "  </svg>\n",
              "      </button>\n",
              "      \n",
              "  <style>\n",
              "    .colab-df-container {\n",
              "      display:flex;\n",
              "      flex-wrap:wrap;\n",
              "      gap: 12px;\n",
              "    }\n",
              "\n",
              "    .colab-df-convert {\n",
              "      background-color: #E8F0FE;\n",
              "      border: none;\n",
              "      border-radius: 50%;\n",
              "      cursor: pointer;\n",
              "      display: none;\n",
              "      fill: #1967D2;\n",
              "      height: 32px;\n",
              "      padding: 0 0 0 0;\n",
              "      width: 32px;\n",
              "    }\n",
              "\n",
              "    .colab-df-convert:hover {\n",
              "      background-color: #E2EBFA;\n",
              "      box-shadow: 0px 1px 2px rgba(60, 64, 67, 0.3), 0px 1px 3px 1px rgba(60, 64, 67, 0.15);\n",
              "      fill: #174EA6;\n",
              "    }\n",
              "\n",
              "    [theme=dark] .colab-df-convert {\n",
              "      background-color: #3B4455;\n",
              "      fill: #D2E3FC;\n",
              "    }\n",
              "\n",
              "    [theme=dark] .colab-df-convert:hover {\n",
              "      background-color: #434B5C;\n",
              "      box-shadow: 0px 1px 3px 1px rgba(0, 0, 0, 0.15);\n",
              "      filter: drop-shadow(0px 1px 2px rgba(0, 0, 0, 0.3));\n",
              "      fill: #FFFFFF;\n",
              "    }\n",
              "  </style>\n",
              "\n",
              "      <script>\n",
              "        const buttonEl =\n",
              "          document.querySelector('#df-192833a6-583a-4bd6-bc48-128482f0ac35 button.colab-df-convert');\n",
              "        buttonEl.style.display =\n",
              "          google.colab.kernel.accessAllowed ? 'block' : 'none';\n",
              "\n",
              "        async function convertToInteractive(key) {\n",
              "          const element = document.querySelector('#df-192833a6-583a-4bd6-bc48-128482f0ac35');\n",
              "          const dataTable =\n",
              "            await google.colab.kernel.invokeFunction('convertToInteractive',\n",
              "                                                     [key], {});\n",
              "          if (!dataTable) return;\n",
              "\n",
              "          const docLinkHtml = 'Like what you see? Visit the ' +\n",
              "            '<a target=\"_blank\" href=https://colab.research.google.com/notebooks/data_table.ipynb>data table notebook</a>'\n",
              "            + ' to learn more about interactive tables.';\n",
              "          element.innerHTML = '';\n",
              "          dataTable['output_type'] = 'display_data';\n",
              "          await google.colab.output.renderOutput(dataTable, element);\n",
              "          const docLink = document.createElement('div');\n",
              "          docLink.innerHTML = docLinkHtml;\n",
              "          element.appendChild(docLink);\n",
              "        }\n",
              "      </script>\n",
              "    </div>\n",
              "  </div>\n",
              "  "
            ]
          },
          "metadata": {},
          "execution_count": 1
        }
      ],
      "source": [
        "### You code here:\n",
        "### You code here:\n",
        "from datetime import datetime\n",
        "import matplotlib.pyplot as plt\n",
        "%matplotlib inline\n",
        "import pandas as pd\n",
        "import numpy as np\n",
        "\n",
        "data = pd.read_csv(\"https://raw.githubusercontent.com/unt-iialab/info5502-spring2022/main/datasets/lab_assignment_06/train_luc.csv\")\n",
        "\n",
        "# converting datetime column to datetime datatype\n",
        "data['datetime']=pd.to_datetime(data.datetime)\n",
        "# we extract hour, day, month values from datetime\n",
        "data['hour'] = data['datetime'].dt.hour\n",
        "data['day'] = data['datetime'].dt.day\n",
        "data['month'] = data['datetime'].dt.month\n",
        "data.head()\n",
        "\n",
        "\n"
      ]
    },
    {
      "cell_type": "code",
      "source": [
        ""
      ],
      "metadata": {
        "id": "_1SFQNF2z7OW"
      },
      "execution_count": null,
      "outputs": []
    },
    {
      "cell_type": "code",
      "source": [
        "data.shape"
      ],
      "metadata": {
        "colab": {
          "base_uri": "https://localhost:8080/"
        },
        "id": "u4sM9oWpz-9X",
        "outputId": "66c0169e-a113-4153-bd63-c31737be7f67"
      },
      "execution_count": 35,
      "outputs": [
        {
          "output_type": "execute_result",
          "data": {
            "text/plain": [
              "(9174, 15)"
            ]
          },
          "metadata": {},
          "execution_count": 35
        }
      ]
    },
    {
      "cell_type": "code",
      "source": [
        "data.info()"
      ],
      "metadata": {
        "colab": {
          "base_uri": "https://localhost:8080/"
        },
        "id": "WyzY2O9e0Dvl",
        "outputId": "fd7621d7-6f30-4125-c243-6580ae4f6cd7"
      },
      "execution_count": 36,
      "outputs": [
        {
          "output_type": "stream",
          "name": "stdout",
          "text": [
            "<class 'pandas.core.frame.DataFrame'>\n",
            "RangeIndex: 9174 entries, 0 to 9173\n",
            "Data columns (total 15 columns):\n",
            " #   Column      Non-Null Count  Dtype         \n",
            "---  ------      --------------  -----         \n",
            " 0   datetime    9174 non-null   datetime64[ns]\n",
            " 1   season      9174 non-null   object        \n",
            " 2   holiday     9174 non-null   object        \n",
            " 3   workingday  9174 non-null   object        \n",
            " 4   weather     9174 non-null   object        \n",
            " 5   temp        9174 non-null   float64       \n",
            " 6   atemp       9174 non-null   float64       \n",
            " 7   humidity    9174 non-null   int64         \n",
            " 8   windspeed   9174 non-null   float64       \n",
            " 9   casual      9174 non-null   int64         \n",
            " 10  registered  9174 non-null   int64         \n",
            " 11  count       9174 non-null   int64         \n",
            " 12  hour        9174 non-null   int64         \n",
            " 13  day         9174 non-null   int64         \n",
            " 14  month       9174 non-null   int64         \n",
            "dtypes: datetime64[ns](1), float64(3), int64(7), object(4)\n",
            "memory usage: 1.1+ MB\n"
          ]
        }
      ]
    },
    {
      "cell_type": "code",
      "source": [
        "data.isna().sum()"
      ],
      "metadata": {
        "colab": {
          "base_uri": "https://localhost:8080/"
        },
        "id": "-Lo13m4c0HqF",
        "outputId": "e7ac7d54-ab70-4279-dbfb-4aa05c3de2ec"
      },
      "execution_count": 37,
      "outputs": [
        {
          "output_type": "execute_result",
          "data": {
            "text/plain": [
              "datetime      0\n",
              "season        0\n",
              "holiday       0\n",
              "workingday    0\n",
              "weather       0\n",
              "temp          0\n",
              "atemp         0\n",
              "humidity      0\n",
              "windspeed     0\n",
              "casual        0\n",
              "registered    0\n",
              "count         0\n",
              "hour          0\n",
              "day           0\n",
              "month         0\n",
              "dtype: int64"
            ]
          },
          "metadata": {},
          "execution_count": 37
        }
      ]
    },
    {
      "cell_type": "code",
      "source": [
        "import seaborn as sns\n",
        "plt.rcParams['figure.figsize'] = [11, 6]\n",
        "ax = sns.countplot(data['day'])\n",
        "#ax.bar_label(ax.containers[0])\n",
        "plt.title(\"Count of bike rentals in each day\")\n",
        "plt.xlabel(\"Day\")\n",
        "plt.ylabel(\"Count of rentals\")\n",
        "plt.xticks(rotation=90)\n",
        "plt.show()"
      ],
      "metadata": {
        "colab": {
          "base_uri": "https://localhost:8080/",
          "height": 462
        },
        "id": "AmdNE8mY0MhG",
        "outputId": "77829604-5473-4279-fd3d-4d557fe350f2"
      },
      "execution_count": 38,
      "outputs": [
        {
          "output_type": "stream",
          "name": "stderr",
          "text": [
            "/usr/local/lib/python3.7/dist-packages/seaborn/_decorators.py:43: FutureWarning: Pass the following variable as a keyword arg: x. From version 0.12, the only valid positional argument will be `data`, and passing other arguments without an explicit keyword will result in an error or misinterpretation.\n",
            "  FutureWarning\n"
          ]
        },
        {
          "output_type": "display_data",
          "data": {
            "text/plain": [
              "<Figure size 792x432 with 1 Axes>"
            ],
            "image/png": "[encoded data removed]"
          },
          "metadata": {
            "needs_background": "light"
          }
        }
      ]
    },
    {
      "cell_type": "code",
      "source": [
        ""
      ],
      "metadata": {
        "id": "2LGGx-iA0TS6"
      },
      "execution_count": null,
      "outputs": []
    },
    {
      "cell_type": "code",
      "source": [
        "import seaborn as sns\n",
        "plt.rcParams['figure.figsize'] = [12, 7]\n",
        "data[['casual', 'registered']][:50].plot(kind='bar', stacked=True)\n",
        "plt.title(\"Stacked Barchart showing contribution of casual and registered bike rentals\")\n",
        "plt.xlabel(\"Day\")\n",
        "plt.ylabel(\"Total count of casual and registered\")\n",
        "plt.xticks(rotation=90)\n",
        "plt.show()"
      ],
      "metadata": {
        "colab": {
          "base_uri": "https://localhost:8080/",
          "height": 461
        },
        "id": "S3lPW3GD0XT6",
        "outputId": "e0dcad45-d706-4037-beca-c774a3a78796"
      },
      "execution_count": 39,
      "outputs": [
        {
          "output_type": "display_data",
          "data": {
            "text/plain": [
              "<Figure size 864x504 with 1 Axes>"
            ],
            "image/png": "[encoded data removed]"
          },
          "metadata": {
            "needs_background": "light"
          }
        }
      ]
    },
    {
      "cell_type": "code",
      "source": [
        "import seaborn as sns\n",
        "# data['season'] = data['season'].astype('str')\n",
        "plt.rcParams['figure.figsize'] = [7, 5]\n",
        "# sns.barplot(data['season'])\n",
        "ax = sns.barplot('season', 'casual', data = data)\n",
        "#ax.bar_label(ax.containers[0])\n",
        "plt.title(\"Count of casual customers in different seasons\")\n",
        "plt.xlabel(\"Season\")\n",
        "plt.ylabel(\"Total count of casual customers\")\n",
        "plt.xticks(rotation=90)\n",
        "plt.show()"
      ],
      "metadata": {
        "colab": {
          "base_uri": "https://localhost:8080/",
          "height": 401
        },
        "id": "ar5m3hhG0dKZ",
        "outputId": "b28b86ef-8125-4bee-8a9c-380e1f9ede29"
      },
      "execution_count": 40,
      "outputs": [
        {
          "output_type": "stream",
          "name": "stderr",
          "text": [
            "/usr/local/lib/python3.7/dist-packages/seaborn/_decorators.py:43: FutureWarning: Pass the following variables as keyword args: x, y. From version 0.12, the only valid positional argument will be `data`, and passing other arguments without an explicit keyword will result in an error or misinterpretation.\n",
            "  FutureWarning\n"
          ]
        },
        {
          "output_type": "display_data",
          "data": {
            "text/plain": [
              "<Figure size 504x360 with 1 Axes>"
            ],
            "image/png": "[encoded data removed]"
          },
          "metadata": {
            "needs_background": "light"
          }
        }
      ]
    },
    {
      "cell_type": "code",
      "source": [
        "ax = sns.countplot(data['workingday'])\n",
        "\n",
        "plt.xlabel('weekday')\n",
        "plt.ylabel('casual')\n",
        "plt.show()"
      ],
      "metadata": {
        "colab": {
          "base_uri": "https://localhost:8080/",
          "height": 389
        },
        "id": "sdJyOAl70oq9",
        "outputId": "dc3e9483-0202-4be4-9148-f0f1583ee578"
      },
      "execution_count": 41,
      "outputs": [
        {
          "output_type": "stream",
          "name": "stderr",
          "text": [
            "/usr/local/lib/python3.7/dist-packages/seaborn/_decorators.py:43: FutureWarning: Pass the following variable as a keyword arg: x. From version 0.12, the only valid positional argument will be `data`, and passing other arguments without an explicit keyword will result in an error or misinterpretation.\n",
            "  FutureWarning\n"
          ]
        },
        {
          "output_type": "display_data",
          "data": {
            "text/plain": [
              "<Figure size 504x360 with 1 Axes>"
            ],
            "image/png": "[encoded data removed]"
          },
          "metadata": {
            "needs_background": "light"
          }
        }
      ]
    },
    {
      "cell_type": "code",
      "source": [
        "# we convert the below columns into categorical\n",
        "for i in ['season', 'weather', 'holiday', 'workingday']:\n",
        "    data[i] = data[i].astype('object')\n",
        "\n",
        "# Dummification of the below columns in the dataset\n",
        "one_hot_df = pd.get_dummies(data[['season', 'holiday', 'workingday', 'weather']])\n",
        "# we drop unnecessary columns\n",
        "X = data.drop(['datetime','casual','registered', 'season', 'holiday', 'workingday', 'weather', 'day', 'count'], axis=1)\n",
        "# we append the dummies data to the original data\n",
        "X = X.join(one_hot_df)\n",
        "# target column\n",
        "y = data['count']"
      ],
      "metadata": {
        "id": "fIRnvKf10tm2"
      },
      "execution_count": 42,
      "outputs": []
    },
    {
      "cell_type": "code",
      "source": [
        "from sklearn.model_selection import KFold\n",
        "from sklearn.linear_model import LinearRegression\n",
        "from sklearn.metrics import mean_squared_error, r2_score\n",
        "# We split the dataset using Kfold cross validation\n",
        "kfold = KFold(n_splits=5, shuffle=True, random_state=None)\n",
        "for train, test in kfold.split(data):\n",
        "    print('train: %s, test: %s' % (train, test))"
      ],
      "metadata": {
        "colab": {
          "base_uri": "https://localhost:8080/"
        },
        "id": "3NCPZmpj0043",
        "outputId": "9fbddccb-1b86-4314-ea8d-8a8e57548c89"
      },
      "execution_count": 43,
      "outputs": [
        {
          "output_type": "stream",
          "name": "stdout",
          "text": [
            "train: [   0    1    2 ... 9170 9171 9173], test: [   5    6   12 ... 9163 9168 9172]\n",
            "train: [   0    1    2 ... 9171 9172 9173], test: [   3   11   17 ... 9149 9160 9170]\n",
            "train: [   0    1    2 ... 9171 9172 9173], test: [   8   14   15 ... 9148 9158 9169]\n",
            "train: [   0    1    2 ... 9170 9172 9173], test: [   4   10   16 ... 9157 9159 9171]\n",
            "train: [   3    4    5 ... 9170 9171 9172], test: [   0    1    2 ... 9166 9167 9173]\n"
          ]
        }
      ]
    },
    {
      "cell_type": "markdown",
      "source": [
        "# **Prediction of test dataset**"
      ],
      "metadata": {
        "id": "6qP9uUVT05xa"
      }
    },
    {
      "cell_type": "code",
      "source": [
        "# load the test dataset\n",
        "test_data = pd.read_csv(\"https://raw.githubusercontent.com/unt-iialab/info5502-spring2022/main/datasets/lab_assignment_06/test_luc.csv\")\n",
        "# change the dataset type to datatime\n",
        "test_data['datetime'] = pd.to_datetime(test_data.datetime)\n",
        "# we extract the hour and month\n",
        "test_data['hour'] = test_data['datetime'].dt.hour\n",
        "test_data['month'] = test_data['datetime'].dt.month\n",
        "# convert the following columns datatype to categorical\n",
        "for i in ['season', 'weather', 'holiday', 'workingday']:\n",
        "    test_data[i] = test_data[i].astype('object')\n",
        "\n",
        "one_hot_test_data = pd.get_dummies(test_data[['season', 'holiday', 'workingday', 'weather']])\n",
        "test_data = test_data.drop(['datetime', 'season', 'holiday', 'workingday', 'weather'], axis=1)\n",
        "test_data = test_data.join(one_hot_test_data)"
      ],
      "metadata": {
        "id": "H48EO3l71AKh"
      },
      "execution_count": 44,
      "outputs": []
    },
    {
      "cell_type": "code",
      "source": [
        "# test data doesn't have weather category 4\n",
        "# we append that column\n",
        "test_data['weather_4'] = 0"
      ],
      "metadata": {
        "id": "2eEDUiQI1Gny"
      },
      "execution_count": 45,
      "outputs": []
    },
    {
      "cell_type": "code",
      "source": [
        "print(test_data.columns)\n",
        "print(X.columns)"
      ],
      "metadata": {
        "colab": {
          "base_uri": "https://localhost:8080/"
        },
        "id": "iXOHEiKV1Koj",
        "outputId": "e6a8c7a0-fdfa-41b4-eb91-7bfc92372dfe"
      },
      "execution_count": 46,
      "outputs": [
        {
          "output_type": "stream",
          "name": "stdout",
          "text": [
            "Index(['temp', 'atemp', 'humidity', 'windspeed', 'hour', 'month', 'season_1',\n",
            "       'season_2', 'season_3', 'season_4', 'holiday_0', 'holiday_1',\n",
            "       'workingday_0', 'workingday_1', 'weather_1', 'weather_2', 'weather_3',\n",
            "       'weather_4'],\n",
            "      dtype='object')\n",
            "Index(['temp', 'atemp', 'humidity', 'windspeed', 'hour', 'month', 'season_1',\n",
            "       'season_2', 'season_3', 'season_4', 'holiday_0', 'holiday_1',\n",
            "       'workingday_0', 'workingday_1', 'weather_1', 'weather_2', 'weather_3',\n",
            "       'weather_4'],\n",
            "      dtype='object')\n"
          ]
        }
      ]
    },
    {
      "cell_type": "markdown",
      "source": [
        "# **Linear Regression**"
      ],
      "metadata": {
        "id": "GL3LuX8W1ZAZ"
      }
    },
    {
      "cell_type": "code",
      "source": [
        "# Applying Linear Regression to find the customers count of Rentals\n",
        "lr = LinearRegression()\n",
        "lr.fit(X.iloc[train], y.iloc[train])\n",
        "lr_ypred = lr.predict(X.iloc[test])\n",
        "# finding mean square error\n",
        "mse = mean_squared_error(y.iloc[test], lr_ypred)\n",
        "print(\"RMSE:\", np.sqrt(mse))\n",
        "# finding R2 Score\n",
        "r_squared = r2_score(y.iloc[test], lr_ypred)\n",
        "print(\"R2 Score:\", r_squared)\n",
        "# predicting values\n",
        "lr_test_pred = lr.predict(test_data)\n",
        "lr_test_pred"
      ],
      "metadata": {
        "colab": {
          "base_uri": "https://localhost:8080/"
        },
        "id": "T6ZrLNps1iQF",
        "outputId": "d72597e1-e295-4cfd-d068-0409f566a634"
      },
      "execution_count": 47,
      "outputs": [
        {
          "output_type": "stream",
          "name": "stdout",
          "text": [
            "RMSE: 141.8010455001113\n",
            "R2 Score: 0.3819542281041929\n"
          ]
        },
        {
          "output_type": "execute_result",
          "data": {
            "text/plain": [
              "array([ 14.38904229,  26.91866966,  26.39160777, ..., 254.12398014,\n",
              "       268.34843866, 260.22767765])"
            ]
          },
          "metadata": {},
          "execution_count": 47
        }
      ]
    },
    {
      "cell_type": "markdown",
      "source": [
        "# **DecisionTreeRegressor**"
      ],
      "metadata": {
        "id": "P-QqmUR11x-y"
      }
    },
    {
      "cell_type": "code",
      "source": [
        "from sklearn.tree import DecisionTreeRegressor\n",
        "# Using Decision Tree Regressor model to find the count values\n",
        "dtreg = DecisionTreeRegressor(random_state=211)\n",
        "dtreg.fit(X.iloc[train], y.iloc[train])\n",
        "dtreg_ypred = dtreg.predict(X.iloc[test])\n",
        "mse = mean_squared_error(y.iloc[test], dtreg_ypred)\n",
        "print(\"RMSE:\", np.sqrt(mse))\n",
        "r_squared = r2_score(y.iloc[test], dtreg_ypred)\n",
        "print(\"R2 Score:\", r_squared)\n",
        "dtreg_test_pred = dtreg.predict(test_data)\n",
        "dtreg_test_pred"
      ],
      "metadata": {
        "colab": {
          "base_uri": "https://localhost:8080/"
        },
        "id": "xwBSCBCt10ML",
        "outputId": "7b4fda1e-7347-414d-d4b5-53265c83a88d"
      },
      "execution_count": 16,
      "outputs": [
        {
          "output_type": "stream",
          "name": "stdout",
          "text": [
            "RMSE: 93.44681290962359\n",
            "R2 Score: 0.7269160626235582\n"
          ]
        },
        {
          "output_type": "execute_result",
          "data": {
            "text/plain": [
              "array([ 59.,  50.,  52., ..., 136., 163., 148.])"
            ]
          },
          "metadata": {},
          "execution_count": 16
        }
      ]
    },
    {
      "cell_type": "markdown",
      "source": [
        "# **RandomForestRegressor**"
      ],
      "metadata": {
        "id": "sIWOHviO2BOX"
      }
    },
    {
      "cell_type": "code",
      "source": [
        "from sklearn.ensemble import RandomForestRegressor\n",
        "# using Random Forest Regressor to find the count values\n",
        "rfreg = RandomForestRegressor(random_state = 211)\n",
        "rfreg.fit(X.iloc[train], y.iloc[train])\n",
        "rfreg_ypred = rfreg.predict(X.iloc[test])\n",
        "mse = mean_squared_error(y.iloc[test], rfreg_ypred)\n",
        "print(\"RMSE:\", np.sqrt(mse))\n",
        "r_squared = r2_score(y.iloc[test], rfreg_ypred)\n",
        "print(\"R2 Score: \", r_squared)\n",
        "rfreg_test_pred = rfreg.predict(test_data)\n",
        "rfreg_test_pred"
      ],
      "metadata": {
        "colab": {
          "base_uri": "https://localhost:8080/"
        },
        "id": "Nn9_T2iz2EOt",
        "outputId": "7ac5c4f5-256e-485f-c074-d497d9123e80"
      },
      "execution_count": 48,
      "outputs": [
        {
          "output_type": "stream",
          "name": "stdout",
          "text": [
            "RMSE: 63.36156705745174\n",
            "R2 Score:  0.8766004450865219\n"
          ]
        },
        {
          "output_type": "execute_result",
          "data": {
            "text/plain": [
              "array([ 40.06,  39.3 ,  29.25, ..., 152.12, 162.6 ,  96.09])"
            ]
          },
          "metadata": {},
          "execution_count": 48
        }
      ]
    },
    {
      "cell_type": "code",
      "source": [
        "test_data = pd.read_csv(\"https://raw.githubusercontent.com/unt-iialab/info5502-spring2022/main/datasets/lab_assignment_06/test_luc.csv\")\n",
        "test_data['count'] = rfreg_test_pred"
      ],
      "metadata": {
        "id": "Q9stjAoK2Ka5"
      },
      "execution_count": 49,
      "outputs": []
    },
    {
      "cell_type": "code",
      "source": [
        "test_data[['datetime', 'count']]"
      ],
      "metadata": {
        "colab": {
          "base_uri": "https://localhost:8080/",
          "height": 423
        },
        "id": "1LMxLUNa2O2N",
        "outputId": "1ef07e4c-5fd2-4ba1-fdac-29246f8d1ac5"
      },
      "execution_count": 50,
      "outputs": [
        {
          "output_type": "execute_result",
          "data": {
            "text/plain": [
              "                 datetime   count\n",
              "0     2011-01-17 00:00:00   40.06\n",
              "1     2011-01-17 01:00:00   39.30\n",
              "2     2011-01-17 02:00:00   29.25\n",
              "3     2011-01-17 03:00:00   16.68\n",
              "4     2011-01-17 04:00:00    6.60\n",
              "...                   ...     ...\n",
              "1707  2012-12-19 19:00:00  395.23\n",
              "1708  2012-12-19 20:00:00  241.99\n",
              "1709  2012-12-19 21:00:00  152.12\n",
              "1710  2012-12-19 22:00:00  162.60\n",
              "1711  2012-12-19 23:00:00   96.09\n",
              "\n",
              "[1712 rows x 2 columns]"
            ],
            "text/html": [
              "\n",
              "  <div id=\"df-2aad80d7-c21f-4b88-aef0-4774b102f2d8\">\n",
              "    <div class=\"colab-df-container\">\n",
              "      <div>\n",
              "<style scoped>\n",
              "    .dataframe tbody tr th:only-of-type {\n",
              "        vertical-align: middle;\n",
              "    }\n",
              "\n",
              "    .dataframe tbody tr th {\n",
              "        vertical-align: top;\n",
              "    }\n",
              "\n",
              "    .dataframe thead th {\n",
              "        text-align: right;\n",
              "    }\n",
              "</style>\n",
              "<table border=\"1\" class=\"dataframe\">\n",
              "  <thead>\n",
              "    <tr style=\"text-align: right;\">\n",
              "      <th></th>\n",
              "      <th>datetime</th>\n",
              "      <th>count</th>\n",
              "    </tr>\n",
              "  </thead>\n",
              "  <tbody>\n",
              "    <tr>\n",
              "      <th>0</th>\n",
              "      <td>2011-01-17 00:00:00</td>\n",
              "      <td>40.06</td>\n",
              "    </tr>\n",
              "    <tr>\n",
              "      <th>1</th>\n",
              "      <td>2011-01-17 01:00:00</td>\n",
              "      <td>39.30</td>\n",
              "    </tr>\n",
              "    <tr>\n",
              "      <th>2</th>\n",
              "      <td>2011-01-17 02:00:00</td>\n",
              "      <td>29.25</td>\n",
              "    </tr>\n",
              "    <tr>\n",
              "      <th>3</th>\n",
              "      <td>2011-01-17 03:00:00</td>\n",
              "      <td>16.68</td>\n",
              "    </tr>\n",
              "    <tr>\n",
              "      <th>4</th>\n",
              "      <td>2011-01-17 04:00:00</td>\n",
              "      <td>6.60</td>\n",
              "    </tr>\n",
              "    <tr>\n",
              "      <th>...</th>\n",
              "      <td>...</td>\n",
              "      <td>...</td>\n",
              "    </tr>\n",
              "    <tr>\n",
              "      <th>1707</th>\n",
              "      <td>2012-12-19 19:00:00</td>\n",
              "      <td>395.23</td>\n",
              "    </tr>\n",
              "    <tr>\n",
              "      <th>1708</th>\n",
              "      <td>2012-12-19 20:00:00</td>\n",
              "      <td>241.99</td>\n",
              "    </tr>\n",
              "    <tr>\n",
              "      <th>1709</th>\n",
              "      <td>2012-12-19 21:00:00</td>\n",
              "      <td>152.12</td>\n",
              "    </tr>\n",
              "    <tr>\n",
              "      <th>1710</th>\n",
              "      <td>2012-12-19 22:00:00</td>\n",
              "      <td>162.60</td>\n",
              "    </tr>\n",
              "    <tr>\n",
              "      <th>1711</th>\n",
              "      <td>2012-12-19 23:00:00</td>\n",
              "      <td>96.09</td>\n",
              "    </tr>\n",
              "  </tbody>\n",
              "</table>\n",
              "<p>1712 rows × 2 columns</p>\n",
              "</div>\n",
              "      <button class=\"colab-df-convert\" onclick=\"convertToInteractive('df-2aad80d7-c21f-4b88-aef0-4774b102f2d8')\"\n",
              "              title=\"Convert this dataframe to an interactive table.\"\n",
              "              style=\"display:none;\">\n",
              "        \n",
              "  <svg xmlns=\"http://www.w3.org/2000/svg\" height=\"24px\"viewBox=\"0 0 24 24\"\n",
              "       width=\"24px\">\n",
              "    <path d=\"M0 0h24v24H0V0z\" fill=\"none\"/>\n",
              "    <path d=\"M18.56 5.44l.94 2.06.94-2.06 2.06-.94-2.06-.94-.94-2.06-.94 2.06-2.06.94zm-11 1L8.5 8.5l.94-2.06 2.06-.94-2.06-.94L8.5 2.5l-.94 2.06-2.06.94zm10 10l.94 2.06.94-2.06 2.06-.94-2.06-.94-.94-2.06-.94 2.06-2.06.94z\"/><path d=\"M17.41 7.96l-1.37-1.37c-.4-.4-.92-.59-1.43-.59-.52 0-1.04.2-1.43.59L10.3 9.45l-7.72 7.72c-.78.78-.78 2.05 0 2.83L4 21.41c.39.39.9.59 1.41.59.51 0 1.02-.2 1.41-.59l7.78-7.78 2.81-2.81c.8-.78.8-2.07 0-2.86zM5.41 20L4 18.59l7.72-7.72 1.47 1.35L5.41 20z\"/>\n",
              "  </svg>\n",
              "      </button>\n",
              "      \n",
              "  <style>\n",
              "    .colab-df-container {\n",
              "      display:flex;\n",
              "      flex-wrap:wrap;\n",
              "      gap: 12px;\n",
              "    }\n",
              "\n",
              "    .colab-df-convert {\n",
              "      background-color: #E8F0FE;\n",
              "      border: none;\n",
              "      border-radius: 50%;\n",
              "      cursor: pointer;\n",
              "      display: none;\n",
              "      fill: #1967D2;\n",
              "      height: 32px;\n",
              "      padding: 0 0 0 0;\n",
              "      width: 32px;\n",
              "    }\n",
              "\n",
              "    .colab-df-convert:hover {\n",
              "      background-color: #E2EBFA;\n",
              "      box-shadow: 0px 1px 2px rgba(60, 64, 67, 0.3), 0px 1px 3px 1px rgba(60, 64, 67, 0.15);\n",
              "      fill: #174EA6;\n",
              "    }\n",
              "\n",
              "    [theme=dark] .colab-df-convert {\n",
              "      background-color: #3B4455;\n",
              "      fill: #D2E3FC;\n",
              "    }\n",
              "\n",
              "    [theme=dark] .colab-df-convert:hover {\n",
              "      background-color: #434B5C;\n",
              "      box-shadow: 0px 1px 3px 1px rgba(0, 0, 0, 0.15);\n",
              "      filter: drop-shadow(0px 1px 2px rgba(0, 0, 0, 0.3));\n",
              "      fill: #FFFFFF;\n",
              "    }\n",
              "  </style>\n",
              "\n",
              "      <script>\n",
              "        const buttonEl =\n",
              "          document.querySelector('#df-2aad80d7-c21f-4b88-aef0-4774b102f2d8 button.colab-df-convert');\n",
              "        buttonEl.style.display =\n",
              "          google.colab.kernel.accessAllowed ? 'block' : 'none';\n",
              "\n",
              "        async function convertToInteractive(key) {\n",
              "          const element = document.querySelector('#df-2aad80d7-c21f-4b88-aef0-4774b102f2d8');\n",
              "          const dataTable =\n",
              "            await google.colab.kernel.invokeFunction('convertToInteractive',\n",
              "                                                     [key], {});\n",
              "          if (!dataTable) return;\n",
              "\n",
              "          const docLinkHtml = 'Like what you see? Visit the ' +\n",
              "            '<a target=\"_blank\" href=https://colab.research.google.com/notebooks/data_table.ipynb>data table notebook</a>'\n",
              "            + ' to learn more about interactive tables.';\n",
              "          element.innerHTML = '';\n",
              "          dataTable['output_type'] = 'display_data';\n",
              "          await google.colab.output.renderOutput(dataTable, element);\n",
              "          const docLink = document.createElement('div');\n",
              "          docLink.innerHTML = docLinkHtml;\n",
              "          element.appendChild(docLink);\n",
              "        }\n",
              "      </script>\n",
              "    </div>\n",
              "  </div>\n",
              "  "
            ]
          },
          "metadata": {},
          "execution_count": 50
        }
      ]
    },
    {
      "cell_type": "code",
      "source": [
        "# since the RMSE is low for RF Regressor and R2 Score is less for RF Regressor\n",
        "# we save the predicted values from RF Regressor model\n",
        "test_df = test_data[['datetime','count']].to_csv('MRoopesh_prediction.csv', index=False, header=True)"
      ],
      "metadata": {
        "id": "cenEj0Vf2UtE"
      },
      "execution_count": 51,
      "outputs": []
    },
    {
      "cell_type": "markdown",
      "source": [
        "# **Building Seperate models for Casual and Registered customers**"
      ],
      "metadata": {
        "id": "A_QZlhnA2lLE"
      }
    },
    {
      "cell_type": "markdown",
      "source": [
        "# **Prediction of Casual Customers**"
      ],
      "metadata": {
        "id": "Fq_EC1Hn3CJp"
      }
    },
    {
      "cell_type": "code",
      "source": [
        "X = data.drop(['datetime','casual','registered', 'season', 'holiday', 'workingday', 'weather', 'day', 'count'], axis=1)\n",
        "X = X.join(one_hot_df)\n",
        "y = data['casual']"
      ],
      "metadata": {
        "id": "LYU4gonn3MUC"
      },
      "execution_count": 52,
      "outputs": []
    },
    {
      "cell_type": "code",
      "source": [
        "test_data = pd.read_csv(\"https://raw.githubusercontent.com/unt-iialab/info5502-spring2022/main/datasets/lab_assignment_06/test_luc.csv\")\n",
        "\n",
        "test_data['datetime'] = pd.to_datetime(test_data.datetime)\n",
        "\n",
        "test_data['hour'] = test_data['datetime'].dt.hour\n",
        "#test_data['day'] = test_data['datetime'].dt.day\n",
        "test_data['month'] = test_data['datetime'].dt.month\n",
        "\n",
        "for i in ['season', 'weather', 'holiday', 'workingday']:\n",
        "    test_data[i] = test_data[i].astype('object')\n",
        "\n",
        "one_hot_test_data = pd.get_dummies(test_data[['season', 'holiday', 'workingday', 'weather']])\n",
        "test_data = test_data.drop(['datetime', 'season', 'holiday', 'workingday', 'weather'], axis=1)\n",
        "test_data = test_data.join(one_hot_test_data)"
      ],
      "metadata": {
        "id": "8T1gKRma3P-W"
      },
      "execution_count": 53,
      "outputs": []
    },
    {
      "cell_type": "code",
      "source": [
        "test_data['weather_4'] = 0"
      ],
      "metadata": {
        "id": "P-08DHzo3hT0"
      },
      "execution_count": 54,
      "outputs": []
    },
    {
      "cell_type": "markdown",
      "source": [
        "# **Casual Customers count prediction using Linear Regression**"
      ],
      "metadata": {
        "id": "krsAgjuq31E1"
      }
    },
    {
      "cell_type": "code",
      "source": [
        "# Using Lin Regression for predicting Casual customers\n",
        "lr = LinearRegression()\n",
        "lr.fit(X.iloc[train], y.iloc[train])\n",
        "lr_ypred = lr.predict(X.iloc[test])\n",
        "mse = mean_squared_error(y.iloc[test], lr_ypred)\n",
        "print(\"RMSE:\", np.sqrt(mse))\n",
        "r_squared = r2_score(y.iloc[test], lr_ypred)\n",
        "print(\"R2 Score:\", r_squared)\n",
        "lr_test_pred = lr.predict(test_data)\n",
        "lr_test_pred"
      ],
      "metadata": {
        "colab": {
          "base_uri": "https://localhost:8080/"
        },
        "id": "kcyEIZaj3zpA",
        "outputId": "a497539c-d934-4855-a3de-3c4048ac2903"
      },
      "execution_count": 55,
      "outputs": [
        {
          "output_type": "stream",
          "name": "stdout",
          "text": [
            "RMSE: 33.89146056606193\n",
            "R2 Score: 0.5118688690616001\n"
          ]
        },
        {
          "output_type": "execute_result",
          "data": {
            "text/plain": [
              "array([14.73050132, 17.88709701, 16.07581237, ..., 18.53854552,\n",
              "       22.72909932, 18.16908366])"
            ]
          },
          "metadata": {},
          "execution_count": 55
        }
      ]
    },
    {
      "cell_type": "markdown",
      "source": [
        "# **Casual Customers count prediction using DecisionTreeRegressor**"
      ],
      "metadata": {
        "id": "EhkdZZyK4ui8"
      }
    },
    {
      "cell_type": "code",
      "source": [
        "from sklearn.tree import DecisionTreeRegressor\n",
        "# Using DecisionTree Regressor for predicting Casual customers\n",
        "dtreg = DecisionTreeRegressor(random_state=211)\n",
        "dtreg.fit(X.iloc[train], y.iloc[train])\n",
        "dtreg_ypred = dtreg.predict(X.iloc[test])\n",
        "mse = mean_squared_error(y.iloc[test], dtreg_ypred)\n",
        "print(\"RMSE:\", np.sqrt(mse))\n",
        "r_squared = r2_score(y.iloc[test], dtreg_ypred)\n",
        "print(\"R2 Score:\", r_squared)\n",
        "dtreg_test_pred = dtreg.predict(test_data)\n",
        "dtreg_test_pred"
      ],
      "metadata": {
        "colab": {
          "base_uri": "https://localhost:8080/"
        },
        "id": "ppXiKP9-4yXo",
        "outputId": "15a98239-91a4-4e37-a1c3-81ae934ffc9c"
      },
      "execution_count": 56,
      "outputs": [
        {
          "output_type": "stream",
          "name": "stdout",
          "text": [
            "RMSE: 23.406476468621197\n",
            "R2 Score: 0.7671758542664766\n"
          ]
        },
        {
          "output_type": "execute_result",
          "data": {
            "text/plain": [
              "array([ 1.,  1.,  5., ..., 12., 17.,  3.])"
            ]
          },
          "metadata": {},
          "execution_count": 56
        }
      ]
    },
    {
      "cell_type": "markdown",
      "source": [
        "\n",
        "# **Casual Customers count prediction using RandomForestRegressor**"
      ],
      "metadata": {
        "id": "kPrNB2o-47gS"
      }
    },
    {
      "cell_type": "code",
      "source": [
        "from sklearn.ensemble import RandomForestRegressor\n",
        "# Using RandomForest Regressor for predicting Casual customers\n",
        "rfreg = RandomForestRegressor(random_state = 211)\n",
        "rfreg.fit(X.iloc[train], y.iloc[train])\n",
        "rfreg_ypred = rfreg.predict(X.iloc[test])\n",
        "mse = mean_squared_error(y.iloc[test], rfreg_ypred)\n",
        "print(\"RMSE:\", np.sqrt(mse))\n",
        "r_squared = r2_score(y.iloc[test], rfreg_ypred)\n",
        "print(\"R2 Score:\", r_squared)\n",
        "rfreg_test_pred = rfreg.predict(test_data)\n",
        "rfreg_test_pred"
      ],
      "metadata": {
        "colab": {
          "base_uri": "https://localhost:8080/"
        },
        "id": "i5m9oPwN5BX_",
        "outputId": "d9e4ac2c-747d-468b-b1a3-1b5a6dab667e"
      },
      "execution_count": 57,
      "outputs": [
        {
          "output_type": "stream",
          "name": "stdout",
          "text": [
            "RMSE: 15.839151006557945\n",
            "R2 Score: 0.893384650752133\n"
          ]
        },
        {
          "output_type": "execute_result",
          "data": {
            "text/plain": [
              "array([ 3.21,  3.05,  4.64, ..., 10.57, 14.35,  8.47])"
            ]
          },
          "metadata": {},
          "execution_count": 57
        }
      ]
    },
    {
      "cell_type": "code",
      "source": [
        "# since the RMSE is low for RF Regressor and R2 Score is less for RF Regressor\n",
        "# we save the predicted values from RF Regressor model\n",
        "test_data = pd.read_csv(\"https://raw.githubusercontent.com/unt-iialab/info5502-spring2022/main/datasets/lab_assignment_06/test_luc.csv\")\n",
        "test_data['count'] = rfreg_test_pred\n",
        "test_df = test_data[['datetime','count']].to_csv('MRoopesh_casual_customers_prediction.csv', index=False, header=True)"
      ],
      "metadata": {
        "id": "J3GMDEvz5IBL"
      },
      "execution_count": 58,
      "outputs": []
    },
    {
      "cell_type": "markdown",
      "source": [
        "# **Prediction of Registered Customers**"
      ],
      "metadata": {
        "id": "JkGW5qyU5L8a"
      }
    },
    {
      "cell_type": "code",
      "source": [
        "X = data.drop(['datetime','casual','registered', 'season', 'holiday', 'workingday', 'weather', 'day', 'count'], axis=1)\n",
        "X = X.join(one_hot_df)\n",
        "y = data['registered']"
      ],
      "metadata": {
        "id": "967nkp-k5QUC"
      },
      "execution_count": 59,
      "outputs": []
    },
    {
      "cell_type": "code",
      "source": [
        "test_data = pd.read_csv(\"https://raw.githubusercontent.com/unt-iialab/info5502-spring2022/main/datasets/lab_assignment_06/test_luc.csv\")\n",
        "\n",
        "test_data['datetime'] = pd.to_datetime(test_data.datetime)\n",
        "\n",
        "test_data['hour'] = test_data['datetime'].dt.hour\n",
        "#test_data['day'] = test_data['datetime'].dt.day\n",
        "test_data['month'] = test_data['datetime'].dt.month\n",
        "\n",
        "for i in ['season', 'weather', 'holiday', 'workingday']:\n",
        "    test_data[i] = test_data[i].astype('object')\n",
        "\n",
        "one_hot_test_data = pd.get_dummies(test_data[['season', 'holiday', 'workingday', 'weather']])\n",
        "test_data = test_data.drop(['datetime', 'season', 'holiday', 'workingday', 'weather'], axis=1)\n",
        "test_data = test_data.join(one_hot_test_data)\n",
        "test_data['weather_4'] = 0"
      ],
      "metadata": {
        "id": "2iq-6YE-5cBk"
      },
      "execution_count": 60,
      "outputs": []
    },
    {
      "cell_type": "markdown",
      "source": [
        "# **Registered Customers count prediction using Linear Regression**"
      ],
      "metadata": {
        "id": "QrLI46g45hMH"
      }
    },
    {
      "cell_type": "code",
      "source": [
        "# using Linear Regression to find the registered customers count\n",
        "lr = LinearRegression()\n",
        "lr.fit(X.iloc[train], y.iloc[train])\n",
        "lr_ypred = lr.predict(X.iloc[test])\n",
        "mse = mean_squared_error(y.iloc[test], lr_ypred)\n",
        "print(\"RMSE:\", np.sqrt(mse))\n",
        "r_squared = r2_score(y.iloc[test], lr_ypred)\n",
        "print(\"R2 Score:\", r_squared)\n",
        "lr_test_pred = lr.predict(test_data)\n",
        "lr_test_pred"
      ],
      "metadata": {
        "colab": {
          "base_uri": "https://localhost:8080/"
        },
        "id": "Qss7FXYe5kPZ",
        "outputId": "642414cb-613d-4444-87e0-9092cc2fefdf"
      },
      "execution_count": 61,
      "outputs": [
        {
          "output_type": "stream",
          "name": "stdout",
          "text": [
            "RMSE: 125.04783622720923\n",
            "R2 Score: 0.3098707130001175\n"
          ]
        },
        {
          "output_type": "execute_result",
          "data": {
            "text/plain": [
              "array([ -0.34145903,   9.03157265,  10.3157954 , ..., 235.58543462,\n",
              "       245.61933934, 242.05859399])"
            ]
          },
          "metadata": {},
          "execution_count": 61
        }
      ]
    },
    {
      "cell_type": "markdown",
      "source": [
        "# **Registered Customers count prediction using DecisionTreeRegressor**"
      ],
      "metadata": {
        "id": "TxGa6rZ65sVj"
      }
    },
    {
      "cell_type": "code",
      "source": [
        "from sklearn.tree import DecisionTreeRegressor\n",
        "# using Decision Tree Regressor to find the registered customers count\n",
        "dtreg = DecisionTreeRegressor(random_state=211)\n",
        "dtreg.fit(X.iloc[train], y.iloc[train])\n",
        "dtreg_ypred = dtreg.predict(X.iloc[test])\n",
        "mse = mean_squared_error(y.iloc[test], dtreg_ypred)\n",
        "print(\"RMSE:\", np.sqrt(mse))\n",
        "r_squared = r2_score(y.iloc[test], dtreg_ypred)\n",
        "print(\"R2 Score:\", r_squared)\n",
        "dtreg_test_pred = dtreg.predict(test_data)\n",
        "dtreg_test_pred"
      ],
      "metadata": {
        "colab": {
          "base_uri": "https://localhost:8080/"
        },
        "id": "jrmwBbpt5vYB",
        "outputId": "c3a8bf3b-8e02-496e-afe5-9b1fc5ad8ede"
      },
      "execution_count": 62,
      "outputs": [
        {
          "output_type": "stream",
          "name": "stdout",
          "text": [
            "RMSE: 76.53775680676823\n",
            "R2 Score: 0.7414589223949998\n"
          ]
        },
        {
          "output_type": "execute_result",
          "data": {
            "text/plain": [
              "array([ 42.,  42.,   6., ..., 130., 167., 108.])"
            ]
          },
          "metadata": {},
          "execution_count": 62
        }
      ]
    },
    {
      "cell_type": "markdown",
      "source": [
        "\n",
        "# **Registered Customers count prediction using RandomForestRegressor**"
      ],
      "metadata": {
        "id": "5smjiQ4a59Ac"
      }
    },
    {
      "cell_type": "code",
      "source": [
        "from sklearn.ensemble import RandomForestRegressor\n",
        "# using Random Forest Regressor to find the registered customers count\n",
        "rfreg = RandomForestRegressor(random_state = 211)\n",
        "rfreg.fit(X.iloc[train], y.iloc[train])\n",
        "rfreg_ypred = rfreg.predict(X.iloc[test])\n",
        "mse = mean_squared_error(y.iloc[test], rfreg_ypred)\n",
        "print(\"RMSE:\", np.sqrt(mse))\n",
        "r_squared = r2_score(y.iloc[test], rfreg_ypred)\n",
        "print(\"R2 Score:\",r_squared)\n",
        "rfreg_test_pred = rfreg.predict(test_data)\n",
        "rfreg_test_pred\n",
        "\n"
      ],
      "metadata": {
        "colab": {
          "base_uri": "https://localhost:8080/"
        },
        "id": "t86NEon35yD7",
        "outputId": "f82858c9-0ce2-4ae5-fc67-d3ffdd1d5ac9"
      },
      "execution_count": 63,
      "outputs": [
        {
          "output_type": "stream",
          "name": "stdout",
          "text": [
            "RMSE: 55.34615889182773\n",
            "R2 Score: 0.8648073545269834\n"
          ]
        },
        {
          "output_type": "execute_result",
          "data": {
            "text/plain": [
              "array([ 35.61,  32.44,  24.52, ..., 142.83, 142.47,  83.87])"
            ]
          },
          "metadata": {},
          "execution_count": 63
        }
      ]
    },
    {
      "cell_type": "markdown",
      "source": [
        ""
      ],
      "metadata": {
        "id": "AFrcmglI5hIr"
      }
    },
    {
      "cell_type": "code",
      "source": [
        "# since the RMSE is low for RF Regressor and R2 Score is less for RF Regressor\n",
        "# we save the predicted values from RF Regressor model\n",
        "test_data = pd.read_csv(\"https://raw.githubusercontent.com/unt-iialab/info5502-spring2022/main/datasets/lab_assignment_06/test_luc.csv\")\n",
        "test_data['count'] = rfreg_test_pred\n",
        "test_df = test_data[['datetime','count']].to_csv('MRoopesh_registered_customers_prediction.csv', index=False, header=True)"
      ],
      "metadata": {
        "id": "F8CA5Lhu6QYx"
      },
      "execution_count": 64,
      "outputs": []
    }
  ],
  "metadata": {
    "kernelspec": {
      "display_name": "Python 3",
      "language": "python",
      "name": "python3"
    },
    "language_info": {
      "codemirror_mode": {
        "name": "ipython",
        "version": 3
      },
      "file_extension": ".py",
      "mimetype": "text/x-python",
      "name": "python",
      "nbconvert_exporter": "python",
      "pygments_lexer": "ipython3",
      "version": "3.8.5"
    },
    "colab": {
      "name": "lab_assignment_06.ipynb",
      "provenance": [],
      "include_colab_link": true
    }
  },
  "nbformat": 4,
  "nbformat_minor": 0
}