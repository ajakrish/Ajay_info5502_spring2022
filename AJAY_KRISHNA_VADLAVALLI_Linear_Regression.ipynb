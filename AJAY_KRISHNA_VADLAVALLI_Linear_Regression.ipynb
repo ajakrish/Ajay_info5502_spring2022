{
  "nbformat": 4,
  "nbformat_minor": 0,
  "metadata": {
    "colab": {
      "provenance": [],
      "collapsed_sections": [],
      "include_colab_link": true
    },
    "kernelspec": {
      "name": "python3",
      "display_name": "Python 3"
    },
    "language_info": {
      "name": "python"
    }
  },
  "cells": [
    {
      "cell_type": "markdown",
      "metadata": {
        "id": "view-in-github",
        "colab_type": "text"
      },
      "source": [
        "<a href=\"https://colab.research.google.com/github/ajakrish/Ajay_info5502_spring2022/blob/main/AJAY_KRISHNA_VADLAVALLI_Linear_Regression.ipynb\" target=\"_parent\"><img src=\"https://colab.research.google.com/assets/colab-badge.svg\" alt=\"Open In Colab\"/></a>"
      ]
    },
    {
      "cell_type": "code",
      "execution_count": 1,
      "metadata": {
        "id": "Ap2SI-nOdxfh"
      },
      "outputs": [],
      "source": [
        "#importing required libraries\n",
        "import pandas as pd\n",
        "import numpy as np\n",
        "from matplotlib import pyplot as plt\n",
        "from sklearn import linear_model"
      ]
    },
    {
      "cell_type": "code",
      "source": [
        "\n",
        "MONET_CSV = pd.read_csv('/content/sample_data/monet.csv')"
      ],
      "metadata": {
        "id": "bmt8ceGjeDAA"
      },
      "execution_count": 3,
      "outputs": []
    },
    {
      "cell_type": "code",
      "source": [
        "MONET_CSV.head(3)"
      ],
      "metadata": {
        "colab": {
          "base_uri": "https://localhost:8080/",
          "height": 143
        },
        "id": "v9kyyLNNePcD",
        "outputId": "da3dd3d0-0d48-44d0-f70e-d0242e09e7fe"
      },
      "execution_count": 4,
      "outputs": [
        {
          "output_type": "execute_result",
          "data": {
            "text/plain": [
              "      PRICE  HEIGHT  WIDTH  SIGNED  PICTURE  HOUSE \n",
              "0  3.993780    21.3   25.6       1        1       1\n",
              "1  8.800000    31.9   25.6       1        2       2\n",
              "2  0.131694     6.9   15.9       0        3       3"
            ],
            "text/html": [
              "\n",
              "  <div id=\"df-269bd009-5b13-4723-8dd2-0fd91b3f3579\">\n",
              "    <div class=\"colab-df-container\">\n",
              "      <div>\n",
              "<style scoped>\n",
              "    .dataframe tbody tr th:only-of-type {\n",
              "        vertical-align: middle;\n",
              "    }\n",
              "\n",
              "    .dataframe tbody tr th {\n",
              "        vertical-align: top;\n",
              "    }\n",
              "\n",
              "    .dataframe thead th {\n",
              "        text-align: right;\n",
              "    }\n",
              "</style>\n",
              "<table border=\"1\" class=\"dataframe\">\n",
              "  <thead>\n",
              "    <tr style=\"text-align: right;\">\n",
              "      <th></th>\n",
              "      <th>PRICE</th>\n",
              "      <th>HEIGHT</th>\n",
              "      <th>WIDTH</th>\n",
              "      <th>SIGNED</th>\n",
              "      <th>PICTURE</th>\n",
              "      <th>HOUSE</th>\n",
              "    </tr>\n",
              "  </thead>\n",
              "  <tbody>\n",
              "    <tr>\n",
              "      <th>0</th>\n",
              "      <td>3.993780</td>\n",
              "      <td>21.3</td>\n",
              "      <td>25.6</td>\n",
              "      <td>1</td>\n",
              "      <td>1</td>\n",
              "      <td>1</td>\n",
              "    </tr>\n",
              "    <tr>\n",
              "      <th>1</th>\n",
              "      <td>8.800000</td>\n",
              "      <td>31.9</td>\n",
              "      <td>25.6</td>\n",
              "      <td>1</td>\n",
              "      <td>2</td>\n",
              "      <td>2</td>\n",
              "    </tr>\n",
              "    <tr>\n",
              "      <th>2</th>\n",
              "      <td>0.131694</td>\n",
              "      <td>6.9</td>\n",
              "      <td>15.9</td>\n",
              "      <td>0</td>\n",
              "      <td>3</td>\n",
              "      <td>3</td>\n",
              "    </tr>\n",
              "  </tbody>\n",
              "</table>\n",
              "</div>\n",
              "      <button class=\"colab-df-convert\" onclick=\"convertToInteractive('df-269bd009-5b13-4723-8dd2-0fd91b3f3579')\"\n",
              "              title=\"Convert this dataframe to an interactive table.\"\n",
              "              style=\"display:none;\">\n",
              "        \n",
              "  <svg xmlns=\"http://www.w3.org/2000/svg\" height=\"24px\"viewBox=\"0 0 24 24\"\n",
              "       width=\"24px\">\n",
              "    <path d=\"M0 0h24v24H0V0z\" fill=\"none\"/>\n",
              "    <path d=\"M18.56 5.44l.94 2.06.94-2.06 2.06-.94-2.06-.94-.94-2.06-.94 2.06-2.06.94zm-11 1L8.5 8.5l.94-2.06 2.06-.94-2.06-.94L8.5 2.5l-.94 2.06-2.06.94zm10 10l.94 2.06.94-2.06 2.06-.94-2.06-.94-.94-2.06-.94 2.06-2.06.94z\"/><path d=\"M17.41 7.96l-1.37-1.37c-.4-.4-.92-.59-1.43-.59-.52 0-1.04.2-1.43.59L10.3 9.45l-7.72 7.72c-.78.78-.78 2.05 0 2.83L4 21.41c.39.39.9.59 1.41.59.51 0 1.02-.2 1.41-.59l7.78-7.78 2.81-2.81c.8-.78.8-2.07 0-2.86zM5.41 20L4 18.59l7.72-7.72 1.47 1.35L5.41 20z\"/>\n",
              "  </svg>\n",
              "      </button>\n",
              "      \n",
              "  <style>\n",
              "    .colab-df-container {\n",
              "      display:flex;\n",
              "      flex-wrap:wrap;\n",
              "      gap: 12px;\n",
              "    }\n",
              "\n",
              "    .colab-df-convert {\n",
              "      background-color: #E8F0FE;\n",
              "      border: none;\n",
              "      border-radius: 50%;\n",
              "      cursor: pointer;\n",
              "      display: none;\n",
              "      fill: #1967D2;\n",
              "      height: 32px;\n",
              "      padding: 0 0 0 0;\n",
              "      width: 32px;\n",
              "    }\n",
              "\n",
              "    .colab-df-convert:hover {\n",
              "      background-color: #E2EBFA;\n",
              "      box-shadow: 0px 1px 2px rgba(60, 64, 67, 0.3), 0px 1px 3px 1px rgba(60, 64, 67, 0.15);\n",
              "      fill: #174EA6;\n",
              "    }\n",
              "\n",
              "    [theme=dark] .colab-df-convert {\n",
              "      background-color: #3B4455;\n",
              "      fill: #D2E3FC;\n",
              "    }\n",
              "\n",
              "    [theme=dark] .colab-df-convert:hover {\n",
              "      background-color: #434B5C;\n",
              "      box-shadow: 0px 1px 3px 1px rgba(0, 0, 0, 0.15);\n",
              "      filter: drop-shadow(0px 1px 2px rgba(0, 0, 0, 0.3));\n",
              "      fill: #FFFFFF;\n",
              "    }\n",
              "  </style>\n",
              "\n",
              "      <script>\n",
              "        const buttonEl =\n",
              "          document.querySelector('#df-269bd009-5b13-4723-8dd2-0fd91b3f3579 button.colab-df-convert');\n",
              "        buttonEl.style.display =\n",
              "          google.colab.kernel.accessAllowed ? 'block' : 'none';\n",
              "\n",
              "        async function convertToInteractive(key) {\n",
              "          const element = document.querySelector('#df-269bd009-5b13-4723-8dd2-0fd91b3f3579');\n",
              "          const dataTable =\n",
              "            await google.colab.kernel.invokeFunction('convertToInteractive',\n",
              "                                                     [key], {});\n",
              "          if (!dataTable) return;\n",
              "\n",
              "          const docLinkHtml = 'Like what you see? Visit the ' +\n",
              "            '<a target=\"_blank\" href=https://colab.research.google.com/notebooks/data_table.ipynb>data table notebook</a>'\n",
              "            + ' to learn more about interactive tables.';\n",
              "          element.innerHTML = '';\n",
              "          dataTable['output_type'] = 'display_data';\n",
              "          await google.colab.output.renderOutput(dataTable, element);\n",
              "          const docLink = document.createElement('div');\n",
              "          docLink.innerHTML = docLinkHtml;\n",
              "          element.appendChild(docLink);\n",
              "        }\n",
              "      </script>\n",
              "    </div>\n",
              "  </div>\n",
              "  "
            ]
          },
          "metadata": {},
          "execution_count": 4
        }
      ]
    },
    {
      "cell_type": "code",
      "source": [
        "MONET_CSV.tail(3)"
      ],
      "metadata": {
        "colab": {
          "base_uri": "https://localhost:8080/",
          "height": 143
        },
        "id": "cldATsG7fMYt",
        "outputId": "68d0cf39-a0dd-44a4-aef3-119f71439d36"
      },
      "execution_count": 5,
      "outputs": [
        {
          "output_type": "execute_result",
          "data": {
            "text/plain": [
              "      PRICE  HEIGHT  WIDTH  SIGNED  PICTURE  HOUSE \n",
              "427  8.2525    25.6   39.6       1      375       1\n",
              "428  3.4100    25.6   39.4       1      386       2\n",
              "429  1.5425    25.7   32.0       1      387       1"
            ],
            "text/html": [
              "\n",
              "  <div id=\"df-8373c1be-3bf7-4b82-ac3b-91e3b1e2ca83\">\n",
              "    <div class=\"colab-df-container\">\n",
              "      <div>\n",
              "<style scoped>\n",
              "    .dataframe tbody tr th:only-of-type {\n",
              "        vertical-align: middle;\n",
              "    }\n",
              "\n",
              "    .dataframe tbody tr th {\n",
              "        vertical-align: top;\n",
              "    }\n",
              "\n",
              "    .dataframe thead th {\n",
              "        text-align: right;\n",
              "    }\n",
              "</style>\n",
              "<table border=\"1\" class=\"dataframe\">\n",
              "  <thead>\n",
              "    <tr style=\"text-align: right;\">\n",
              "      <th></th>\n",
              "      <th>PRICE</th>\n",
              "      <th>HEIGHT</th>\n",
              "      <th>WIDTH</th>\n",
              "      <th>SIGNED</th>\n",
              "      <th>PICTURE</th>\n",
              "      <th>HOUSE</th>\n",
              "    </tr>\n",
              "  </thead>\n",
              "  <tbody>\n",
              "    <tr>\n",
              "      <th>427</th>\n",
              "      <td>8.2525</td>\n",
              "      <td>25.6</td>\n",
              "      <td>39.6</td>\n",
              "      <td>1</td>\n",
              "      <td>375</td>\n",
              "      <td>1</td>\n",
              "    </tr>\n",
              "    <tr>\n",
              "      <th>428</th>\n",
              "      <td>3.4100</td>\n",
              "      <td>25.6</td>\n",
              "      <td>39.4</td>\n",
              "      <td>1</td>\n",
              "      <td>386</td>\n",
              "      <td>2</td>\n",
              "    </tr>\n",
              "    <tr>\n",
              "      <th>429</th>\n",
              "      <td>1.5425</td>\n",
              "      <td>25.7</td>\n",
              "      <td>32.0</td>\n",
              "      <td>1</td>\n",
              "      <td>387</td>\n",
              "      <td>1</td>\n",
              "    </tr>\n",
              "  </tbody>\n",
              "</table>\n",
              "</div>\n",
              "      <button class=\"colab-df-convert\" onclick=\"convertToInteractive('df-8373c1be-3bf7-4b82-ac3b-91e3b1e2ca83')\"\n",
              "              title=\"Convert this dataframe to an interactive table.\"\n",
              "              style=\"display:none;\">\n",
              "        \n",
              "  <svg xmlns=\"http://www.w3.org/2000/svg\" height=\"24px\"viewBox=\"0 0 24 24\"\n",
              "       width=\"24px\">\n",
              "    <path d=\"M0 0h24v24H0V0z\" fill=\"none\"/>\n",
              "    <path d=\"M18.56 5.44l.94 2.06.94-2.06 2.06-.94-2.06-.94-.94-2.06-.94 2.06-2.06.94zm-11 1L8.5 8.5l.94-2.06 2.06-.94-2.06-.94L8.5 2.5l-.94 2.06-2.06.94zm10 10l.94 2.06.94-2.06 2.06-.94-2.06-.94-.94-2.06-.94 2.06-2.06.94z\"/><path d=\"M17.41 7.96l-1.37-1.37c-.4-.4-.92-.59-1.43-.59-.52 0-1.04.2-1.43.59L10.3 9.45l-7.72 7.72c-.78.78-.78 2.05 0 2.83L4 21.41c.39.39.9.59 1.41.59.51 0 1.02-.2 1.41-.59l7.78-7.78 2.81-2.81c.8-.78.8-2.07 0-2.86zM5.41 20L4 18.59l7.72-7.72 1.47 1.35L5.41 20z\"/>\n",
              "  </svg>\n",
              "      </button>\n",
              "      \n",
              "  <style>\n",
              "    .colab-df-container {\n",
              "      display:flex;\n",
              "      flex-wrap:wrap;\n",
              "      gap: 12px;\n",
              "    }\n",
              "\n",
              "    .colab-df-convert {\n",
              "      background-color: #E8F0FE;\n",
              "      border: none;\n",
              "      border-radius: 50%;\n",
              "      cursor: pointer;\n",
              "      display: none;\n",
              "      fill: #1967D2;\n",
              "      height: 32px;\n",
              "      padding: 0 0 0 0;\n",
              "      width: 32px;\n",
              "    }\n",
              "\n",
              "    .colab-df-convert:hover {\n",
              "      background-color: #E2EBFA;\n",
              "      box-shadow: 0px 1px 2px rgba(60, 64, 67, 0.3), 0px 1px 3px 1px rgba(60, 64, 67, 0.15);\n",
              "      fill: #174EA6;\n",
              "    }\n",
              "\n",
              "    [theme=dark] .colab-df-convert {\n",
              "      background-color: #3B4455;\n",
              "      fill: #D2E3FC;\n",
              "    }\n",
              "\n",
              "    [theme=dark] .colab-df-convert:hover {\n",
              "      background-color: #434B5C;\n",
              "      box-shadow: 0px 1px 3px 1px rgba(0, 0, 0, 0.15);\n",
              "      filter: drop-shadow(0px 1px 2px rgba(0, 0, 0, 0.3));\n",
              "      fill: #FFFFFF;\n",
              "    }\n",
              "  </style>\n",
              "\n",
              "      <script>\n",
              "        const buttonEl =\n",
              "          document.querySelector('#df-8373c1be-3bf7-4b82-ac3b-91e3b1e2ca83 button.colab-df-convert');\n",
              "        buttonEl.style.display =\n",
              "          google.colab.kernel.accessAllowed ? 'block' : 'none';\n",
              "\n",
              "        async function convertToInteractive(key) {\n",
              "          const element = document.querySelector('#df-8373c1be-3bf7-4b82-ac3b-91e3b1e2ca83');\n",
              "          const dataTable =\n",
              "            await google.colab.kernel.invokeFunction('convertToInteractive',\n",
              "                                                     [key], {});\n",
              "          if (!dataTable) return;\n",
              "\n",
              "          const docLinkHtml = 'Like what you see? Visit the ' +\n",
              "            '<a target=\"_blank\" href=https://colab.research.google.com/notebooks/data_table.ipynb>data table notebook</a>'\n",
              "            + ' to learn more about interactive tables.';\n",
              "          element.innerHTML = '';\n",
              "          dataTable['output_type'] = 'display_data';\n",
              "          await google.colab.output.renderOutput(dataTable, element);\n",
              "          const docLink = document.createElement('div');\n",
              "          docLink.innerHTML = docLinkHtml;\n",
              "          element.appendChild(docLink);\n",
              "        }\n",
              "      </script>\n",
              "    </div>\n",
              "  </div>\n",
              "  "
            ]
          },
          "metadata": {},
          "execution_count": 5
        }
      ]
    },
    {
      "cell_type": "code",
      "source": [
        "\n",
        "MONET_CSV.shape"
      ],
      "metadata": {
        "colab": {
          "base_uri": "https://localhost:8080/"
        },
        "id": "79KkG1ZbkZy7",
        "outputId": "a1e811da-0151-475e-a945-b85a782775e2"
      },
      "execution_count": 7,
      "outputs": [
        {
          "output_type": "execute_result",
          "data": {
            "text/plain": [
              "(430, 6)"
            ]
          },
          "metadata": {},
          "execution_count": 7
        }
      ]
    },
    {
      "cell_type": "code",
      "source": [
        "MONET_CSV.info()"
      ],
      "metadata": {
        "colab": {
          "base_uri": "https://localhost:8080/"
        },
        "id": "4IJtLWRCkdFT",
        "outputId": "b451f050-40b1-41fd-a2bf-26a8298d2ce9"
      },
      "execution_count": 8,
      "outputs": [
        {
          "output_type": "stream",
          "name": "stdout",
          "text": [
            "<class 'pandas.core.frame.DataFrame'>\n",
            "RangeIndex: 430 entries, 0 to 429\n",
            "Data columns (total 6 columns):\n",
            " #   Column   Non-Null Count  Dtype  \n",
            "---  ------   --------------  -----  \n",
            " 0   PRICE    430 non-null    float64\n",
            " 1   HEIGHT   430 non-null    float64\n",
            " 2   WIDTH    430 non-null    float64\n",
            " 3   SIGNED   430 non-null    int64  \n",
            " 4   PICTURE  430 non-null    int64  \n",
            " 5   HOUSE    430 non-null    int64  \n",
            "dtypes: float64(3), int64(3)\n",
            "memory usage: 20.3 KB\n"
          ]
        }
      ]
    },
    {
      "cell_type": "code",
      "source": [
        "\n",
        "MONET_CSV.isnull().sum()"
      ],
      "metadata": {
        "colab": {
          "base_uri": "https://localhost:8080/"
        },
        "id": "YVsN1RhE-8Qc",
        "outputId": "e91db63b-31c6-448d-8953-1b712cb12b30"
      },
      "execution_count": 9,
      "outputs": [
        {
          "output_type": "execute_result",
          "data": {
            "text/plain": [
              "PRICE      0\n",
              "HEIGHT     0\n",
              "WIDTH      0\n",
              "SIGNED     0\n",
              "PICTURE    0\n",
              "HOUSE      0\n",
              "dtype: int64"
            ]
          },
          "metadata": {},
          "execution_count": 9
        }
      ]
    },
    {
      "cell_type": "code",
      "source": [
        "MONET_CSV.duplicated().sum()"
      ],
      "metadata": {
        "colab": {
          "base_uri": "https://localhost:8080/"
        },
        "id": "LBIK5ccg_UI8",
        "outputId": "d676f139-d485-4658-9a1f-1c259f0593c3"
      },
      "execution_count": 10,
      "outputs": [
        {
          "output_type": "execute_result",
          "data": {
            "text/plain": [
              "0"
            ]
          },
          "metadata": {},
          "execution_count": 10
        }
      ]
    },
    {
      "cell_type": "code",
      "source": [
        "MONET_CSV['SIZE'] = MONET_CSV['HEIGHT']*MONET_CSV['WIDTH']"
      ],
      "metadata": {
        "id": "bC65YS-yke0H"
      },
      "execution_count": 11,
      "outputs": []
    },
    {
      "cell_type": "code",
      "source": [
        "MONET_CSV.head(4)"
      ],
      "metadata": {
        "colab": {
          "base_uri": "https://localhost:8080/",
          "height": 175
        },
        "id": "pPuNIipjlB62",
        "outputId": "59d550af-3b2d-43fe-d31d-491ad53cd08b"
      },
      "execution_count": 12,
      "outputs": [
        {
          "output_type": "execute_result",
          "data": {
            "text/plain": [
              "      PRICE  HEIGHT  WIDTH  SIGNED  PICTURE  HOUSE     SIZE\n",
              "0  3.993780    21.3   25.6       1        1       1  545.28\n",
              "1  8.800000    31.9   25.6       1        2       2  816.64\n",
              "2  0.131694     6.9   15.9       0        3       3  109.71\n",
              "3  2.037500    25.7   32.0       1        4       2  822.40"
            ],
            "text/html": [
              "\n",
              "  <div id=\"df-4d66f4a8-58c2-4de8-878d-d1ca4b1527c9\">\n",
              "    <div class=\"colab-df-container\">\n",
              "      <div>\n",
              "<style scoped>\n",
              "    .dataframe tbody tr th:only-of-type {\n",
              "        vertical-align: middle;\n",
              "    }\n",
              "\n",
              "    .dataframe tbody tr th {\n",
              "        vertical-align: top;\n",
              "    }\n",
              "\n",
              "    .dataframe thead th {\n",
              "        text-align: right;\n",
              "    }\n",
              "</style>\n",
              "<table border=\"1\" class=\"dataframe\">\n",
              "  <thead>\n",
              "    <tr style=\"text-align: right;\">\n",
              "      <th></th>\n",
              "      <th>PRICE</th>\n",
              "      <th>HEIGHT</th>\n",
              "      <th>WIDTH</th>\n",
              "      <th>SIGNED</th>\n",
              "      <th>PICTURE</th>\n",
              "      <th>HOUSE</th>\n",
              "      <th>SIZE</th>\n",
              "    </tr>\n",
              "  </thead>\n",
              "  <tbody>\n",
              "    <tr>\n",
              "      <th>0</th>\n",
              "      <td>3.993780</td>\n",
              "      <td>21.3</td>\n",
              "      <td>25.6</td>\n",
              "      <td>1</td>\n",
              "      <td>1</td>\n",
              "      <td>1</td>\n",
              "      <td>545.28</td>\n",
              "    </tr>\n",
              "    <tr>\n",
              "      <th>1</th>\n",
              "      <td>8.800000</td>\n",
              "      <td>31.9</td>\n",
              "      <td>25.6</td>\n",
              "      <td>1</td>\n",
              "      <td>2</td>\n",
              "      <td>2</td>\n",
              "      <td>816.64</td>\n",
              "    </tr>\n",
              "    <tr>\n",
              "      <th>2</th>\n",
              "      <td>0.131694</td>\n",
              "      <td>6.9</td>\n",
              "      <td>15.9</td>\n",
              "      <td>0</td>\n",
              "      <td>3</td>\n",
              "      <td>3</td>\n",
              "      <td>109.71</td>\n",
              "    </tr>\n",
              "    <tr>\n",
              "      <th>3</th>\n",
              "      <td>2.037500</td>\n",
              "      <td>25.7</td>\n",
              "      <td>32.0</td>\n",
              "      <td>1</td>\n",
              "      <td>4</td>\n",
              "      <td>2</td>\n",
              "      <td>822.40</td>\n",
              "    </tr>\n",
              "  </tbody>\n",
              "</table>\n",
              "</div>\n",
              "      <button class=\"colab-df-convert\" onclick=\"convertToInteractive('df-4d66f4a8-58c2-4de8-878d-d1ca4b1527c9')\"\n",
              "              title=\"Convert this dataframe to an interactive table.\"\n",
              "              style=\"display:none;\">\n",
              "        \n",
              "  <svg xmlns=\"http://www.w3.org/2000/svg\" height=\"24px\"viewBox=\"0 0 24 24\"\n",
              "       width=\"24px\">\n",
              "    <path d=\"M0 0h24v24H0V0z\" fill=\"none\"/>\n",
              "    <path d=\"M18.56 5.44l.94 2.06.94-2.06 2.06-.94-2.06-.94-.94-2.06-.94 2.06-2.06.94zm-11 1L8.5 8.5l.94-2.06 2.06-.94-2.06-.94L8.5 2.5l-.94 2.06-2.06.94zm10 10l.94 2.06.94-2.06 2.06-.94-2.06-.94-.94-2.06-.94 2.06-2.06.94z\"/><path d=\"M17.41 7.96l-1.37-1.37c-.4-.4-.92-.59-1.43-.59-.52 0-1.04.2-1.43.59L10.3 9.45l-7.72 7.72c-.78.78-.78 2.05 0 2.83L4 21.41c.39.39.9.59 1.41.59.51 0 1.02-.2 1.41-.59l7.78-7.78 2.81-2.81c.8-.78.8-2.07 0-2.86zM5.41 20L4 18.59l7.72-7.72 1.47 1.35L5.41 20z\"/>\n",
              "  </svg>\n",
              "      </button>\n",
              "      \n",
              "  <style>\n",
              "    .colab-df-container {\n",
              "      display:flex;\n",
              "      flex-wrap:wrap;\n",
              "      gap: 12px;\n",
              "    }\n",
              "\n",
              "    .colab-df-convert {\n",
              "      background-color: #E8F0FE;\n",
              "      border: none;\n",
              "      border-radius: 50%;\n",
              "      cursor: pointer;\n",
              "      display: none;\n",
              "      fill: #1967D2;\n",
              "      height: 32px;\n",
              "      padding: 0 0 0 0;\n",
              "      width: 32px;\n",
              "    }\n",
              "\n",
              "    .colab-df-convert:hover {\n",
              "      background-color: #E2EBFA;\n",
              "      box-shadow: 0px 1px 2px rgba(60, 64, 67, 0.3), 0px 1px 3px 1px rgba(60, 64, 67, 0.15);\n",
              "      fill: #174EA6;\n",
              "    }\n",
              "\n",
              "    [theme=dark] .colab-df-convert {\n",
              "      background-color: #3B4455;\n",
              "      fill: #D2E3FC;\n",
              "    }\n",
              "\n",
              "    [theme=dark] .colab-df-convert:hover {\n",
              "      background-color: #434B5C;\n",
              "      box-shadow: 0px 1px 3px 1px rgba(0, 0, 0, 0.15);\n",
              "      filter: drop-shadow(0px 1px 2px rgba(0, 0, 0, 0.3));\n",
              "      fill: #FFFFFF;\n",
              "    }\n",
              "  </style>\n",
              "\n",
              "      <script>\n",
              "        const buttonEl =\n",
              "          document.querySelector('#df-4d66f4a8-58c2-4de8-878d-d1ca4b1527c9 button.colab-df-convert');\n",
              "        buttonEl.style.display =\n",
              "          google.colab.kernel.accessAllowed ? 'block' : 'none';\n",
              "\n",
              "        async function convertToInteractive(key) {\n",
              "          const element = document.querySelector('#df-4d66f4a8-58c2-4de8-878d-d1ca4b1527c9');\n",
              "          const dataTable =\n",
              "            await google.colab.kernel.invokeFunction('convertToInteractive',\n",
              "                                                     [key], {});\n",
              "          if (!dataTable) return;\n",
              "\n",
              "          const docLinkHtml = 'Like what you see? Visit the ' +\n",
              "            '<a target=\"_blank\" href=https://colab.research.google.com/notebooks/data_table.ipynb>data table notebook</a>'\n",
              "            + ' to learn more about interactive tables.';\n",
              "          element.innerHTML = '';\n",
              "          dataTable['output_type'] = 'display_data';\n",
              "          await google.colab.output.renderOutput(dataTable, element);\n",
              "          const docLink = document.createElement('div');\n",
              "          docLink.innerHTML = docLinkHtml;\n",
              "          element.appendChild(docLink);\n",
              "        }\n",
              "      </script>\n",
              "    </div>\n",
              "  </div>\n",
              "  "
            ]
          },
          "metadata": {},
          "execution_count": 12
        }
      ]
    },
    {
      "cell_type": "code",
      "source": [
        "%matplotlib inline\n",
        "plt.xlabel('SIZE')\n",
        "plt.ylabel('PRICE')\n",
        "plt.scatter(MONET_CSV.SIZE, MONET_CSV.PRICE, color = 'Orange')\n"
      ],
      "metadata": {
        "colab": {
          "base_uri": "https://localhost:8080/",
          "height": 296
        },
        "id": "vLe1Jeh8lEEz",
        "outputId": "5943ae6f-f9cb-458d-8937-4f173af5a1a2"
      },
      "execution_count": 13,
      "outputs": [
        {
          "output_type": "execute_result",
          "data": {
            "text/plain": [
              "<matplotlib.collections.PathCollection at 0x7f56d382b110>"
            ]
          },
          "metadata": {},
          "execution_count": 13
        },
        {
          "output_type": "display_data",
          "data": {
            "text/plain": [
              "<Figure size 432x288 with 1 Axes>"
            ],
            "image/png": "[encoded data removed]"
          },
          "metadata": {
            "needs_background": "light"
          }
        }
      ]
    },
    {
      "cell_type": "markdown",
      "source": [
        "# **TASK-1**"
      ],
      "metadata": {
        "id": "OwjyfMIh1JWs"
      }
    },
    {
      "cell_type": "markdown",
      "source": [
        "WITH 'SIZE' AS INDEPENDENT VARIABLE"
      ],
      "metadata": {
        "id": "ZaQegPvq1XFC"
      }
    },
    {
      "cell_type": "code",
      "source": [
        "x = MONET_CSV['SIZE']\n",
        "x = np.reshape(np.array(x), (len(x), 1))\n",
        "y = MONET_CSV['PRICE']"
      ],
      "metadata": {
        "id": "Lf2jRL7FsUTy"
      },
      "execution_count": 14,
      "outputs": []
    },
    {
      "cell_type": "code",
      "source": [
        "from sklearn.model_selection import train_test_split"
      ],
      "metadata": {
        "id": "ZSvZrnyrtPLv"
      },
      "execution_count": 15,
      "outputs": []
    },
    {
      "cell_type": "code",
      "source": [
        "x_train, x_test, y_train, y_test = train_test_split(x, y, test_size = 0.3, random_state = 42)"
      ],
      "metadata": {
        "id": "91kvw5sRtc4g"
      },
      "execution_count": 16,
      "outputs": []
    },
    {
      "cell_type": "code",
      "source": [
        "model_1 = linear_model.LinearRegression()\n",
        "model_1.fit(x_train, y_train)"
      ],
      "metadata": {
        "colab": {
          "base_uri": "https://localhost:8080/"
        },
        "id": "sU64iG-dudbH",
        "outputId": "300a0de1-99b8-4fdd-e501-42cf7112cf32"
      },
      "execution_count": 17,
      "outputs": [
        {
          "output_type": "execute_result",
          "data": {
            "text/plain": [
              "LinearRegression()"
            ]
          },
          "metadata": {},
          "execution_count": 17
        }
      ]
    },
    {
      "cell_type": "code",
      "source": [
        "y_pred = model_1.predict(x_test)\n",
        "y_pred"
      ],
      "metadata": {
        "colab": {
          "base_uri": "https://localhost:8080/"
        },
        "id": "s08dnZ0NvF6o",
        "outputId": "46b62229-d87c-4701-94a8-9b106de14b51"
      },
      "execution_count": 18,
      "outputs": [
        {
          "output_type": "execute_result",
          "data": {
            "text/plain": [
              "array([ 8.73555414,  5.29361952,  3.2197981 ,  3.24662292,  3.26137302,\n",
              "        2.76692505,  2.95162092,  2.75593942,  3.2197981 ,  3.53179941,\n",
              "        3.22718499,  3.41375126,  2.55393645,  1.412828  ,  2.3167037 ,\n",
              "        2.52076648,  2.97281087,  2.63997475,  3.23192017,  3.22585914,\n",
              "        3.75975119,  5.30548116,  2.98649556,  3.50947301,  2.65418031,\n",
              "        2.55185297,  3.83946803,  1.94695682,  2.99553976,  1.97700157,\n",
              "        3.2197981 ,  3.10224714,  3.49907928,  3.49907928,  3.41375126,\n",
              "        2.63441091,  2.80812116,  3.18104061,  8.20426643,  3.45400033,\n",
              "        8.36708575,  2.97427878,  2.47303582,  2.80613238,  3.4854893 ,\n",
              "        3.35257267,  1.95562221,  2.63441091,  1.65785013,  2.53622686,\n",
              "        3.10056615,  4.01833962,  3.46337599,  2.3167037 ,  2.33900642,\n",
              "        2.513569  ,  2.16375724,  3.27254806,  3.4854893 ,  2.70136642,\n",
              "        2.22110033,  1.10738492,  2.14510062,  2.80812116,  2.97129562,\n",
              "        4.29061273,  3.21122742,  3.14337222,  3.53179941,  2.62932059,\n",
              "        3.27188513,  2.24880116,  2.64608314,  3.21726478,  2.48312176,\n",
              "        3.42587333,  3.02631846,  2.59020796,  3.49228429,  2.66462139,\n",
              "        2.75593942,  2.95917354,  2.95455674,  3.22718499,  2.53591907,\n",
              "        3.41375126,  2.79301592,  3.22718499,  3.53179941,  2.34409675,\n",
              "        2.83250736,  4.08486896,  3.22585914,  2.17801015,  2.080418  ,\n",
              "        2.36431598, 15.68983556,  1.54018079,  2.95917354,  2.78577108,\n",
              "        8.46988661,  8.1898478 ,  4.0254424 ,  2.95765828,  3.1991527 ,\n",
              "        2.72989591,  2.80812116,  3.44462466,  2.97281087,  3.2197981 ,\n",
              "        4.05972513,  2.9395462 ,  2.49680645,  3.42307957,  2.80812116,\n",
              "        2.3167037 ,  3.27018046,  2.13544084,  3.24053821,  3.34520946,\n",
              "        2.64449685,  3.22330214,  4.51449226,  3.13712178,  2.95917354,\n",
              "        2.32785506,  1.7874758 ,  2.95917354,  2.47303582])"
            ]
          },
          "metadata": {},
          "execution_count": 18
        }
      ]
    },
    {
      "cell_type": "code",
      "source": [
        "actual_pred_values = pd.DataFrame({\"ACTUAL\": y_test, 'PRED': y_pred})\n",
        "actual_pred_values.head()"
      ],
      "metadata": {
        "colab": {
          "base_uri": "https://localhost:8080/",
          "height": 206
        },
        "id": "9WqY5iorvWSi",
        "outputId": "5459bf60-1c29-47dd-dc62-0d35ab01cd65"
      },
      "execution_count": 19,
      "outputs": [
        {
          "output_type": "execute_result",
          "data": {
            "text/plain": [
              "      ACTUAL      PRED\n",
              "422  5.50250  8.735554\n",
              "75   6.10000  5.293620\n",
              "177  0.28600  3.219798\n",
              "30   3.48000  3.246623\n",
              "361  2.15073  3.261373"
            ],
            "text/html": [
              "\n",
              "  <div id=\"df-357cb75b-7b3e-4138-8dca-450db34a365c\">\n",
              "    <div class=\"colab-df-container\">\n",
              "      <div>\n",
              "<style scoped>\n",
              "    .dataframe tbody tr th:only-of-type {\n",
              "        vertical-align: middle;\n",
              "    }\n",
              "\n",
              "    .dataframe tbody tr th {\n",
              "        vertical-align: top;\n",
              "    }\n",
              "\n",
              "    .dataframe thead th {\n",
              "        text-align: right;\n",
              "    }\n",
              "</style>\n",
              "<table border=\"1\" class=\"dataframe\">\n",
              "  <thead>\n",
              "    <tr style=\"text-align: right;\">\n",
              "      <th></th>\n",
              "      <th>ACTUAL</th>\n",
              "      <th>PRED</th>\n",
              "    </tr>\n",
              "  </thead>\n",
              "  <tbody>\n",
              "    <tr>\n",
              "      <th>422</th>\n",
              "      <td>5.50250</td>\n",
              "      <td>8.735554</td>\n",
              "    </tr>\n",
              "    <tr>\n",
              "      <th>75</th>\n",
              "      <td>6.10000</td>\n",
              "      <td>5.293620</td>\n",
              "    </tr>\n",
              "    <tr>\n",
              "      <th>177</th>\n",
              "      <td>0.28600</td>\n",
              "      <td>3.219798</td>\n",
              "    </tr>\n",
              "    <tr>\n",
              "      <th>30</th>\n",
              "      <td>3.48000</td>\n",
              "      <td>3.246623</td>\n",
              "    </tr>\n",
              "    <tr>\n",
              "      <th>361</th>\n",
              "      <td>2.15073</td>\n",
              "      <td>3.261373</td>\n",
              "    </tr>\n",
              "  </tbody>\n",
              "</table>\n",
              "</div>\n",
              "      <button class=\"colab-df-convert\" onclick=\"convertToInteractive('df-357cb75b-7b3e-4138-8dca-450db34a365c')\"\n",
              "              title=\"Convert this dataframe to an interactive table.\"\n",
              "              style=\"display:none;\">\n",
              "        \n",
              "  <svg xmlns=\"http://www.w3.org/2000/svg\" height=\"24px\"viewBox=\"0 0 24 24\"\n",
              "       width=\"24px\">\n",
              "    <path d=\"M0 0h24v24H0V0z\" fill=\"none\"/>\n",
              "    <path d=\"M18.56 5.44l.94 2.06.94-2.06 2.06-.94-2.06-.94-.94-2.06-.94 2.06-2.06.94zm-11 1L8.5 8.5l.94-2.06 2.06-.94-2.06-.94L8.5 2.5l-.94 2.06-2.06.94zm10 10l.94 2.06.94-2.06 2.06-.94-2.06-.94-.94-2.06-.94 2.06-2.06.94z\"/><path d=\"M17.41 7.96l-1.37-1.37c-.4-.4-.92-.59-1.43-.59-.52 0-1.04.2-1.43.59L10.3 9.45l-7.72 7.72c-.78.78-.78 2.05 0 2.83L4 21.41c.39.39.9.59 1.41.59.51 0 1.02-.2 1.41-.59l7.78-7.78 2.81-2.81c.8-.78.8-2.07 0-2.86zM5.41 20L4 18.59l7.72-7.72 1.47 1.35L5.41 20z\"/>\n",
              "  </svg>\n",
              "      </button>\n",
              "      \n",
              "  <style>\n",
              "    .colab-df-container {\n",
              "      display:flex;\n",
              "      flex-wrap:wrap;\n",
              "      gap: 12px;\n",
              "    }\n",
              "\n",
              "    .colab-df-convert {\n",
              "      background-color: #E8F0FE;\n",
              "      border: none;\n",
              "      border-radius: 50%;\n",
              "      cursor: pointer;\n",
              "      display: none;\n",
              "      fill: #1967D2;\n",
              "      height: 32px;\n",
              "      padding: 0 0 0 0;\n",
              "      width: 32px;\n",
              "    }\n",
              "\n",
              "    .colab-df-convert:hover {\n",
              "      background-color: #E2EBFA;\n",
              "      box-shadow: 0px 1px 2px rgba(60, 64, 67, 0.3), 0px 1px 3px 1px rgba(60, 64, 67, 0.15);\n",
              "      fill: #174EA6;\n",
              "    }\n",
              "\n",
              "    [theme=dark] .colab-df-convert {\n",
              "      background-color: #3B4455;\n",
              "      fill: #D2E3FC;\n",
              "    }\n",
              "\n",
              "    [theme=dark] .colab-df-convert:hover {\n",
              "      background-color: #434B5C;\n",
              "      box-shadow: 0px 1px 3px 1px rgba(0, 0, 0, 0.15);\n",
              "      filter: drop-shadow(0px 1px 2px rgba(0, 0, 0, 0.3));\n",
              "      fill: #FFFFFF;\n",
              "    }\n",
              "  </style>\n",
              "\n",
              "      <script>\n",
              "        const buttonEl =\n",
              "          document.querySelector('#df-357cb75b-7b3e-4138-8dca-450db34a365c button.colab-df-convert');\n",
              "        buttonEl.style.display =\n",
              "          google.colab.kernel.accessAllowed ? 'block' : 'none';\n",
              "\n",
              "        async function convertToInteractive(key) {\n",
              "          const element = document.querySelector('#df-357cb75b-7b3e-4138-8dca-450db34a365c');\n",
              "          const dataTable =\n",
              "            await google.colab.kernel.invokeFunction('convertToInteractive',\n",
              "                                                     [key], {});\n",
              "          if (!dataTable) return;\n",
              "\n",
              "          const docLinkHtml = 'Like what you see? Visit the ' +\n",
              "            '<a target=\"_blank\" href=https://colab.research.google.com/notebooks/data_table.ipynb>data table notebook</a>'\n",
              "            + ' to learn more about interactive tables.';\n",
              "          element.innerHTML = '';\n",
              "          dataTable['output_type'] = 'display_data';\n",
              "          await google.colab.output.renderOutput(dataTable, element);\n",
              "          const docLink = document.createElement('div');\n",
              "          docLink.innerHTML = docLinkHtml;\n",
              "          element.appendChild(docLink);\n",
              "        }\n",
              "      </script>\n",
              "    </div>\n",
              "  </div>\n",
              "  "
            ]
          },
          "metadata": {},
          "execution_count": 19
        }
      ]
    },
    {
      "cell_type": "code",
      "source": [
        "fig = plt.subplots(figsize = (13,6))\n",
        "plt.scatter(x_train, y_train)\n",
        "plt.plot(x_test, y_pred, color = 'orange')\n",
        "plt.xlabel(\"size\")\n",
        "plt.ylabel(\"price\")\n",
        "plt.show()"
      ],
      "metadata": {
        "colab": {
          "base_uri": "https://localhost:8080/",
          "height": 388
        },
        "id": "Q-tMR0n6v3Mj",
        "outputId": "dc65dc79-7c72-4c27-b07e-6bdca1e71cb5"
      },
      "execution_count": 22,
      "outputs": [
        {
          "output_type": "display_data",
          "data": {
            "text/plain": [
              "<Figure size 936x432 with 1 Axes>"
            ],
            "image/png": "[encoded data removed]"
          },
          "metadata": {
            "needs_background": "light"
          }
        }
      ]
    },
    {
      "cell_type": "code",
      "source": [
        "from sklearn.metrics import r2_score\n",
        "from sklearn.metrics import mean_squared_error\n",
        "from sklearn.metrics import mean_absolute_error"
      ],
      "metadata": {
        "id": "V-NaqRRjxdaQ"
      },
      "execution_count": 23,
      "outputs": []
    },
    {
      "cell_type": "code",
      "source": [
        "r2 = r2_score(y_test, y_pred)\n",
        "mean_absolute_error = mean_absolute_error(y_test, y_pred)\n",
        "root_mean_squared_error =  np.sqrt(mean_squared_error(y_test, y_pred))"
      ],
      "metadata": {
        "id": "ZxxzXBwKysIr"
      },
      "execution_count": 24,
      "outputs": []
    },
    {
      "cell_type": "code",
      "source": [
        "print('r2_score = ', r2)\n",
        "print('mean_absolute_error = ', mean_absolute_error)\n",
        "print('root_mean_squared_error = ', root_mean_squared_error)"
      ],
      "metadata": {
        "colab": {
          "base_uri": "https://localhost:8080/"
        },
        "id": "9TufKRt9znKL",
        "outputId": "88625319-2705-491e-f600-64601c487ec4"
      },
      "execution_count": 25,
      "outputs": [
        {
          "output_type": "stream",
          "name": "stdout",
          "text": [
            "r2_score =  0.07842055918194912\n",
            "mean_absolute_error =  2.4024378443329524\n",
            "root_mean_squared_error =  3.9308035065398106\n"
          ]
        }
      ]
    },
    {
      "cell_type": "markdown",
      "source": [
        "BELOW  'WIDTH' AS INDEPENDENT VARIABLE"
      ],
      "metadata": {
        "id": "3c7P5Hbe08v0"
      }
    },
    {
      "cell_type": "code",
      "source": [
        "x = MONET_CSV['WIDTH']\n",
        "x = np.reshape(np.array(x), (len(x), 1))\n",
        "y = MONET_CSV['PRICE']"
      ],
      "metadata": {
        "id": "eKMu9n1izvqZ"
      },
      "execution_count": 26,
      "outputs": []
    },
    {
      "cell_type": "code",
      "source": [
        "x_train, x_test, y_train, y_test = train_test_split(x, y, test_size = 0.3, random_state = 42)"
      ],
      "metadata": {
        "id": "E29DwUmQ1-XM"
      },
      "execution_count": 27,
      "outputs": []
    },
    {
      "cell_type": "code",
      "source": [
        "model_2 = linear_model.LinearRegression()\n",
        "model_2.fit(x_train, y_train)"
      ],
      "metadata": {
        "colab": {
          "base_uri": "https://localhost:8080/"
        },
        "id": "rvrPqDAy2Dpe",
        "outputId": "a96b458e-565a-46c9-e6a7-4c06f5b7694b"
      },
      "execution_count": 28,
      "outputs": [
        {
          "output_type": "execute_result",
          "data": {
            "text/plain": [
              "LinearRegression()"
            ]
          },
          "metadata": {},
          "execution_count": 28
        }
      ]
    },
    {
      "cell_type": "code",
      "source": [
        "y_pred2 = model_2.predict(x_test)\n",
        "y_pred2"
      ],
      "metadata": {
        "colab": {
          "base_uri": "https://localhost:8080/"
        },
        "id": "H_Y2rbyt2Jk1",
        "outputId": "d8b446b5-11c2-49e5-f577-caa908c08985"
      },
      "execution_count": 29,
      "outputs": [
        {
          "output_type": "execute_result",
          "data": {
            "text/plain": [
              "array([ 7.28023593,  3.71521582,  3.92060793,  3.96462052,  3.97929139,\n",
              "        3.26041902,  3.28976075,  3.23107729,  3.92060793,  3.96462052,\n",
              "        4.3900756 ,  4.3900756 ,  3.3924568 ,  1.49991527,  2.36549628,\n",
              "        2.87897654,  3.30443161,  0.75170117,  3.94994966,  3.93527879,\n",
              "        3.92060793,  3.75922842,  3.31910248,  2.84963481,  2.84963481,\n",
              "        2.90831827,  2.79095135,  2.02806639,  2.42417974,  2.82029308,\n",
              "        3.92060793,  4.22869609,  3.94994966,  3.94994966,  4.3900756 ,\n",
              "        3.28976075,  3.28976075,  3.23107729,  6.98681864,  4.41941733,\n",
              "       10.15572539,  3.28976075,  2.82029308,  3.30443161,  3.92060793,\n",
              "        4.33139214,  1.79333256,  3.28976075,  0.81038463,  2.64424271,\n",
              "        2.54154665,  3.30443161,  4.41941733,  2.36549628,  1.76399083,\n",
              "        3.28976075,  1.49991527,  3.96462052,  3.92060793,  0.79571376,\n",
              "        2.35082541, -0.28993022,  1.49991527,  3.28976075,  2.36549628,\n",
              "        4.3900756 ,  3.92060793,  4.17001263,  3.96462052,  2.82029308,\n",
              "        3.80324101,  2.30681282,  2.86430568,  3.93527879,  2.84963481,\n",
              "        4.41941733,  3.37778594,  2.71759703,  3.93527879,  3.28976075,\n",
              "        3.23107729,  3.28976075,  3.26041902,  4.3900756 ,  2.73226789,\n",
              "        4.3900756 ,  2.04273726,  4.3900756 ,  3.96462052,  2.40950887,\n",
              "        3.33377334,  3.96462052,  3.93527879,  3.15772297,  2.40950887,\n",
              "        2.82029308, 10.15572539,  1.61728218,  3.28976075,  3.23107729,\n",
              "       10.19973799,  7.28023593,  3.92060793,  3.30443161,  3.8912662 ,\n",
              "        2.93766   ,  3.28976075,  4.41941733,  3.30443161,  3.92060793,\n",
              "        3.92060793,  3.26041902,  2.84963481,  4.3900756 ,  3.28976075,\n",
              "        2.36549628,  4.40474646,  2.24812936,  3.94994966,  3.20173556,\n",
              "        3.31910248,  3.94994966,  4.3900756 ,  3.6418615 ,  3.28976075,\n",
              "        2.87897654,  2.64424271,  3.28976075,  1.7346491 ])"
            ]
          },
          "metadata": {},
          "execution_count": 29
        }
      ]
    },
    {
      "cell_type": "code",
      "source": [
        "actual_pred_values = pd.DataFrame({\"ACTUAL\": y_test, 'PRED2': y_pred2})\n",
        "actual_pred_values.head()"
      ],
      "metadata": {
        "colab": {
          "base_uri": "https://localhost:8080/",
          "height": 206
        },
        "id": "o-t9rfUJ2NcK",
        "outputId": "86b943b5-e4d2-4e5f-e30b-d3041621ab53"
      },
      "execution_count": 30,
      "outputs": [
        {
          "output_type": "execute_result",
          "data": {
            "text/plain": [
              "      ACTUAL     PRED2\n",
              "422  5.50250  7.280236\n",
              "75   6.10000  3.715216\n",
              "177  0.28600  3.920608\n",
              "30   3.48000  3.964621\n",
              "361  2.15073  3.979291"
            ],
            "text/html": [
              "\n",
              "  <div id=\"df-fc33ff76-6e22-4e19-9a4e-89e9aae510a9\">\n",
              "    <div class=\"colab-df-container\">\n",
              "      <div>\n",
              "<style scoped>\n",
              "    .dataframe tbody tr th:only-of-type {\n",
              "        vertical-align: middle;\n",
              "    }\n",
              "\n",
              "    .dataframe tbody tr th {\n",
              "        vertical-align: top;\n",
              "    }\n",
              "\n",
              "    .dataframe thead th {\n",
              "        text-align: right;\n",
              "    }\n",
              "</style>\n",
              "<table border=\"1\" class=\"dataframe\">\n",
              "  <thead>\n",
              "    <tr style=\"text-align: right;\">\n",
              "      <th></th>\n",
              "      <th>ACTUAL</th>\n",
              "      <th>PRED2</th>\n",
              "    </tr>\n",
              "  </thead>\n",
              "  <tbody>\n",
              "    <tr>\n",
              "      <th>422</th>\n",
              "      <td>5.50250</td>\n",
              "      <td>7.280236</td>\n",
              "    </tr>\n",
              "    <tr>\n",
              "      <th>75</th>\n",
              "      <td>6.10000</td>\n",
              "      <td>3.715216</td>\n",
              "    </tr>\n",
              "    <tr>\n",
              "      <th>177</th>\n",
              "      <td>0.28600</td>\n",
              "      <td>3.920608</td>\n",
              "    </tr>\n",
              "    <tr>\n",
              "      <th>30</th>\n",
              "      <td>3.48000</td>\n",
              "      <td>3.964621</td>\n",
              "    </tr>\n",
              "    <tr>\n",
              "      <th>361</th>\n",
              "      <td>2.15073</td>\n",
              "      <td>3.979291</td>\n",
              "    </tr>\n",
              "  </tbody>\n",
              "</table>\n",
              "</div>\n",
              "      <button class=\"colab-df-convert\" onclick=\"convertToInteractive('df-fc33ff76-6e22-4e19-9a4e-89e9aae510a9')\"\n",
              "              title=\"Convert this dataframe to an interactive table.\"\n",
              "              style=\"display:none;\">\n",
              "        \n",
              "  <svg xmlns=\"http://www.w3.org/2000/svg\" height=\"24px\"viewBox=\"0 0 24 24\"\n",
              "       width=\"24px\">\n",
              "    <path d=\"M0 0h24v24H0V0z\" fill=\"none\"/>\n",
              "    <path d=\"M18.56 5.44l.94 2.06.94-2.06 2.06-.94-2.06-.94-.94-2.06-.94 2.06-2.06.94zm-11 1L8.5 8.5l.94-2.06 2.06-.94-2.06-.94L8.5 2.5l-.94 2.06-2.06.94zm10 10l.94 2.06.94-2.06 2.06-.94-2.06-.94-.94-2.06-.94 2.06-2.06.94z\"/><path d=\"M17.41 7.96l-1.37-1.37c-.4-.4-.92-.59-1.43-.59-.52 0-1.04.2-1.43.59L10.3 9.45l-7.72 7.72c-.78.78-.78 2.05 0 2.83L4 21.41c.39.39.9.59 1.41.59.51 0 1.02-.2 1.41-.59l7.78-7.78 2.81-2.81c.8-.78.8-2.07 0-2.86zM5.41 20L4 18.59l7.72-7.72 1.47 1.35L5.41 20z\"/>\n",
              "  </svg>\n",
              "      </button>\n",
              "      \n",
              "  <style>\n",
              "    .colab-df-container {\n",
              "      display:flex;\n",
              "      flex-wrap:wrap;\n",
              "      gap: 12px;\n",
              "    }\n",
              "\n",
              "    .colab-df-convert {\n",
              "      background-color: #E8F0FE;\n",
              "      border: none;\n",
              "      border-radius: 50%;\n",
              "      cursor: pointer;\n",
              "      display: none;\n",
              "      fill: #1967D2;\n",
              "      height: 32px;\n",
              "      padding: 0 0 0 0;\n",
              "      width: 32px;\n",
              "    }\n",
              "\n",
              "    .colab-df-convert:hover {\n",
              "      background-color: #E2EBFA;\n",
              "      box-shadow: 0px 1px 2px rgba(60, 64, 67, 0.3), 0px 1px 3px 1px rgba(60, 64, 67, 0.15);\n",
              "      fill: #174EA6;\n",
              "    }\n",
              "\n",
              "    [theme=dark] .colab-df-convert {\n",
              "      background-color: #3B4455;\n",
              "      fill: #D2E3FC;\n",
              "    }\n",
              "\n",
              "    [theme=dark] .colab-df-convert:hover {\n",
              "      background-color: #434B5C;\n",
              "      box-shadow: 0px 1px 3px 1px rgba(0, 0, 0, 0.15);\n",
              "      filter: drop-shadow(0px 1px 2px rgba(0, 0, 0, 0.3));\n",
              "      fill: #FFFFFF;\n",
              "    }\n",
              "  </style>\n",
              "\n",
              "      <script>\n",
              "        const buttonEl =\n",
              "          document.querySelector('#df-fc33ff76-6e22-4e19-9a4e-89e9aae510a9 button.colab-df-convert');\n",
              "        buttonEl.style.display =\n",
              "          google.colab.kernel.accessAllowed ? 'block' : 'none';\n",
              "\n",
              "        async function convertToInteractive(key) {\n",
              "          const element = document.querySelector('#df-fc33ff76-6e22-4e19-9a4e-89e9aae510a9');\n",
              "          const dataTable =\n",
              "            await google.colab.kernel.invokeFunction('convertToInteractive',\n",
              "                                                     [key], {});\n",
              "          if (!dataTable) return;\n",
              "\n",
              "          const docLinkHtml = 'Like what you see? Visit the ' +\n",
              "            '<a target=\"_blank\" href=https://colab.research.google.com/notebooks/data_table.ipynb>data table notebook</a>'\n",
              "            + ' to learn more about interactive tables.';\n",
              "          element.innerHTML = '';\n",
              "          dataTable['output_type'] = 'display_data';\n",
              "          await google.colab.output.renderOutput(dataTable, element);\n",
              "          const docLink = document.createElement('div');\n",
              "          docLink.innerHTML = docLinkHtml;\n",
              "          element.appendChild(docLink);\n",
              "        }\n",
              "      </script>\n",
              "    </div>\n",
              "  </div>\n",
              "  "
            ]
          },
          "metadata": {},
          "execution_count": 30
        }
      ]
    },
    {
      "cell_type": "code",
      "source": [
        "fig = plt.subplots(figsize = (13,6))\n",
        "plt.scatter(x_train, y_train)\n",
        "plt.plot(x_test, y_pred2, color = 'orange')\n",
        "plt.xlabel(\"width\")\n",
        "plt.ylabel(\"price\")\n",
        "plt.show()"
      ],
      "metadata": {
        "colab": {
          "base_uri": "https://localhost:8080/",
          "height": 388
        },
        "id": "eIHaqb8T2Rm6",
        "outputId": "fc022827-2908-4fe8-f31a-ef980d37f9e3"
      },
      "execution_count": 32,
      "outputs": [
        {
          "output_type": "display_data",
          "data": {
            "text/plain": [
              "<Figure size 936x432 with 1 Axes>"
            ],
            "image/png": "[encoded data removed]"
          },
          "metadata": {
            "needs_background": "light"
          }
        }
      ]
    },
    {
      "cell_type": "code",
      "source": [
        "from sklearn.metrics import r2_score\n",
        "from sklearn.metrics import mean_squared_error\n",
        "from sklearn.metrics import mean_absolute_error"
      ],
      "metadata": {
        "id": "uqJw02RD90co"
      },
      "execution_count": 33,
      "outputs": []
    },
    {
      "cell_type": "code",
      "source": [
        "r2 = r2_score(y_test, y_pred2)\n",
        "mean_absolute_error1 = mean_absolute_error(y_test,y_pred2)\n",
        "root_mean_squared_error =  np.sqrt(mean_squared_error(y_test, y_pred2))"
      ],
      "metadata": {
        "id": "EqVTZzkF4j8Z"
      },
      "execution_count": 34,
      "outputs": []
    },
    {
      "cell_type": "code",
      "source": [
        "print('r2_score = ', r2)\n",
        "print('mean_absolute_error = ', mean_absolute_error)\n",
        "print('root_mean_squared_error = ', root_mean_squared_error)"
      ],
      "metadata": {
        "colab": {
          "base_uri": "https://localhost:8080/"
        },
        "id": "_BUpx-n65_iw",
        "outputId": "06280652-e95f-4dbd-8654-adf0f4a4f8c7"
      },
      "execution_count": 35,
      "outputs": [
        {
          "output_type": "stream",
          "name": "stdout",
          "text": [
            "r2_score =  0.08703578154399716\n",
            "mean_absolute_error =  <function mean_absolute_error at 0x7f56d3af8f80>\n",
            "root_mean_squared_error =  3.9123871543921886\n"
          ]
        }
      ]
    },
    {
      "cell_type": "markdown",
      "source": [
        "## **TASK-2 **"
      ],
      "metadata": {
        "id": "vhJDKU0L-l0J"
      }
    },
    {
      "cell_type": "code",
      "source": [
        "from sklearn.preprocessing import MinMaxScaler\n",
        "import seaborn as sns"
      ],
      "metadata": {
        "id": "GFLgwk-w-E-H"
      },
      "execution_count": 36,
      "outputs": []
    },
    {
      "cell_type": "code",
      "source": [
        "norm = MinMaxScaler().fit_transform(MONET_CSV)\n",
        "norm = pd.DataFrame(norm, columns = MONET_CSV.columns)\n",
        "norm"
      ],
      "metadata": {
        "colab": {
          "base_uri": "https://localhost:8080/",
          "height": 424
        },
        "id": "1-nkplWVAvoH",
        "outputId": "a6b56cad-9c9d-43de-82ed-74b12660b55a"
      },
      "execution_count": 37,
      "outputs": [
        {
          "output_type": "execute_result",
          "data": {
            "text/plain": [
              "        PRICE    HEIGHT     WIDTH  SIGNED   PICTURE  HOUSE       SIZE\n",
              "0    0.120697  0.232620  0.229648     1.0  0.000000     0.0  0.084174\n",
              "1    0.266326  0.374332  0.229648     1.0  0.002591     0.5  0.128172\n",
              "2    0.003675  0.040107  0.111786     0.0  0.005181     1.0  0.013552\n",
              "3    0.061421  0.291444  0.307412     1.0  0.007772     0.5  0.129106\n",
              "4    0.044756  0.291444  0.307412     1.0  0.007772     0.5  0.129106\n",
              "..        ...       ...       ...     ...       ...     ...       ...\n",
              "425  0.159745  0.290107  0.397327     1.0  0.968912     0.0  0.159303\n",
              "426  0.283067  0.294118  0.399757     1.0  0.968912     0.5  0.162059\n",
              "427  0.249737  0.290107  0.399757     1.0  0.968912     0.0  0.160133\n",
              "428  0.103008  0.290107  0.397327     1.0  0.997409     0.5  0.159303\n",
              "429  0.046423  0.291444  0.307412     1.0  1.000000     0.0  0.129106\n",
              "\n",
              "[430 rows x 7 columns]"
            ],
            "text/html": [
              "\n",
              "  <div id=\"df-48c7766d-ed89-4f7d-a005-c2e22aeb57c0\">\n",
              "    <div class=\"colab-df-container\">\n",
              "      <div>\n",
              "<style scoped>\n",
              "    .dataframe tbody tr th:only-of-type {\n",
              "        vertical-align: middle;\n",
              "    }\n",
              "\n",
              "    .dataframe tbody tr th {\n",
              "        vertical-align: top;\n",
              "    }\n",
              "\n",
              "    .dataframe thead th {\n",
              "        text-align: right;\n",
              "    }\n",
              "</style>\n",
              "<table border=\"1\" class=\"dataframe\">\n",
              "  <thead>\n",
              "    <tr style=\"text-align: right;\">\n",
              "      <th></th>\n",
              "      <th>PRICE</th>\n",
              "      <th>HEIGHT</th>\n",
              "      <th>WIDTH</th>\n",
              "      <th>SIGNED</th>\n",
              "      <th>PICTURE</th>\n",
              "      <th>HOUSE</th>\n",
              "      <th>SIZE</th>\n",
              "    </tr>\n",
              "  </thead>\n",
              "  <tbody>\n",
              "    <tr>\n",
              "      <th>0</th>\n",
              "      <td>0.120697</td>\n",
              "      <td>0.232620</td>\n",
              "      <td>0.229648</td>\n",
              "      <td>1.0</td>\n",
              "      <td>0.000000</td>\n",
              "      <td>0.0</td>\n",
              "      <td>0.084174</td>\n",
              "    </tr>\n",
              "    <tr>\n",
              "      <th>1</th>\n",
              "      <td>0.266326</td>\n",
              "      <td>0.374332</td>\n",
              "      <td>0.229648</td>\n",
              "      <td>1.0</td>\n",
              "      <td>0.002591</td>\n",
              "      <td>0.5</td>\n",
              "      <td>0.128172</td>\n",
              "    </tr>\n",
              "    <tr>\n",
              "      <th>2</th>\n",
              "      <td>0.003675</td>\n",
              "      <td>0.040107</td>\n",
              "      <td>0.111786</td>\n",
              "      <td>0.0</td>\n",
              "      <td>0.005181</td>\n",
              "      <td>1.0</td>\n",
              "      <td>0.013552</td>\n",
              "    </tr>\n",
              "    <tr>\n",
              "      <th>3</th>\n",
              "      <td>0.061421</td>\n",
              "      <td>0.291444</td>\n",
              "      <td>0.307412</td>\n",
              "      <td>1.0</td>\n",
              "      <td>0.007772</td>\n",
              "      <td>0.5</td>\n",
              "      <td>0.129106</td>\n",
              "    </tr>\n",
              "    <tr>\n",
              "      <th>4</th>\n",
              "      <td>0.044756</td>\n",
              "      <td>0.291444</td>\n",
              "      <td>0.307412</td>\n",
              "      <td>1.0</td>\n",
              "      <td>0.007772</td>\n",
              "      <td>0.5</td>\n",
              "      <td>0.129106</td>\n",
              "    </tr>\n",
              "    <tr>\n",
              "      <th>...</th>\n",
              "      <td>...</td>\n",
              "      <td>...</td>\n",
              "      <td>...</td>\n",
              "      <td>...</td>\n",
              "      <td>...</td>\n",
              "      <td>...</td>\n",
              "      <td>...</td>\n",
              "    </tr>\n",
              "    <tr>\n",
              "      <th>425</th>\n",
              "      <td>0.159745</td>\n",
              "      <td>0.290107</td>\n",
              "      <td>0.397327</td>\n",
              "      <td>1.0</td>\n",
              "      <td>0.968912</td>\n",
              "      <td>0.0</td>\n",
              "      <td>0.159303</td>\n",
              "    </tr>\n",
              "    <tr>\n",
              "      <th>426</th>\n",
              "      <td>0.283067</td>\n",
              "      <td>0.294118</td>\n",
              "      <td>0.399757</td>\n",
              "      <td>1.0</td>\n",
              "      <td>0.968912</td>\n",
              "      <td>0.5</td>\n",
              "      <td>0.162059</td>\n",
              "    </tr>\n",
              "    <tr>\n",
              "      <th>427</th>\n",
              "      <td>0.249737</td>\n",
              "      <td>0.290107</td>\n",
              "      <td>0.399757</td>\n",
              "      <td>1.0</td>\n",
              "      <td>0.968912</td>\n",
              "      <td>0.0</td>\n",
              "      <td>0.160133</td>\n",
              "    </tr>\n",
              "    <tr>\n",
              "      <th>428</th>\n",
              "      <td>0.103008</td>\n",
              "      <td>0.290107</td>\n",
              "      <td>0.397327</td>\n",
              "      <td>1.0</td>\n",
              "      <td>0.997409</td>\n",
              "      <td>0.5</td>\n",
              "      <td>0.159303</td>\n",
              "    </tr>\n",
              "    <tr>\n",
              "      <th>429</th>\n",
              "      <td>0.046423</td>\n",
              "      <td>0.291444</td>\n",
              "      <td>0.307412</td>\n",
              "      <td>1.0</td>\n",
              "      <td>1.000000</td>\n",
              "      <td>0.0</td>\n",
              "      <td>0.129106</td>\n",
              "    </tr>\n",
              "  </tbody>\n",
              "</table>\n",
              "<p>430 rows × 7 columns</p>\n",
              "</div>\n",
              "      <button class=\"colab-df-convert\" onclick=\"convertToInteractive('df-48c7766d-ed89-4f7d-a005-c2e22aeb57c0')\"\n",
              "              title=\"Convert this dataframe to an interactive table.\"\n",
              "              style=\"display:none;\">\n",
              "        \n",
              "  <svg xmlns=\"http://www.w3.org/2000/svg\" height=\"24px\"viewBox=\"0 0 24 24\"\n",
              "       width=\"24px\">\n",
              "    <path d=\"M0 0h24v24H0V0z\" fill=\"none\"/>\n",
              "    <path d=\"M18.56 5.44l.94 2.06.94-2.06 2.06-.94-2.06-.94-.94-2.06-.94 2.06-2.06.94zm-11 1L8.5 8.5l.94-2.06 2.06-.94-2.06-.94L8.5 2.5l-.94 2.06-2.06.94zm10 10l.94 2.06.94-2.06 2.06-.94-2.06-.94-.94-2.06-.94 2.06-2.06.94z\"/><path d=\"M17.41 7.96l-1.37-1.37c-.4-.4-.92-.59-1.43-.59-.52 0-1.04.2-1.43.59L10.3 9.45l-7.72 7.72c-.78.78-.78 2.05 0 2.83L4 21.41c.39.39.9.59 1.41.59.51 0 1.02-.2 1.41-.59l7.78-7.78 2.81-2.81c.8-.78.8-2.07 0-2.86zM5.41 20L4 18.59l7.72-7.72 1.47 1.35L5.41 20z\"/>\n",
              "  </svg>\n",
              "      </button>\n",
              "      \n",
              "  <style>\n",
              "    .colab-df-container {\n",
              "      display:flex;\n",
              "      flex-wrap:wrap;\n",
              "      gap: 12px;\n",
              "    }\n",
              "\n",
              "    .colab-df-convert {\n",
              "      background-color: #E8F0FE;\n",
              "      border: none;\n",
              "      border-radius: 50%;\n",
              "      cursor: pointer;\n",
              "      display: none;\n",
              "      fill: #1967D2;\n",
              "      height: 32px;\n",
              "      padding: 0 0 0 0;\n",
              "      width: 32px;\n",
              "    }\n",
              "\n",
              "    .colab-df-convert:hover {\n",
              "      background-color: #E2EBFA;\n",
              "      box-shadow: 0px 1px 2px rgba(60, 64, 67, 0.3), 0px 1px 3px 1px rgba(60, 64, 67, 0.15);\n",
              "      fill: #174EA6;\n",
              "    }\n",
              "\n",
              "    [theme=dark] .colab-df-convert {\n",
              "      background-color: #3B4455;\n",
              "      fill: #D2E3FC;\n",
              "    }\n",
              "\n",
              "    [theme=dark] .colab-df-convert:hover {\n",
              "      background-color: #434B5C;\n",
              "      box-shadow: 0px 1px 3px 1px rgba(0, 0, 0, 0.15);\n",
              "      filter: drop-shadow(0px 1px 2px rgba(0, 0, 0, 0.3));\n",
              "      fill: #FFFFFF;\n",
              "    }\n",
              "  </style>\n",
              "\n",
              "      <script>\n",
              "        const buttonEl =\n",
              "          document.querySelector('#df-48c7766d-ed89-4f7d-a005-c2e22aeb57c0 button.colab-df-convert');\n",
              "        buttonEl.style.display =\n",
              "          google.colab.kernel.accessAllowed ? 'block' : 'none';\n",
              "\n",
              "        async function convertToInteractive(key) {\n",
              "          const element = document.querySelector('#df-48c7766d-ed89-4f7d-a005-c2e22aeb57c0');\n",
              "          const dataTable =\n",
              "            await google.colab.kernel.invokeFunction('convertToInteractive',\n",
              "                                                     [key], {});\n",
              "          if (!dataTable) return;\n",
              "\n",
              "          const docLinkHtml = 'Like what you see? Visit the ' +\n",
              "            '<a target=\"_blank\" href=https://colab.research.google.com/notebooks/data_table.ipynb>data table notebook</a>'\n",
              "            + ' to learn more about interactive tables.';\n",
              "          element.innerHTML = '';\n",
              "          dataTable['output_type'] = 'display_data';\n",
              "          await google.colab.output.renderOutput(dataTable, element);\n",
              "          const docLink = document.createElement('div');\n",
              "          docLink.innerHTML = docLinkHtml;\n",
              "          element.appendChild(docLink);\n",
              "        }\n",
              "      </script>\n",
              "    </div>\n",
              "  </div>\n",
              "  "
            ]
          },
          "metadata": {},
          "execution_count": 37
        }
      ]
    },
    {
      "cell_type": "code",
      "source": [
        "plt.figure(figsize = (13,6))\n",
        "sns.heatmap(norm.corr(), annot = True)"
      ],
      "metadata": {
        "colab": {
          "base_uri": "https://localhost:8080/",
          "height": 395
        },
        "id": "pB_9P6lEBDAO",
        "outputId": "79904098-22a4-4101-fafc-fbac014dfec7"
      },
      "execution_count": 38,
      "outputs": [
        {
          "output_type": "execute_result",
          "data": {
            "text/plain": [
              "<matplotlib.axes._subplots.AxesSubplot at 0x7f56d23732d0>"
            ]
          },
          "metadata": {},
          "execution_count": 38
        },
        {
          "output_type": "display_data",
          "data": {
            "text/plain": [
              "<Figure size 936x432 with 2 Axes>"
            ],
            "image/png": "[encoded data removed]"
          },
          "metadata": {
            "needs_background": "light"
          }
        }
      ]
    },
    {
      "cell_type": "code",
      "source": [
        "x = MONET_CSV[['WIDTH', 'HEIGHT', 'SIZE']]\n",
        "y = MONET_CSV['PRICE']"
      ],
      "metadata": {
        "id": "Nb8fkSKnDykt"
      },
      "execution_count": 39,
      "outputs": []
    },
    {
      "cell_type": "code",
      "source": [
        "x_train, x_test, y_train, y_test = train_test_split(x, y, test_size = 0.3, random_state = 42)"
      ],
      "metadata": {
        "id": "TqieUDc2F_ov"
      },
      "execution_count": 40,
      "outputs": []
    },
    {
      "cell_type": "code",
      "source": [
        "model_3 = linear_model.LinearRegression()\n",
        "model_3.fit(x_train, y_train)"
      ],
      "metadata": {
        "colab": {
          "base_uri": "https://localhost:8080/"
        },
        "id": "JHrFZuGGG0GY",
        "outputId": "3c2dea0e-339d-46df-8a2b-18591fccf088"
      },
      "execution_count": 41,
      "outputs": [
        {
          "output_type": "execute_result",
          "data": {
            "text/plain": [
              "LinearRegression()"
            ]
          },
          "metadata": {},
          "execution_count": 41
        }
      ]
    },
    {
      "cell_type": "code",
      "source": [
        "y_pred3 = model_3.predict(x_test)\n",
        "y_pred3"
      ],
      "metadata": {
        "colab": {
          "base_uri": "https://localhost:8080/"
        },
        "id": "HNawRP-VG6IZ",
        "outputId": "acfaacc9-7d92-4ed0-eca5-dddfc61209e9"
      },
      "execution_count": 42,
      "outputs": [
        {
          "output_type": "execute_result",
          "data": {
            "text/plain": [
              "array([ 7.7951066 ,  5.6647729 ,  3.72742791,  3.77401135,  3.79469158,\n",
              "        2.93807665,  3.16267305,  2.91135245,  3.72742791,  4.03082253,\n",
              "        3.99601664,  4.14130826,  2.7700765 , -0.27167383,  1.93816554,\n",
              "        2.45411905,  3.19279524,  3.40048307,  3.75329544,  3.74036167,\n",
              "        4.22107697,  5.66545003,  3.2142786 ,  3.76108955,  2.61876924,\n",
              "        2.50858019,  4.21433064,  1.15668904,  3.02617715,  1.69318198,\n",
              "        3.72742791,  3.79759251,  3.99509557,  3.99509557,  4.14130826,\n",
              "        2.8013412 ,  2.99921341,  3.40580061,  7.5596196 ,  4.18886245,\n",
              "        9.25885042,  3.18848247,  2.36290277,  3.00391882,  3.97033459,\n",
              "        4.06022934,  1.0702642 ,  2.8013412 ,  0.07916075,  2.37686847,\n",
              "        3.18710285,  4.37756552,  4.19609133,  1.93816554,  1.8470836 ,\n",
              "        2.66369097,  1.46399103,  3.79735782,  3.97033459,  3.52108456,\n",
              "        1.77828371, -2.70572361,  1.42086892,  2.99921341,  2.98873857,\n",
              "        4.8241789 ,  3.71959221,  3.79665599,  4.03082253,  2.57391069,\n",
              "        3.71969957,  1.8049694 ,  2.61378282,  3.73254382,  2.39030517,\n",
              "        4.16717579,  3.28286298,  2.48087572,  3.98271508,  2.83575376,\n",
              "        2.91135245,  3.17127619,  3.1540475 ,  3.99601664,  2.41063435,\n",
              "        4.14130826,  2.70947733,  3.99601664,  4.03082253,  1.99861712,\n",
              "        3.04763513,  4.52888058,  3.74036167,  2.18725948,  1.58263573,\n",
              "        2.21611465,  9.35731143,  0.10116531,  3.17127619,  2.94605057,\n",
              "        9.29105084,  7.64890982,  4.46398365,  3.17562466,  3.693689  ,\n",
              "        2.75248819,  2.99921341,  4.18163356,  3.19279524,  3.72742791,\n",
              "        4.49532645,  3.13676984,  2.4085823 ,  4.14857285,  2.99921341,\n",
              "        1.93816554,  4.03829429,  1.59166855,  3.76109544,  3.59015639,\n",
              "        2.8287436 ,  3.74549543,  4.99852885,  3.51438566,  3.17127619,\n",
              "        2.19923875,  1.2971994 ,  3.17127619,  2.12564154])"
            ]
          },
          "metadata": {},
          "execution_count": 42
        }
      ]
    },
    {
      "cell_type": "code",
      "source": [
        "actual_pred_values = pd.DataFrame({\"ACTUAL\": y_test, 'PRED3': y_pred3})\n",
        "actual_pred_values.head()"
      ],
      "metadata": {
        "colab": {
          "base_uri": "https://localhost:8080/",
          "height": 206
        },
        "id": "QiskG8VLG_KF",
        "outputId": "7b53be65-bdba-4d87-ac03-e75b24e11b81"
      },
      "execution_count": 43,
      "outputs": [
        {
          "output_type": "execute_result",
          "data": {
            "text/plain": [
              "      ACTUAL     PRED3\n",
              "422  5.50250  7.795107\n",
              "75   6.10000  5.664773\n",
              "177  0.28600  3.727428\n",
              "30   3.48000  3.774011\n",
              "361  2.15073  3.794692"
            ],
            "text/html": [
              "\n",
              "  <div id=\"df-f56c46d4-101d-4ac3-9944-f0152be9ef36\">\n",
              "    <div class=\"colab-df-container\">\n",
              "      <div>\n",
              "<style scoped>\n",
              "    .dataframe tbody tr th:only-of-type {\n",
              "        vertical-align: middle;\n",
              "    }\n",
              "\n",
              "    .dataframe tbody tr th {\n",
              "        vertical-align: top;\n",
              "    }\n",
              "\n",
              "    .dataframe thead th {\n",
              "        text-align: right;\n",
              "    }\n",
              "</style>\n",
              "<table border=\"1\" class=\"dataframe\">\n",
              "  <thead>\n",
              "    <tr style=\"text-align: right;\">\n",
              "      <th></th>\n",
              "      <th>ACTUAL</th>\n",
              "      <th>PRED3</th>\n",
              "    </tr>\n",
              "  </thead>\n",
              "  <tbody>\n",
              "    <tr>\n",
              "      <th>422</th>\n",
              "      <td>5.50250</td>\n",
              "      <td>7.795107</td>\n",
              "    </tr>\n",
              "    <tr>\n",
              "      <th>75</th>\n",
              "      <td>6.10000</td>\n",
              "      <td>5.664773</td>\n",
              "    </tr>\n",
              "    <tr>\n",
              "      <th>177</th>\n",
              "      <td>0.28600</td>\n",
              "      <td>3.727428</td>\n",
              "    </tr>\n",
              "    <tr>\n",
              "      <th>30</th>\n",
              "      <td>3.48000</td>\n",
              "      <td>3.774011</td>\n",
              "    </tr>\n",
              "    <tr>\n",
              "      <th>361</th>\n",
              "      <td>2.15073</td>\n",
              "      <td>3.794692</td>\n",
              "    </tr>\n",
              "  </tbody>\n",
              "</table>\n",
              "</div>\n",
              "      <button class=\"colab-df-convert\" onclick=\"convertToInteractive('df-f56c46d4-101d-4ac3-9944-f0152be9ef36')\"\n",
              "              title=\"Convert this dataframe to an interactive table.\"\n",
              "              style=\"display:none;\">\n",
              "        \n",
              "  <svg xmlns=\"http://www.w3.org/2000/svg\" height=\"24px\"viewBox=\"0 0 24 24\"\n",
              "       width=\"24px\">\n",
              "    <path d=\"M0 0h24v24H0V0z\" fill=\"none\"/>\n",
              "    <path d=\"M18.56 5.44l.94 2.06.94-2.06 2.06-.94-2.06-.94-.94-2.06-.94 2.06-2.06.94zm-11 1L8.5 8.5l.94-2.06 2.06-.94-2.06-.94L8.5 2.5l-.94 2.06-2.06.94zm10 10l.94 2.06.94-2.06 2.06-.94-2.06-.94-.94-2.06-.94 2.06-2.06.94z\"/><path d=\"M17.41 7.96l-1.37-1.37c-.4-.4-.92-.59-1.43-.59-.52 0-1.04.2-1.43.59L10.3 9.45l-7.72 7.72c-.78.78-.78 2.05 0 2.83L4 21.41c.39.39.9.59 1.41.59.51 0 1.02-.2 1.41-.59l7.78-7.78 2.81-2.81c.8-.78.8-2.07 0-2.86zM5.41 20L4 18.59l7.72-7.72 1.47 1.35L5.41 20z\"/>\n",
              "  </svg>\n",
              "      </button>\n",
              "      \n",
              "  <style>\n",
              "    .colab-df-container {\n",
              "      display:flex;\n",
              "      flex-wrap:wrap;\n",
              "      gap: 12px;\n",
              "    }\n",
              "\n",
              "    .colab-df-convert {\n",
              "      background-color: #E8F0FE;\n",
              "      border: none;\n",
              "      border-radius: 50%;\n",
              "      cursor: pointer;\n",
              "      display: none;\n",
              "      fill: #1967D2;\n",
              "      height: 32px;\n",
              "      padding: 0 0 0 0;\n",
              "      width: 32px;\n",
              "    }\n",
              "\n",
              "    .colab-df-convert:hover {\n",
              "      background-color: #E2EBFA;\n",
              "      box-shadow: 0px 1px 2px rgba(60, 64, 67, 0.3), 0px 1px 3px 1px rgba(60, 64, 67, 0.15);\n",
              "      fill: #174EA6;\n",
              "    }\n",
              "\n",
              "    [theme=dark] .colab-df-convert {\n",
              "      background-color: #3B4455;\n",
              "      fill: #D2E3FC;\n",
              "    }\n",
              "\n",
              "    [theme=dark] .colab-df-convert:hover {\n",
              "      background-color: #434B5C;\n",
              "      box-shadow: 0px 1px 3px 1px rgba(0, 0, 0, 0.15);\n",
              "      filter: drop-shadow(0px 1px 2px rgba(0, 0, 0, 0.3));\n",
              "      fill: #FFFFFF;\n",
              "    }\n",
              "  </style>\n",
              "\n",
              "      <script>\n",
              "        const buttonEl =\n",
              "          document.querySelector('#df-f56c46d4-101d-4ac3-9944-f0152be9ef36 button.colab-df-convert');\n",
              "        buttonEl.style.display =\n",
              "          google.colab.kernel.accessAllowed ? 'block' : 'none';\n",
              "\n",
              "        async function convertToInteractive(key) {\n",
              "          const element = document.querySelector('#df-f56c46d4-101d-4ac3-9944-f0152be9ef36');\n",
              "          const dataTable =\n",
              "            await google.colab.kernel.invokeFunction('convertToInteractive',\n",
              "                                                     [key], {});\n",
              "          if (!dataTable) return;\n",
              "\n",
              "          const docLinkHtml = 'Like what you see? Visit the ' +\n",
              "            '<a target=\"_blank\" href=https://colab.research.google.com/notebooks/data_table.ipynb>data table notebook</a>'\n",
              "            + ' to learn more about interactive tables.';\n",
              "          element.innerHTML = '';\n",
              "          dataTable['output_type'] = 'display_data';\n",
              "          await google.colab.output.renderOutput(dataTable, element);\n",
              "          const docLink = document.createElement('div');\n",
              "          docLink.innerHTML = docLinkHtml;\n",
              "          element.appendChild(docLink);\n",
              "        }\n",
              "      </script>\n",
              "    </div>\n",
              "  </div>\n",
              "  "
            ]
          },
          "metadata": {},
          "execution_count": 43
        }
      ]
    },
    {
      "cell_type": "code",
      "source": [
        "r2 = r2_score(y_test, y_pred3)\n",
        "mean_absolute_error1 = mean_absolute_error(y_test,y_pred3)\n",
        "root_mean_squared_error =  np.sqrt(mean_squared_error(y_test, y_pred3))"
      ],
      "metadata": {
        "id": "Z-kSsiW1HVNv"
      },
      "execution_count": 44,
      "outputs": []
    },
    {
      "cell_type": "code",
      "source": [
        "print('r2_score = ', r2)\n",
        "print('mean_absolute_error = ', mean_absolute_error)\n",
        "print('root_mean_squared_error = ', root_mean_squared_error)"
      ],
      "metadata": {
        "colab": {
          "base_uri": "https://localhost:8080/"
        },
        "id": "Ou0d2HvDH91H",
        "outputId": "90307072-4089-41bc-bb9c-38707450bd06"
      },
      "execution_count": 45,
      "outputs": [
        {
          "output_type": "stream",
          "name": "stdout",
          "text": [
            "r2_score =  0.11102359808710016\n",
            "mean_absolute_error =  <function mean_absolute_error at 0x7f56d3af8f80>\n",
            "root_mean_squared_error =  3.8606467224272323\n"
          ]
        }
      ]
    },
    {
      "cell_type": "markdown",
      "source": [
        "**Thanks**"
      ],
      "metadata": {
        "id": "o7RXg_FJPF4Q"
      }
    }
  ]
}