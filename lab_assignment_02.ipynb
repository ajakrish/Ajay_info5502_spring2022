{
  "cells": [
    {
      "cell_type": "markdown",
      "metadata": {
        "id": "view-in-github",
        "colab_type": "text"
      },
      "source": [
        "<a href=\"https://colab.research.google.com/github/ajakrish/Ajay_info5502_spring2022/blob/main/lab_assignment_02.ipynb\" target=\"_parent\"><img src=\"https://colab.research.google.com/assets/colab-badge.svg\" alt=\"Open In Colab\"/></a>"
      ]
    },
    {
      "cell_type": "markdown",
      "metadata": {
        "id": "Ryk8D1Q4Wsrp"
      },
      "source": [
        "# **The second Lab-assignment (02/04/2022, 50 points in total)**"
      ]
    },
    {
      "cell_type": "markdown",
      "metadata": {
        "id": "90_NR8c5XGWc"
      },
      "source": [
        "# Question 1\n",
        "\n",
        "(5 points). Write a Python program to generate 12 random numbers between 1 and 100. Sort the list of numbers in ascending order and print it out. Sort the list of numbers in descending order and print it out. Calculate the average for the group and print it out."
      ]
    },
    {
      "cell_type": "code",
      "execution_count": 46,
      "metadata": {
        "colab": {
          "base_uri": "https://localhost:8080/"
        },
        "id": "5QX6bJjGWXY9",
        "outputId": "7d4f9809-5b90-41a9-b4f9-3f4a0bf05b54"
      },
      "outputs": [
        {
          "output_type": "stream",
          "name": "stdout",
          "text": [
            "Group Ascending order :  [6, 9, 19, 21, 29, 42, 46, 47, 73, 74, 76, 98]\n",
            "Group Descending order:  [98, 76, 74, 73, 47, 46, 42, 29, 21, 19, 9, 6]\n",
            "Groups average:  45.0\n"
          ]
        }
      ],
      "source": [
        "import random\n",
        "l=[]\n",
        "for i in range(1,13):\n",
        "    x=random.randrange(1,101)\n",
        "    l.append(x)\n",
        "#print(l.sort())\n",
        "l.sort()\n",
        "print(\"Group Ascending order : \",l)\n",
        "l.sort(reverse=True)\n",
        "print(\"Group Descending order: \",l)\n",
        "avg=sum(l)/len(l)\n",
        "print(\"Groups average: \",round(avg,2))\n",
        "\n"
      ]
    },
    {
      "cell_type": "markdown",
      "metadata": {
        "id": "1F_PZdH9Sh49"
      },
      "source": [
        "# Question 2\n",
        "(20 points). Write a program that will do the following string formatting tasks:\n",
        "\n",
        "(1) Ask the user to enter two sentences.\n",
        "\n",
        "(2) Make each sentence into a list. Each element in the list should correspond to a word in the sentence. For example, if the sentence is \"Alas! Am I alive? This is my first python program\", the program should print out ['Alas, '!', 'Am', 'I', 'alive, '?', 'This', 'is', 'my', 'first', 'python', 'program'].\n",
        "\n",
        "(3) Compare the two sentences. Print out a list of words that occur in both sentences.\n",
        "\n",
        "(4) Remove any punctuation from the sentence and print it back out. It should remove at least the following characters, but it can remove more: period(“.”), comma (“,”), semicolon (“;”), and colon (“:”)\n",
        "\n",
        "(5) Count the number of vowels in the sentences. Print out each vowel and the number of times it appears in the sentences, such as: a:2, e:1, i:0, etc"
      ]
    },
    {
      "cell_type": "code",
      "execution_count": 45,
      "metadata": {
        "colab": {
          "base_uri": "https://localhost:8080/"
        },
        "id": "Y0oOSlsOS0cq",
        "outputId": "2fb8153f-a2ef-4944-9af1-52a9e2ad0946"
      },
      "outputs": [
        {
          "output_type": "stream",
          "name": "stdout",
          "text": [
            "Enter  first  sentence: fgf\n",
            "Enter  second   sentence: gj\n",
            "['fgf']\n",
            "['gj']\n",
            "\n",
            "The common words:  []\n",
            "\n",
            "fgf\n",
            "\n",
            "{'a': 0, 'e': 0, 'i': 0, 'o': 0, 'u': 0}\n",
            "{'a': 0, 'e': 0, 'i': 0, 'o': 0, 'u': 0}\n"
          ]
        }
      ],
      "source": [
        "# Your code here\n",
        "# 1.)\n",
        "sentence1 = input(\"Enter  first  sentence: \")\n",
        "sentence2 = input(\"Enter  second   sentence: \")\n",
        "#sentence1 = \"Alas! Am I alive? This is my!!@@ @#$% first python program\"\n",
        "#sentence2 = \"Hurrah! I am alive. This is my second python program\"\n",
        "\n",
        "# 2.)\n",
        "import re\n",
        "#message = \"Alas! Am I alive? This is my!!@@ @#$% first python program\"\n",
        "#\"Hurrah! I am alive. This is my second python program\"\n",
        "#print(re.findall(r\"[A-Za-z]+|\\S\", message))\n",
        "sentence1_list  =  re.findall(r\"[A-Za-z]+|\\S\", sentence1)\n",
        "sentence2_list  =  re.findall(r\"[A-Za-z]+|\\S\", sentence2)\n",
        "print(sentence1_list)\n",
        "print(sentence2_list)\n",
        "print()\n",
        "\n",
        "# 3.)\n",
        "common_words  =  list(set(sentence1_list)&set(sentence2_list))\n",
        "common_words  =  [i for i in common_words if i.isalpha()]\n",
        "print(\"The common words: \", common_words)\n",
        "print()\n",
        "\n",
        "# 4.)\n",
        "print(\" \".join(i for i in re.findall(r\"[A-Za-z]+|\\s\", sentence1) if i != \" \"))\n",
        "print()\n",
        "\n",
        "# 5.)\n",
        "for sentence in (sentence1,  sentence2):\n",
        "  vowels_count = {}\n",
        "  for char in ['a', 'e', 'i', 'o', 'u']:\n",
        "    vowels_count[char]  =  sentence.lower().count(char)\n",
        "\n",
        "  print(vowels_count)\n",
        "\n"
      ]
    },
    {
      "cell_type": "markdown",
      "metadata": {
        "id": "CmFoI4jDS9nx"
      },
      "source": [
        "# Question 3 \n",
        "\n",
        "(5 points). The formula that describes the volume V of a sphere with radius r is the following:\n",
        "\n",
        "$ V=\\frac{4}{3}\\ast\\ \\pi\\ast\\ r^3 $\n",
        "\n",
        "Write a program to calculate the value of V when r is in the range of 1–10. Output the result in the following format:\n",
        "\n",
        "\tr\tV\n",
        "\t1\t…\n",
        "\t2\t…\n",
        "\t3\t…\n"
      ]
    },
    {
      "cell_type": "code",
      "execution_count": 47,
      "metadata": {
        "colab": {
          "base_uri": "https://localhost:8080/"
        },
        "id": "pEyqeioAT95b",
        "outputId": "2fd79218-fb86-4a03-a2f0-2c83b3d66efb"
      },
      "outputs": [
        {
          "output_type": "stream",
          "name": "stdout",
          "text": [
            " r   v \n",
            "1   4.1887902047863905\n",
            "2   33.510321638291124\n",
            "3   113.09733552923254\n",
            "4   268.082573106329\n",
            "5   523.5987755982989\n",
            "6   904.7786842338603\n",
            "7   1436.7550402417319\n",
            "8   2144.660584850632\n",
            "9   3053.6280592892786\n",
            "10   4188.790204786391\n"
          ]
        }
      ],
      "source": [
        "# Your code here\n",
        "import math\n",
        "\n",
        "print(\" r   v \")\n",
        "#r,v...... are in a loop \n",
        "\n",
        "for r in range(1, 11):\n",
        "  print(\"{}   {}\".format(r, (4/3)*math.pi*(r**3)))\n",
        "\n"
      ]
    },
    {
      "cell_type": "markdown",
      "metadata": {
        "id": "z3tBE7E-Xn5X"
      },
      "source": [
        "# Question 4\n",
        "\n",
        "(20 points). In the field of Data Science, data is often formatted as a comma-delimited (CSV) file, where each line in a file corresponds to a field's value. Refer to Chapter 9 (p. 106) for more information on comma-delimited files. To answer this question, you will need to download the file [lab_assignment_02_denton_housing.csv](https://raw.githubusercontent.com/unt-iialab/info5502-spring2022/main/datasets/lab_assignment_02_denton_housing.csv) included with this assignment. The file [lab_assignment_02_denton_housing.csv](https://raw.githubusercontent.com/unt-iialab/info5502-spring2022/main/datasets/lab_assignment_02_denton_housing.csv) contains statistics about housing in the city of Denton from 2008 to 2014. Write a program to implement the following questions.\n",
        "\n",
        "(1) (10 pts) Calculate the difference in the number of Occupied Housing Units from year to year and print it. The difference must be calculated for the consecutive years such as 2008-2009, 2009-2010 etc. Finally, print the values in the ascending order.\n",
        "\n",
        "(2) (10 pts) For all the years, calculate the percentage of housing units which are vacant an occupied. Print the results in the following format:\n",
        "\n",
        "Year Vacant Housing Units Occupied Housing Units\n",
        "\n",
        "    2008  30%   70%                          \n",
        "\t2009 ----- -----\n",
        "\t2010 ----- -----\n",
        "    2011 ----- -----\n",
        "\t2012 ----- -----\n",
        "    2013 ----- -----\n",
        "\t2014 ----- -----\n",
        "  \n",
        "  \n",
        "\n",
        "(3) (10 pts) Calculate and print the valued and years in which the highest number of housing units were vacant and occupied. Print the results in the following format:  \n",
        "\n",
        "                              Year\tValue\n",
        "\tVacant Housing Units\t  -----   -----\n",
        "\tOccupied Housing Units\t-----   -----\n",
        "\n",
        "(4) (10 pts) Calculate the harmonic mean of the total housing units and print it out. You can find the information about harmonic mean here: https://ncalculators.com/statistics/harmonic-mean-calculator.htm"
      ]
    },
    {
      "cell_type": "markdown",
      "source": [
        "I have uploaded csv file in google drive and then mounted my drive to google colab."
      ],
      "metadata": {
        "id": "LNFsqMiRsBgv"
      }
    },
    {
      "cell_type": "code",
      "source": [
        "from google.colab import drive\n",
        "drive.mount('/content/drive')"
      ],
      "metadata": {
        "colab": {
          "base_uri": "https://localhost:8080/"
        },
        "id": "G5MSYMamri-A",
        "outputId": "e06b9cad-126a-45f1-c882-4f2f6f44d002"
      },
      "execution_count": 33,
      "outputs": [
        {
          "output_type": "stream",
          "name": "stdout",
          "text": [
            "Mounted at /content/drive\n"
          ]
        }
      ]
    },
    {
      "cell_type": "code",
      "source": [
        "import pandas as pd\n",
        "import numpy as np\n",
        "\n",
        "df=pd.read_csv(\"/content/drive/MyDrive/lab_assignment_02_denton_housing.csv\")\n",
        "\n",
        "df1=df[df[\"title_field\"]=='Occupied Housing Units']\n",
        "df1.sort_values(by=['year'],ascending=True,inplace=True)\n",
        "df1[\"value_DIFF\"]=abs(df1[\"value\"].diff())\n",
        "df1=df1.dropna()\n",
        "df1=df1.reset_index(drop=True)\n",
        "df1.sort_values(by='value_DIFF',ascending=True,inplace=True)\n",
        "for i in df1.index:\n",
        "        print(str(df1['year'][i])+'-'+str(df1['year'][i]-1),'',df1['value_DIFF'][i])"
      ],
      "metadata": {
        "colab": {
          "base_uri": "https://localhost:8080/"
        },
        "id": "WvqIxPOGmZh5",
        "outputId": "4e40465b-80af-4997-a36f-0d67d963e172"
      },
      "execution_count": 41,
      "outputs": [
        {
          "output_type": "stream",
          "name": "stdout",
          "text": [
            "2011-2010  303.0\n",
            "2009-2008  795.0\n",
            "2012-2011  1404.0\n",
            "2013-2012  1565.0\n",
            "2014-2013  2622.0\n",
            "2010-2009  5091.0\n"
          ]
        },
        {
          "output_type": "stream",
          "name": "stderr",
          "text": [
            "/usr/local/lib/python3.7/dist-packages/pandas/util/_decorators.py:311: SettingWithCopyWarning: \n",
            "A value is trying to be set on a copy of a slice from a DataFrame\n",
            "\n",
            "See the caveats in the documentation: https://pandas.pydata.org/pandas-docs/stable/user_guide/indexing.html#returning-a-view-versus-a-copy\n",
            "  return func(*args, **kwargs)\n",
            "/usr/local/lib/python3.7/dist-packages/ipykernel_launcher.py:8: SettingWithCopyWarning: \n",
            "A value is trying to be set on a copy of a slice from a DataFrame.\n",
            "Try using .loc[row_indexer,col_indexer] = value instead\n",
            "\n",
            "See the caveats in the documentation: https://pandas.pydata.org/pandas-docs/stable/user_guide/indexing.html#returning-a-view-versus-a-copy\n",
            "  \n"
          ]
        }
      ]
    },
    {
      "cell_type": "code",
      "source": [
        "import math\n",
        "V1=0.0\n",
        "Total=0.0\n",
        "df=df.reset_index(drop=True)\n",
        "for year in range(2008,2015):\n",
        "    V1=df[(df['year'] == year) & (df['title_field'] == 'Vacant Housing Units')]['value'].values[0]\n",
        "    V2=df[(df['year'] == year) & (df['title_field'] == 'Occupied Housing Units')]['value'].values[0]\n",
        "    Total=df[(df['year'] == year) & (df['title_field'] == 'Total Housing Units')]['value'].values[0] \n",
        "    Vac_Percentage=round((V1/Total)*100)\n",
        "    Occ_Percentage=round((V2/Total)*100)\n",
        "    print(year,str(Vac_Percentage)+'%','',str(Occ_Percentage)+'%')"
      ],
      "metadata": {
        "colab": {
          "base_uri": "https://localhost:8080/"
        },
        "id": "qHJ4Tgd-sWZi",
        "outputId": "4fccc89f-ac2a-4fad-b400-d2513dffb320"
      },
      "execution_count": 42,
      "outputs": [
        {
          "output_type": "stream",
          "name": "stdout",
          "text": [
            "2008 11%  89%\n",
            "2009 9%  91%\n",
            "2010 8%  92%\n",
            "2011 9%  91%\n",
            "2012 7%  93%\n",
            "2013 9%  91%\n",
            "2014 6%  94%\n"
          ]
        }
      ]
    },
    {
      "cell_type": "code",
      "source": [
        "print('                     ','Year','Value')\n",
        "for i in ('Vacant Housing Units','Occupied Housing Units'):\n",
        "    value3=df[(df['title_field'] == i)]['value'].max()\n",
        "    value4=df[(df['title_field'] == i)]['year'].max()\n",
        "    print(i,value4,value3)"
      ],
      "metadata": {
        "colab": {
          "base_uri": "https://localhost:8080/"
        },
        "id": "Ik-xXqxBssHv",
        "outputId": "3a4ae418-a0f1-4513-eda6-784cf3107cf2"
      },
      "execution_count": 43,
      "outputs": [
        {
          "output_type": "stream",
          "name": "stdout",
          "text": [
            "                      Year Value\n",
            "Vacant Housing Units 2014 4483\n",
            "Occupied Housing Units 2014 46295\n"
          ]
        }
      ]
    },
    {
      "cell_type": "code",
      "source": [
        "import statistics\n",
        "print(statistics.harmonic_mean(df[(df['title_field'] == 'Total Housing Units')]['value']))"
      ],
      "metadata": {
        "colab": {
          "base_uri": "https://localhost:8080/"
        },
        "id": "1O1z9G3zsz4t",
        "outputId": "f07cb573-3e6b-466c-94d3-35a7d0a66088"
      },
      "execution_count": 44,
      "outputs": [
        {
          "output_type": "stream",
          "name": "stdout",
          "text": [
            "44398.28543969185\n"
          ]
        }
      ]
    }
  ],
  "metadata": {
    "colab": {
      "collapsed_sections": [],
      "name": "lab_assignment_02.ipynb",
      "provenance": [],
      "include_colab_link": true
    },
    "kernelspec": {
      "display_name": "Python 3",
      "language": "python",
      "name": "python3"
    },
    "language_info": {
      "codemirror_mode": {
        "name": "ipython",
        "version": 3
      },
      "file_extension": ".py",
      "mimetype": "text/x-python",
      "name": "python",
      "nbconvert_exporter": "python",
      "pygments_lexer": "ipython3",
      "version": "3.8.5"
    }
  },
  "nbformat": 4,
  "nbformat_minor": 0
}