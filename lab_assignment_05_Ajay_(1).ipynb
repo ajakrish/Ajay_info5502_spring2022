{
  "cells": [
    {
      "cell_type": "markdown",
      "metadata": {
        "id": "view-in-github",
        "colab_type": "text"
      },
      "source": [
        "<a href=\"https://colab.research.google.com/github/ajakrish/Ajay_info5502_spring2022/blob/main/lab_assignment_05_Ajay_(1).ipynb\" target=\"_parent\"><img src=\"https://colab.research.google.com/assets/colab-badge.svg\" alt=\"Open In Colab\"/></a>"
      ]
    },
    {
      "cell_type": "markdown",
      "metadata": {
        "id": "pKdsfQmdjDro"
      },
      "source": [
        "## The fifth Lab-assignment (02/24/2022, 50 points in total)"
      ]
    },
    {
      "cell_type": "markdown",
      "metadata": {
        "id": "GczzLowqjDrt"
      },
      "source": [
        "The purpose of this exercise is to understand Data Visualization, we will practice how to create visualizations for different datasets bu using different tools."
      ]
    },
    {
      "cell_type": "markdown",
      "metadata": {
        "id": "QGsleBNTjDrt"
      },
      "source": [
        "Question 1 (15 points). In this questions, you will design a visualization for a small data set and provide a rigorous rationale for your design choices. \n",
        "\n",
        "Every 10 years, the census bureau documents the demographic make-up of the United States, influencing everything from congressional districting to social services. This dataset contains a high-level summary of census data for two years a century apart: 1900 and 2000. The data is a CSV (comma-separated values) file that describes the U.S. population in terms of year, reported sex (1: male, 2: female), age group (binned into 5 year segments from 0-4 years old up to 90+ years old), and the total count of people per group. There are 38 data points per year, for a total of 76 data points.\n",
        "\n",
        "You can download the dataset here: \n",
        "\n",
        "Dataset: https://github.com/unt-iialab/info5502-spring2022/blob/main/datasets/lab_assignment_05_census.csv\n",
        "\n",
        "Source: https://www.ipums.org/\n",
        "\n",
        "(1) Start by choosing a question you'd like a visualization to answer.\n",
        "\n",
        "(2) Generate a static visualization (i.e., a single image) that you believe effectively answers that question, and use the question as the title of your graphic.\n",
        "\n",
        "(3) Provide a short write-up (no more than 3 paragraphs) describing your design.\n",
        "\n",
        "\n",
        "While you must use the data set given, you are free to transform the data as you see fit. Such transforms may include (but are not limited to) log transformation, computing percentages or averages, grouping elements into new categories, or removing unnecessary variables or records. You are also free to incorporate external data as you see fit. Your chart image should be interpretable without recourse to your short write-up. Do not forget to include title, axis labels or legends as needed!\n",
        "\n",
        "As different visualizations can emphasize different aspects of a data set, you should document what aspects of the data you are attempting to most effectively communicate. In short, what story are you trying to tell? Just as important, also note which aspects of the data might be obscured or down-played due to your visualization design.\n",
        "\n",
        "In your write-up, you should provide a rigorous rationale for your design decisions. Document the visual encodings you used and why they are appropriate for the data and your specific question. These decisions include the choice of visualization type, size, color, scale, and other visual elements, as well as the use of sorting or other data transformations. How do these decisions facilitate effective communication?"
      ]
    },
    {
      "cell_type": "code",
      "execution_count": 10,
      "metadata": {
        "colab": {
          "base_uri": "https://localhost:8080/",
          "height": 35
        },
        "id": "sntBD7hUjDrv",
        "outputId": "d7766561-e3d6-4601-e473-768bc76acb82"
      },
      "outputs": [
        {
          "output_type": "execute_result",
          "data": {
            "application/vnd.google.colaboratory.intrinsic+json": {
              "type": "string"
            },
            "text/plain": [
              "'\\nQuestion:\\n. Plot a visualisation that visualizes the years as hue with people population in different age groups explain the results.\\n'"
            ]
          },
          "metadata": {},
          "execution_count": 10
        }
      ],
      "source": [
        "# Your answer here (question + explanation):\n",
        "'''\n",
        "Question:\n",
        ". Plot a visualisation that visualizes the years as hue with people population in different age groups explain the results.\n",
        "'''"
      ]
    },
    {
      "cell_type": "code",
      "execution_count": 11,
      "metadata": {
        "colab": {
          "base_uri": "https://localhost:8080/",
          "height": 334
        },
        "id": "07CMMNJSjDrw",
        "outputId": "750b23a5-4fbf-4eb3-936e-1bbfa47d2e3b"
      },
      "outputs": [
        {
          "output_type": "display_data",
          "data": {
            "image/png": "[encoded data removed]",
            "text/plain": [
              "<Figure size 1080x360 with 1 Axes>"
            ]
          },
          "metadata": {
            "needs_background": "light"
          }
        }
      ],
      "source": [
        "# Your answer here (python code + explanation):\n",
        "import pandas as pd\n",
        "import matplotlib.pyplot as mplt\n",
        "import seaborn as sns\n",
        "\n",
        "data = pd.read_csv(\"https://raw.githubusercontent.com/unt-iialab/info5502-spring2022/main/datasets/lab_assignment_05_census.csv\", sep=\",\")\n",
        "sns.barplot(data=data, x='Age', y='People', hue='Year', palette = \"Blues\")\n",
        "mplt.ticklabel_format(style='plain', axis='y')\n",
        "mplt.show()"
      ]
    },
    {
      "cell_type": "markdown",
      "metadata": {
        "id": "b7s3b6oGjDry"
      },
      "source": [
        "3.)# Your answer here (interpretation of the results):\n",
        "\n",
        "Design Description:"
      ]
    },
    {
      "cell_type": "markdown",
      "metadata": {
        "id": "qJ6oGLVEjDrz"
      },
      "source": [
        ". I had imported the following libraries: Pandas, Matplotlib"
      ]
    },
    {
      "cell_type": "markdown",
      "metadata": {
        "id": "Ni0iX3TNjDr0"
      },
      "source": [
        ". I used bar chart to represent the attributes Age, People, Year of the people as hue."
      ]
    },
    {
      "cell_type": "markdown",
      "metadata": {
        "id": "6VcP083vjDr1"
      },
      "source": [
        ". It can be inferenced that the people count higher in year 2000 through out the data."
      ]
    },
    {
      "cell_type": "markdown",
      "metadata": {
        "id": "o0kP7mbLjDr1"
      },
      "source": [
        ". Therefore, it can be inferenced that there is drastic increase in people population across all the age groups."
      ]
    },
    {
      "cell_type": "markdown",
      "metadata": {
        "id": "l1Is3t5yjDr2"
      },
      "source": [
        "Question 2 (20 points). In this question, you are required to use visualizations to tell a story about a dataset.\n",
        "\n",
        "Step 1. Pick a domain and data set that you are interested in.\n",
        "\n",
        "Peruse the provided data sets: http://nixdell.com/classes/HCI-and-Design-Spring-2016/Resources.html.\n",
        "\n",
        "Choose the one of greatest interest to you. If you would like to explore a different data set, you are free to do so but be aware of how much work might be needed to clean the data and get it into a usable format.\n",
        "\n",
        "Step 2. Explore the data. Find a story. Ask questions.\n",
        "\n",
        "Start by asking questions. For example: Is there a relationship between melting point and atomic number? Are the brightness and color of stars correlated? Are there different patterns of nucleotides in different regions in human DNA?\n",
        "\n",
        "Step 3. Assess the fitness of the data for answering your question.\n",
        "\n",
        "Inspect the data -- it is invariably helpful to first look at the raw values. Does the data seem appropriate for answering your question? If not, you may need to start the process over. If so, does the data need to be reformatted or cleaned prior to analysis? Perform any steps necessary to get the data into shape prior to visual analysis.\n",
        "\n",
        "Step 4. Create the visualization(s) that tell a story about the data.\n",
        "\n",
        "You will likely need to create several and see what works best. Keep a record of things you tried and discarded.\n"
      ]
    },
    {
      "cell_type": "code",
      "execution_count": 1,
      "metadata": {
        "id": "WxGIw5tkjDr3",
        "colab": {
          "base_uri": "https://localhost:8080/",
          "height": 70
        },
        "outputId": "5a11fcdd-74d2-4168-f20d-4e976650242d"
      },
      "outputs": [
        {
          "output_type": "execute_result",
          "data": {
            "application/vnd.google.colaboratory.intrinsic+json": {
              "type": "string"
            },
            "text/plain": [
              "\"\\n. I have chosen WorldHappiness_2016 dataset.\\n. This dataset is about the Happiness Index of various countries and the features affecting it.\\n. It has the following features\\n-   'Country', 'Region', 'Happiness Rank', 'Happiness Score',\\n    'Lower Confidence Interval', 'Upper Confidence Interval',\\n    'Economy (GDP per Capita)', 'Family', 'Health (Life Expectancy)',\\n    'Freedom', 'Trust (Government Corruption)', 'Generosity',\\n    'Dystopia Residual'\\n\""
            ]
          },
          "metadata": {},
          "execution_count": 1
        }
      ],
      "source": [
        "# step 1:\n",
        "'''\n",
        ". I have chosen WorldHappiness_2016 dataset.\n",
        ". This dataset is about the Happiness Index of various countries and the features affecting it.\n",
        ". It has the following features\n",
        "-   'Country', 'Region', 'Happiness Rank', 'Happiness Score',\n",
        "    'Lower Confidence Interval', 'Upper Confidence Interval',\n",
        "    'Economy (GDP per Capita)', 'Family', 'Health (Life Expectancy)',\n",
        "    'Freedom', 'Trust (Government Corruption)', 'Generosity',\n",
        "    'Dystopia Residual'\n",
        "'''"
      ]
    },
    {
      "cell_type": "code",
      "execution_count": 2,
      "metadata": {
        "id": "9kg_u_kvjDr3",
        "colab": {
          "base_uri": "https://localhost:8080/",
          "height": 53
        },
        "outputId": "f1906865-28b1-438b-fcdc-ea8dd126548e"
      },
      "outputs": [
        {
          "output_type": "execute_result",
          "data": {
            "application/vnd.google.colaboratory.intrinsic+json": {
              "type": "string"
            },
            "text/plain": [
              "'\\n. We use the WorldHappiness_2016.csv dataset for answering the questions\\n\\nQ1.) Plot the relation between Economy and Happiness Rank?\\nQ2.) Plot the relation between Happiness Score and Economy?\\nQ3.) Visualise the top 10 best countries with Happiness Rank?\\n\\n'"
            ]
          },
          "metadata": {},
          "execution_count": 2
        }
      ],
      "source": [
        "# step 2:\n",
        "\n",
        "'''\n",
        ". We use the WorldHappiness_2016.csv dataset for answering the questions\n",
        "\n",
        "Q1.) Plot the relation between Economy and Happiness Rank?\n",
        "Q2.) Plot the relation between Happiness Score and Economy?\n",
        "Q3.) Visualise the top 10 best countries with Happiness Rank?\n",
        "\n",
        "'''"
      ]
    },
    {
      "cell_type": "code",
      "source": [
        "from google.colab import drive\n",
        "drive.mount('/content/gdrive')"
      ],
      "metadata": {
        "id": "NzDZ-CqukV2Z",
        "colab": {
          "base_uri": "https://localhost:8080/"
        },
        "outputId": "9ef6f641-df8c-46ae-9c94-b64eca871b09"
      },
      "execution_count": 3,
      "outputs": [
        {
          "output_type": "stream",
          "name": "stdout",
          "text": [
            "Mounted at /content/gdrive\n"
          ]
        }
      ]
    },
    {
      "cell_type": "code",
      "execution_count": 4,
      "metadata": {
        "id": "T6VdIZk9jDr4",
        "outputId": "18513ebe-c030-4bc5-ce0f-165721d5cda3",
        "colab": {
          "base_uri": "https://localhost:8080/",
          "height": 334
        }
      },
      "outputs": [
        {
          "output_type": "display_data",
          "data": {
            "image/png": "[encoded data removed]",
            "text/plain": [
              "<Figure size 432x360 with 1 Axes>"
            ]
          },
          "metadata": {
            "needs_background": "light"
          }
        }
      ],
      "source": [
        "# Step 3 & 4\n",
        "\n",
        "import pandas as pd\n",
        "import matplotlib.pyplot as plt\n",
        "df = pd.read_csv(\"/content/gdrive/My Drive/WorldHappiness_2016.csv\")\n",
        "#df.columns\n",
        "\n",
        "# Q1.)\n",
        "plt.rcParams['figure.figsize'] = [6,5]\n",
        "df.plot(x = \"Happiness Rank\", y = \"Economy (GDP per Capita)\")\n",
        "plt.xlabel(\"Happiness Rank\")\n",
        "plt.ylabel(\"Economy (GDP per Capita)\")\n",
        "\n",
        "plt.show()"
      ]
    },
    {
      "cell_type": "markdown",
      "metadata": {
        "id": "t5yBPEH7jDr4"
      },
      "source": [
        ". It can observed that the country with good Happiness Rank has higher Economy(GDP per Capita)."
      ]
    },
    {
      "cell_type": "code",
      "execution_count": 5,
      "metadata": {
        "id": "8IzPYVjjjDr5",
        "outputId": "e8acc84d-4cf5-462f-c115-f5ad42d10bd2",
        "colab": {
          "base_uri": "https://localhost:8080/",
          "height": 334
        }
      },
      "outputs": [
        {
          "output_type": "display_data",
          "data": {
            "image/png": "[encoded data removed]",
            "text/plain": [
              "<Figure size 432x360 with 1 Axes>"
            ]
          },
          "metadata": {
            "needs_background": "light"
          }
        }
      ],
      "source": [
        "plt.rcParams['figure.figsize'] = [6,5]\n",
        "df.plot(x = \"Happiness Score\", y = \"Economy (GDP per Capita)\")\n",
        "plt.xlabel(\"Happiness Score\")\n",
        "plt.ylabel(\"Economy (GDP per Capita)\")\n",
        "plt.show()"
      ]
    },
    {
      "cell_type": "markdown",
      "metadata": {
        "id": "H9Z7TY5_jDr5"
      },
      "source": [
        ". It can be inferred that the happiness score increases with increase in Economy(GDP Per Capita)"
      ]
    },
    {
      "cell_type": "code",
      "execution_count": 6,
      "metadata": {
        "id": "An8OLvxwjDr6",
        "outputId": "aad3f852-2393-4656-9fe6-06a209229f78",
        "colab": {
          "base_uri": "https://localhost:8080/",
          "height": 389
        }
      },
      "outputs": [
        {
          "output_type": "display_data",
          "data": {
            "image/png": "[encoded data removed]",
            "text/plain": [
              "<Figure size 1080x360 with 1 Axes>"
            ]
          },
          "metadata": {
            "needs_background": "light"
          }
        }
      ],
      "source": [
        "import seaborn as sns\n",
        "\n",
        "plt.rcParams['figure.figsize'] = [15,5]\n",
        "sns.barplot(x = 'Country',\n",
        "            y = 'Happiness Rank',\n",
        "            data = df[:10])\n",
        "plt.xticks(rotation=90)\n",
        "plt.show()"
      ]
    },
    {
      "cell_type": "markdown",
      "metadata": {
        "id": "_Aia6u04jDr6"
      },
      "source": [
        ". Above are the Top 10 Happiness Rank Countries"
      ]
    },
    {
      "cell_type": "markdown",
      "metadata": {
        "id": "su4vUhsfjDr7"
      },
      "source": [
        "\n",
        "\n",
        "\n"
      ]
    },
    {
      "cell_type": "markdown",
      "metadata": {
        "id": "pUTnczMNjDr7"
      },
      "source": [
        "       \n",
        "       "
      ]
    },
    {
      "cell_type": "markdown",
      "metadata": {
        "id": "pcWCr_O9jDr7"
      },
      "source": [
        "Question 3 (15 points). In this question, you are required to create visualization for time series data. \n",
        "\n",
        "We have collected all the articles from AMIA in the last 30 years. The dataset is avaliable on GitHub: https://raw.githubusercontent.com/unt-iialab/info5502-spring2022/main/datasets/lab_assignment_05_amia_cleaned.csv. \n",
        "\n",
        "Please use the tool Yake: https://github.com/LIAAD/yake to extract the top N (you can set different N value to get the best visualization results) keywords from the article titles (all the articles), then visualize how the keywords changed over years in one figure. (Split the data by every five years)"
      ]
    },
    {
      "cell_type": "code",
      "source": [
        "!pip install yake"
      ],
      "metadata": {
        "colab": {
          "base_uri": "https://localhost:8080/"
        },
        "id": "ohI4J6tvjW7d",
        "outputId": "009dd87b-09ef-4022-9286-f1b9bb477e9c"
      },
      "execution_count": 7,
      "outputs": [
        {
          "output_type": "stream",
          "name": "stdout",
          "text": [
            "Collecting yake\n",
            "  Downloading yake-0.4.8-py2.py3-none-any.whl (60 kB)\n",
            "\u001b[?25l\r\u001b[K     |█████▌                          | 10 kB 16.0 MB/s eta 0:00:01\r\u001b[K     |███████████                     | 20 kB 9.3 MB/s eta 0:00:01\r\u001b[K     |████████████████▍               | 30 kB 7.9 MB/s eta 0:00:01\r\u001b[K     |█████████████████████▉          | 40 kB 3.6 MB/s eta 0:00:01\r\u001b[K     |███████████████████████████▎    | 51 kB 4.1 MB/s eta 0:00:01\r\u001b[K     |████████████████████████████████| 60 kB 2.8 MB/s \n",
            "\u001b[?25hRequirement already satisfied: click>=6.0 in /usr/local/lib/python3.7/dist-packages (from yake) (7.1.2)\n",
            "Collecting jellyfish\n",
            "  Downloading jellyfish-0.9.0.tar.gz (132 kB)\n",
            "\u001b[K     |████████████████████████████████| 132 kB 8.6 MB/s \n",
            "\u001b[?25hRequirement already satisfied: tabulate in /usr/local/lib/python3.7/dist-packages (from yake) (0.8.9)\n",
            "Requirement already satisfied: networkx in /usr/local/lib/python3.7/dist-packages (from yake) (2.6.3)\n",
            "Collecting segtok\n",
            "  Downloading segtok-1.5.11-py3-none-any.whl (24 kB)\n",
            "Requirement already satisfied: numpy in /usr/local/lib/python3.7/dist-packages (from yake) (1.21.5)\n",
            "Requirement already satisfied: regex in /usr/local/lib/python3.7/dist-packages (from segtok->yake) (2019.12.20)\n",
            "Building wheels for collected packages: jellyfish\n",
            "  Building wheel for jellyfish (setup.py) ... \u001b[?25l\u001b[?25hdone\n",
            "  Created wheel for jellyfish: filename=jellyfish-0.9.0-cp37-cp37m-linux_x86_64.whl size=73970 sha256=6b4759724a5a64063b3b655f5920e32898557c16acf51c9f4ea62ca89a1e426a\n",
            "  Stored in directory: /root/.cache/pip/wheels/fe/99/4e/646ce766df0d070b0ef04db27aa11543e2767fda3075aec31b\n",
            "Successfully built jellyfish\n",
            "Installing collected packages: segtok, jellyfish, yake\n",
            "Successfully installed jellyfish-0.9.0 segtok-1.5.11 yake-0.4.8\n"
          ]
        }
      ]
    },
    {
      "cell_type": "code",
      "execution_count": 8,
      "metadata": {
        "id": "T1qCHf0QjDr7"
      },
      "outputs": [],
      "source": [
        "# Your python code here:\n",
        "\n",
        "import pandas as pd\n",
        "import matplotlib.pyplot as plt\n",
        "import yake\n",
        "data = pd.read_csv(\"https://raw.githubusercontent.com/unt-iialab/info5502-spring2022/main/datasets/lab_assignment_05_amia_cleaned.csv\", sep=\",\")\n",
        "\n",
        "data = data[data['year'].isna()!=True]\n",
        "data['year'] = data['year'].astype('int64')"
      ]
    },
    {
      "cell_type": "code",
      "execution_count": 9,
      "metadata": {
        "scrolled": false,
        "colab": {
          "base_uri": "https://localhost:8080/"
        },
        "id": "7qT-RjpWjDr8",
        "outputId": "d3ce93f8-bb93-422b-c669-0d06a148f1ee"
      },
      "outputs": [
        {
          "output_type": "stream",
          "name": "stdout",
          "text": [
            "Keywords in year 2021 are following:\n",
            "('Matter Hyperintensity Progression', 0.00013339348320859514)\n",
            "('Single Centre Experience', 0.00015642157558853453)\n",
            "('Centre Experience Assessing', 0.00015642157558853453)\n",
            "('Spinal Muscular Atrophy', 0.00018343650539378616)\n",
            "('European Countries Investigating', 0.00018343650539378616)\n",
            "('Social Leisure Activities', 0.00018343650539378616)\n",
            "('Leisure Activities Protective', 0.00018343650539378616)\n",
            "('Grey Matter Volume', 0.0002537897653699346)\n",
            "('White Matter Hyperintensity', 0.00027120469699506175)\n",
            "('Disease Current View', 0.00031366882345359656)\n",
            "___________________\n",
            "\n",
            "Keywords in year 2020 are following:\n",
            "('Electronic Health Record', 0.00022547607734765726)\n",
            "('Densely Connected CNN', 0.0003234067444554375)\n",
            "('Hippocampus MRI Data', 0.0004083014470416426)\n",
            "('Identify Hospitalized Patients', 0.00042657502712225404)\n",
            "('Electronic Clinical Quality', 0.00044197789114759964)\n",
            "('Connected CNN Model', 0.00048283473131257226)\n",
            "('Clinical Quality Measure', 0.0005152518368886186)\n",
            "('Factors Affecting Stroke', 0.0006322964891184532)\n",
            "('deep learning Exploring', 0.0006388329243117043)\n",
            "('Deep Learning Health', 0.0006607537909498904)\n",
            "___________________\n",
            "\n",
            "Keywords in year 2018 are following:\n",
            "('Electronic Health Record', 4.6324100014809876e-05)\n",
            "('Health Record Data', 0.00015349165693860474)\n",
            "('Clinical Decision Support', 0.0002037212929568448)\n",
            "('Feedback Intervention Theory', 0.00023105161943825071)\n",
            "('Engagement Consultation Service', 0.00023105161943825071)\n",
            "('Electronic Medical Record', 0.0002905483591147805)\n",
            "('Philippines Biophysical Analyses', 0.0002945370912531013)\n",
            "('Future Direction Defining', 0.0002945370912531013)\n",
            "('Extract Substance Abuse', 0.0002945370912531013)\n",
            "('Disordered Eating Adopt', 0.0002945370912531013)\n",
            "___________________\n",
            "\n",
            "Keywords in year 2015 are following:\n",
            "('Arabidopsis DIFFERENTIAL EFFECTS', 0.00041690262896389407)\n",
            "('Clinical Decision Support', 0.0007840732574967832)\n",
            "('assembly Global Linking', 0.0007995193375016164)\n",
            "('Electronic Health Record', 0.0008516723171537783)\n",
            "('Electronic Clinical Quality', 0.0018101424755120072)\n",
            "('Italian Patients Effects', 0.0019033942867067372)\n",
            "('Electronic Medical Record', 0.001907526974134154)\n",
            "('Health Questions Patient', 0.0019362714797293902)\n",
            "('Laboratory Evaluation Effect', 0.00226926423820049)\n",
            "('Clinical', 0.002284144072666127)\n",
            "___________________\n",
            "\n",
            "Keywords in year 2019 are following:\n",
            "('Electronic Health Records', 0.00029651252878524245)\n",
            "('Clinical Decision Support', 0.0003827400207656758)\n",
            "('Clinical Data Research', 0.00045619220710452354)\n",
            "('Large Clinical Data', 0.0010522700915578465)\n",
            "('Data Research Network', 0.0010580968070820816)\n",
            "('Electronic Health', 0.0012007701027812445)\n",
            "('Distributed Health Data', 0.0012184728040130163)\n",
            "('Electronic Clinical Decision', 0.001309002544082113)\n",
            "('Catastrophic Antiphospholipid Syndrome', 0.0013981109967431038)\n",
            "('Antiphospholipid Syndrome Letter', 0.0013981109967431038)\n",
            "___________________\n",
            "\n",
            "Keywords in year 2014 are following:\n",
            "('Electronic Health Record', 4.562292192566021e-05)\n",
            "('Health Information Exchange', 5.420782457180507e-05)\n",
            "('Concept Annotation Problem', 8.786644287967464e-05)\n",
            "('Drug Labels Adapting', 9.17871650651575e-05)\n",
            "('Public Data Sets', 9.957486011615172e-05)\n",
            "('Data Sharing Preferences', 9.996002920111135e-05)\n",
            "('Clinical Data Repository', 0.00010374780593143271)\n",
            "('Health Record Data', 0.00011064305609800878)\n",
            "('FDA Drug Labels', 0.000115092353363865)\n",
            "('Department Staff Data', 0.00012485689726031806)\n",
            "___________________\n",
            "\n",
            "Keywords in year 2016 are following:\n",
            "('Electronic Health Record', 2.2689299311951884e-05)\n",
            "('United States Modeling', 0.00010414447557390025)\n",
            "('Health Record Data', 0.00010517083557747467)\n",
            "('Clinical Study Data', 0.00011517188863694152)\n",
            "('Observational Clinical Data', 0.00011610479029870628)\n",
            "('State Parental Perceptions', 0.00012199276446352636)\n",
            "('York State Parental', 0.00012391283267629763)\n",
            "('Veteran Health Information', 0.0001311330582183004)\n",
            "('Clinical Data Elements', 0.00013597239239691657)\n",
            "('Data Elements Data', 0.00014411639430005706)\n",
            "___________________\n",
            "\n",
            "Keywords in year 2002 are following:\n",
            "('Small Nuclear RNA', 4.533716702448886e-05)\n",
            "('Small Nucleolar RNAs', 4.8499234434415996e-05)\n",
            "('Mouse Liver Protein', 4.850940766215998e-05)\n",
            "('Small RNAs RNA', 5.038067915108716e-05)\n",
            "('Trypanosomatids Small Nucleolar', 5.0459623685532784e-05)\n",
            "('Small RNAs Reduces', 5.2417247174785525e-05)\n",
            "('Finger Proteins Involved', 5.2637406420694365e-05)\n",
            "('Analysis Genetic Analysis', 6.201214536816655e-05)\n",
            "('Nuclear RNA Transcription', 6.226933344078529e-05)\n",
            "('Lipoprotein Receptor Expression', 6.469005276327185e-05)\n",
            "___________________\n",
            "\n",
            "Keywords in year 2017 are following:\n",
            "('Electronic Health Records', 4.693710490219337e-05)\n",
            "('Traumatic Brain Injury', 0.00012854830297741464)\n",
            "('Spinal Cord Injury', 0.00015103458894308812)\n",
            "('Health Record Data', 0.00016685226707243488)\n",
            "('Measuring Workload Demand', 0.00019315619337791166)\n",
            "('Body Mass Index', 0.00019315619337791166)\n",
            "('Mining Electronic Health', 0.00020041080247386875)\n",
            "('Case Demand Index', 0.00021235177711684857)\n",
            "('Clinical Case Demand', 0.00021676177004103654)\n",
            "('Health Information Exchange', 0.00022528190088878593)\n",
            "___________________\n",
            "\n",
            "Keywords in year 2012 are following:\n",
            "('Electronic Health Record', 8.817363356549577e-05)\n",
            "('Clinical Decision Support', 0.00016119668153253639)\n",
            "('Ectomesenchymal Stem Cells', 0.00023347259904719488)\n",
            "('Invading Blood Vessels', 0.00028405076158728206)\n",
            "('Cytidine Deaminase DNA', 0.00028405076158728206)\n",
            "('Deaminase DNA Deamination', 0.00028405076158728206)\n",
            "('Health Information Exchange', 0.0003791561040241397)\n",
            "('Health Record Data', 0.0005659250549793638)\n",
            "('Records Patient clinical', 0.0006160127897309586)\n",
            "('Electronic Health', 0.0007155494553058434)\n",
            "___________________\n",
            "\n",
            "Keywords in year 2013 are following:\n",
            "('Electronic Health Records', 8.039173474025418e-05)\n",
            "('Sedentary Video Games', 0.0001602895927852689)\n",
            "('Health Information Exchange', 0.00018519702932145584)\n",
            "('City Clinical Practices', 0.00026148782418793147)\n",
            "('York City Clinical', 0.0003269866965643046)\n",
            "('Medical Home Practices', 0.00033335443471923495)\n",
            "('Electronic Medical Records', 0.0003852792523069921)\n",
            "('Activity-Promoting Video Game', 0.00047325308212205235)\n",
            "('Video Game compared', 0.00047325308212205235)\n",
            "('Health Care Users', 0.0005416854277231896)\n",
            "___________________\n",
            "\n",
            "Keywords in year 2011 are following:\n",
            "('Electronic Health Records', 0.0001234690584793154)\n",
            "('Health Information Exchange', 0.00018040444565526112)\n",
            "('Health Information Technology', 0.00023022224291144896)\n",
            "('Word Sequence Variation', 0.0002446245327589375)\n",
            "('Mild Traumatic Brain', 0.0002446245327589375)\n",
            "('Traumatic Brain Injury', 0.0002446245327589375)\n",
            "('Random Fields Understanding', 0.0002446245327589375)\n",
            "('Health Disclosure Laws', 0.0002677726140423243)\n",
            "('Electronic Medical Record', 0.0003004411233038199)\n",
            "('Corpus Derived Clinical', 0.0003021973770968719)\n",
            "___________________\n",
            "\n",
            "Keywords in year 2007 are following:\n",
            "('Clinical Decision Support', 6.901630054198732e-05)\n",
            "('Health Information Networks', 0.00014108693175946525)\n",
            "('Semantic Information Evaluation', 0.00021746640583485843)\n",
            "('Clinical Information System', 0.0002500090452666664)\n",
            "('Electronic Health Record', 0.0002889541892983093)\n",
            "('UMLS Semantic Network', 0.0003267575182523292)\n",
            "('Information Networks Assessing', 0.0003604666758281982)\n",
            "('Personal Health Records', 0.00044343967034796795)\n",
            "('decision support system', 0.0004895803348780193)\n",
            "('Health Information Exchanges', 0.0005349204667667722)\n",
            "___________________\n",
            "\n",
            "Keywords in year 2010 are following:\n",
            "('Electronic Health Record', 1.9589701328866477e-05)\n",
            "('Clinical Decision Support', 4.074011859880352e-05)\n",
            "('Electronic Medical Record', 4.440277454346827e-05)\n",
            "('Natural Language Processing', 4.6436927116254096e-05)\n",
            "('Health Record Platform', 4.723153266946076e-05)\n",
            "('Integrating Direct Electronic', 5.211705931643818e-05)\n",
            "('Electronic Form Design', 6.418746272855622e-05)\n",
            "('Efficient Bayesian Method', 6.695248103887313e-05)\n",
            "('Direct Electronic Collection', 7.76722360659018e-05)\n",
            "('Health Information Technology', 8.24431789192882e-05)\n",
            "___________________\n",
            "\n",
            "Keywords in year 2008 are following:\n",
            "('Electronic Medical Record', 9.814978853661262e-05)\n",
            "('Clinical Decision Support', 0.00010841516781293119)\n",
            "('health care system', 0.00012560900319540544)\n",
            "('Adding Medication Histories', 0.00016642588594728552)\n",
            "('Clinical Information Re-engineering', 0.0001816382460351286)\n",
            "('Electronic Health Records', 0.00018996293199198566)\n",
            "('Information Re-engineering Opportunities', 0.00019454929478624706)\n",
            "('Regenstrief Medication Hub', 0.0002150639727461214)\n",
            "('Medication Reconciliation Automatically', 0.0002150639727461214)\n",
            "('Hoc Clinical Questions', 0.00023127804165197027)\n",
            "___________________\n",
            "\n",
            "Keywords in year 2009 are following:\n",
            "('Clinical Information System', 8.663478018256873e-05)\n",
            "('Electronic Health Record', 8.795715462332605e-05)\n",
            "('Clinical Decision Support', 9.64073914063495e-05)\n",
            "('Electronic Medical Records', 0.00010117720212136771)\n",
            "('Peptide Subsidized Contraception', 0.0001721082999490163)\n",
            "('Hydrophilic Peptide Subsidized', 0.00017381389129345585)\n",
            "('White Hat Bias', 0.0002192910034444831)\n",
            "('Synthetic Polymer Nanoparticles', 0.00022146568776023153)\n",
            "('Health Record System', 0.00022418865630705558)\n",
            "('Electronic Health Information', 0.0002648448123453865)\n",
            "___________________\n",
            "\n",
            "Keywords in year 2004 are following:\n",
            "('Direct IADL Measure', 0.00018550919338160987)\n",
            "('IADL Measure Detect', 0.00018550919338160987)\n",
            "('Measure Detect Deficits', 0.00018550919338160987)\n",
            "('Persons with MCI', 0.0027366367535859625)\n",
            "('Direct IADL', 0.003242916817013426)\n",
            "('IADL Measure', 0.003242916817013426)\n",
            "('Measure Detect', 0.003242916817013426)\n",
            "('Detect Deficits', 0.003242916817013426)\n",
            "('Deficits in Persons', 0.003242916817013426)\n",
            "('Scleroderma Editors’ Comments', 0.0048160834167583705)\n",
            "___________________\n",
            "\n",
            "Keywords in year 2006 are following:\n",
            "('Clinical Decision Support', 0.00022142285196463245)\n",
            "('Electronic Health Record', 0.00023344692117910072)\n",
            "('Electronic Medical Record', 0.00023349251964431428)\n",
            "('Health Information Technology', 0.00049075046485614)\n",
            "('Clinical Information Systems', 0.0005145436136128052)\n",
            "('Health Record System', 0.0005819583311432534)\n",
            "('medical record system', 0.0005820718888124698)\n",
            "('Health Record Data', 0.0006615173149524474)\n",
            "('Medical Record Data', 0.0006616464844181641)\n",
            "('Health Information Management', 0.0006645949120199033)\n",
            "___________________\n",
            "\n",
            "Keywords in year 2005 are following:\n",
            "('Cape Verde kite', 0.00025011140746276786)\n",
            "('Prioritizing species conservation', 0.00039261605559303103)\n",
            "('Verde kite exist', 0.00039261605559303103)\n",
            "('bacterial microcosms Reputation', 0.00039325614922613316)\n",
            "('population dynamics Niches', 0.00040573608984469556)\n",
            "('paper wasp Genomic', 0.0004611085937925056)\n",
            "('wasp Genomic compatibility', 0.0004611085937925056)\n",
            "('Genomic compatibility occurs', 0.0004611085937925056)\n",
            "('outcrossing plant Aposematism', 0.0004611085937925056)\n",
            "('butterfly larva Nesting', 0.0004611085937925056)\n",
            "___________________\n",
            "\n",
            "Keywords in year 2003 are following:\n",
            "('Physician Order Entry', 0.00011374216803451407)\n",
            "('electronic medical record', 0.00013087544518187668)\n",
            "('Decision support systems', 0.00014483392973911675)\n",
            "('Order Entry System', 0.00014692050681937774)\n",
            "('Clinical Decision Support', 0.00018610689276604984)\n",
            "('Computerized Physician Order', 0.00021311126228233782)\n",
            "('Clinical Information System', 0.00021626581264406764)\n",
            "('Care Support System', 0.00046094739507036283)\n",
            "('Record System Information', 0.0004894977642133144)\n",
            "('Medical Record Systems', 0.000497854575409382)\n",
            "___________________\n",
            "\n",
            "Keywords in year 2001 are following:\n",
            "('Fumaric acid production', 0.005061745688945959)\n",
            "('Accelerated Sodium Excretion', 0.006165537626766891)\n",
            "('Chronic Obstructive Pulmonary', 0.006182256063224477)\n",
            "('Rats Exhaled Breath', 0.006241849972989252)\n",
            "('Medical Record System', 0.0063098250907863635)\n",
            "('Docosahexaenoic Acid Ingestion', 0.0063733242320640655)\n",
            "('Arthritis Fumaric acid', 0.0063733242320640655)\n",
            "('ODS Rats Effect', 0.006610770265997074)\n",
            "('Chronic Kidney Disease', 0.007718115976373256)\n",
            "('High Sodium Intake', 0.007741559422189964)\n",
            "___________________\n",
            "\n",
            "Keywords in year 2000 are following:\n",
            "('European Commission DGXIII', 0.000272252694111577)\n",
            "('European Commission', 0.004316120368156304)\n",
            "('Commission DGXIII', 0.004316120368156304)\n",
            "('international integrated telemedicine', 0.01604861338565662)\n",
            "('Regional and international', 0.03068998858225639)\n",
            "('organ transplant', 0.03068998858225639)\n",
            "('Primary Care Model-based', 0.03409088994785989)\n",
            "('international integrated', 0.03483301078030752)\n",
            "('integrated telemedicine network', 0.038466822054002626)\n",
            "('Primary Care Research', 0.04273129492441601)\n",
            "___________________\n",
            "\n",
            "Keywords in year 1998 are following:\n",
            "('Efficiently Maintain', 0.0044853802797344584)\n",
            "('Maintain the Integrity', 0.0044853802797344584)\n",
            "('Knowledge Engineer Tool', 0.006451889478949837)\n",
            "('Electronic Medical Record', 0.008057086329034568)\n",
            "('stem-cell post-transplant long-term', 0.010080144942528879)\n",
            "('post-transplant long-term follow-up', 0.010080144942528879)\n",
            "('system', 0.014131705436553545)\n",
            "('computerized knowledge-support system', 0.014304352015067844)\n",
            "('Knowledge Engineer', 0.016035661213321846)\n",
            "('Knowledge Base', 0.016035661213321846)\n",
            "___________________\n",
            "\n",
            "Keywords in year 1996 are following:\n",
            "('diabetic patient management', 0.021704381788440478)\n",
            "('intelligent data analysis', 0.0278850173298573)\n",
            "('World Wide Web', 0.036001085141224354)\n",
            "('information', 0.04184920162439905)\n",
            "('analysis in diabetic', 0.04326602853224161)\n",
            "('Web', 0.04747686048667469)\n",
            "('Natural Language Processing', 0.05610158026092168)\n",
            "('care', 0.06226796566204565)\n",
            "('Wide Web', 0.06856759791205307)\n",
            "('decision support', 0.07255670658651822)\n",
            "___________________\n",
            "\n",
            "Keywords in year 1997 are following:\n",
            "('merging multiple legacy', 0.008298133545729636)\n",
            "('multiple legacy databases', 0.008298133545729636)\n",
            "('Month Experience Nurses', 0.013947077011110502)\n",
            "('World Wide Web', 0.025948826170235653)\n",
            "('Electronic Mail Consultations', 0.03010246587004842)\n",
            "('merging multiple', 0.0358316211507357)\n",
            "('legacy databases', 0.0358316211507357)\n",
            "('clinical data repository', 0.03608606278970566)\n",
            "('multiple legacy', 0.04880013568230144)\n",
            "('enterprise-wide clinical data', 0.050351521851266234)\n",
            "___________________\n",
            "\n",
            "Keywords in year 1995 are following:\n",
            "('Support for information', 0.03491537602823697)\n",
            "('information management', 0.05695550697646169)\n",
            "('management in critical', 0.05695550697646169)\n",
            "('approach to identify', 0.05695550697646169)\n",
            "('critical care', 0.11635984525237528)\n",
            "('Support', 0.14533572323085503)\n",
            "('patient care setting', 0.14624082127698823)\n",
            "('care setting', 0.2000778483630907)\n",
            "('care', 0.22450676110568685)\n",
            "('information', 0.2321344025274505)\n",
            "___________________\n",
            "\n",
            "Keywords in year 1991 are following:\n",
            "('information system', 0.0037458111137096384)\n",
            "('system', 0.003935040083529282)\n",
            "('Clinical Information System', 0.0041884112240754496)\n",
            "('medical', 0.004515516479419091)\n",
            "('medical information systems', 0.005465930105430284)\n",
            "('information', 0.008098994256238385)\n",
            "('hospital information system', 0.008719671862396234)\n",
            "('Medical Language System', 0.011348611179651337)\n",
            "('medical information', 0.013754938337870934)\n",
            "('Academic Information System', 0.0152571561150475)\n",
            "___________________\n",
            "\n",
            "Keywords in year 1994 are following:\n",
            "('Catabolite Repression inSaccharomyces', 0.001185739112327361)\n",
            "('Quick Medical Reference', 0.0017227563341758298)\n",
            "('Repression inSaccharomyces cerevisiae', 0.00423756798314831)\n",
            "('kidney transplantation Accuracy', 0.004403943038652273)\n",
            "('Catabolite Repression', 0.00478180952256319)\n",
            "('Reference and Iliad', 0.004914120317027075)\n",
            "('Emulating cognitive diagnostic', 0.009876919448637582)\n",
            "('Renal cortex neuronal', 0.015603465077891808)\n",
            "('cortex neuronal nitric', 0.016233312889031782)\n",
            "('neuronal nitric oxide', 0.016233312889031782)\n",
            "___________________\n",
            "\n",
            "Keywords in year 1993 are following:\n",
            "('system', 0.011346611095627526)\n",
            "('patient', 0.019364715788148523)\n",
            "('information system', 0.021255008436181392)\n",
            "('expert system', 0.02567491842872248)\n",
            "('clinical information system', 0.026083180111765265)\n",
            "('medical', 0.026440035601779207)\n",
            "('consumers make informed', 0.026692097045992062)\n",
            "('care', 0.027431175779425172)\n",
            "('clinical', 0.02833772529915535)\n",
            "('patient record', 0.03277574056829587)\n",
            "___________________\n",
            "\n",
            "Keywords in year 1992 are following:\n",
            "('system', 0.011694067440825557)\n",
            "('information', 0.017812114839015753)\n",
            "('medical', 0.020532055326711984)\n",
            "('clinical', 0.022772792357591016)\n",
            "('Information System', 0.03145758981565231)\n",
            "('systems', 0.03842336444842684)\n",
            "('data', 0.03972271637270634)\n",
            "('medical information systems', 0.04195614087669401)\n",
            "('patient', 0.04568369514226431)\n",
            "('Clinical Information System', 0.04758894407382146)\n",
            "___________________\n",
            "\n",
            "Keywords in year 1990 are following:\n",
            "('Clinical Information System', 1.629359996625945e-05)\n",
            "('Expert System Expert', 2.1354497973512238e-05)\n",
            "('System Expert Systems', 2.723306307000991e-05)\n",
            "('Hospital Information System', 2.886343693093988e-05)\n",
            "('Medical Expert System', 3.5228938717146165e-05)\n",
            "('Outpatient Clinical Information', 4.159431286750466e-05)\n",
            "('Statistical Expert Systems', 4.1804917829311185e-05)\n",
            "('Information Management System', 5.5318042650385314e-05)\n",
            "('Decision Support Systems', 6.678287319745363e-05)\n",
            "('Integrated Expert System', 6.734153564455702e-05)\n",
            "___________________\n",
            "\n",
            "Keywords in year 1989 are following:\n",
            "('Medical Information System', 2.353177774924414e-06)\n",
            "('System Medical Knowledge', 2.453764517912236e-06)\n",
            "('Medical Expert Systems', 2.459231684753073e-06)\n",
            "('Hospital Information System', 2.5812712216898866e-06)\n",
            "('Clinical Information System', 2.855212678900917e-06)\n",
            "('Medical Knowledge Base', 3.2826392470668405e-06)\n",
            "('Database Management Systems', 3.845672259822504e-06)\n",
            "('Medical Language System', 4.161451434369629e-06)\n",
            "('Support Expert System', 4.798718050519523e-06)\n",
            "('Nursing Information System', 4.850125010151629e-06)\n",
            "___________________\n",
            "\n",
            "Keywords in year 1988 are following:\n",
            "('Hospital Information System', 1.0282443459746488e-06)\n",
            "('Medical Knowledge Bases', 1.3737510305175832e-06)\n",
            "('Nursing Information Systems', 1.5568799892296442e-06)\n",
            "('Hospital Computer Systems', 4.540123226084061e-06)\n",
            "('Information System Network', 4.680061996224586e-06)\n",
            "('Laboratory Information Systems', 4.918741096965269e-06)\n",
            "('Expert Systems Development', 4.925975674785609e-06)\n",
            "('Medical Language System', 4.962019909068739e-06)\n",
            "('Expert Database Systems', 5.153979562032844e-06)\n",
            "('Computerized Expert Systems', 5.198081612802558e-06)\n",
            "___________________\n",
            "\n",
            "Keywords in year 1987 are following:\n",
            "('Hospital Information System', 3.2709642794536677e-06)\n",
            "('Patient Information System', 1.1525170639989235e-05)\n",
            "('Laboratory Information System', 1.3298888292508859e-05)\n",
            "('Instructional Information Systems', 1.716921265971398e-05)\n",
            "('Networked Hospital Information', 1.7746827730216897e-05)\n",
            "('Care Information System', 1.990047392425627e-05)\n",
            "('Patient Care Information', 2.035956467112545e-05)\n",
            "('Distributed Information Systems', 2.037507792163444e-05)\n",
            "('Information System Distributed', 2.037507792163444e-05)\n",
            "('Nursing Information Systems', 2.19971506275984e-05)\n",
            "___________________\n",
            "\n",
            "Keywords in year 1986 are following:\n",
            "('Information Systems Medical', 3.18909381983885e-05)\n",
            "('Medical Information System', 3.189093819838851e-05)\n",
            "('Systems Medical Computers', 3.6479698432136135e-05)\n",
            "('Clinical Information System', 3.666145942175049e-05)\n",
            "('Information System Applications', 3.775208387634703e-05)\n",
            "('Hospital Information System', 4.3114519934180224e-05)\n",
            "('Computerized Medical Information', 4.4987321934508784e-05)\n",
            "('Based Systems Technology', 4.8101942117416374e-05)\n",
            "('Medical Computer Software', 4.8323012037676545e-05)\n",
            "('Knowledge Based Systems', 5.1050509304408415e-05)\n",
            "___________________\n",
            "\n",
            "Keywords in year 1985 are following:\n",
            "('Hospital Information System', 1.4986637071666723e-05)\n",
            "('Computerized Information Systems', 1.9615040591370405e-05)\n",
            "('Burn Information System', 2.231784211165467e-05)\n",
            "('Clinical Information System', 4.684397799622573e-05)\n",
            "('Library Information System', 5.2634281620567596e-05)\n",
            "('Medical Expert Systems', 6.188552081831581e-05)\n",
            "('Information System', 6.598835525882121e-05)\n",
            "('Information System Patient', 6.701163642656368e-05)\n",
            "('Patient Tracking System', 0.00010517309041999223)\n",
            "('Pharmacy Information System', 0.00010958901252202581)\n",
            "___________________\n",
            "\n",
            "Keywords in year 1983 are following:\n",
            "('Based Morbidity Screening', 0.00013917288589446067)\n",
            "('Installing COSTAR Diagnosis', 0.00015005687923819)\n",
            "('Interpersonal Skills Assessment', 0.00015005687923819)\n",
            "('COSTAR Diagnosis Related', 0.00015874100717724247)\n",
            "('Diagnosis Related Groups', 0.00015874100717724247)\n",
            "('Radiological Image Processing', 0.00015874100717724247)\n",
            "('Image Processing Facility', 0.00015874100717724247)\n",
            "('Computerized Position Requisition', 0.00015874100717724247)\n",
            "('Structured Admissions Interview', 0.00015874100717724247)\n",
            "('Admissions Interview Process', 0.00015874100717724247)\n",
            "___________________\n",
            "\n",
            "Keywords in year 1982 are following:\n",
            "('Medical Information System', 0.0002172731405936497)\n",
            "('Centralized Medical Data', 0.0002499628934406165)\n",
            "('Medical Data Base', 0.0002932529700873721)\n",
            "('Data Bases Medical', 0.0002932529700873721)\n",
            "('Clinical Data System', 0.0003574576831758086)\n",
            "('Data Base System', 0.00037311478442561373)\n",
            "('Pocket Medical Record', 0.00038588175374550836)\n",
            "('Data Base Management', 0.0003887834412215609)\n",
            "('Computerized Clinical Data', 0.0006377410052242117)\n",
            "('Medical Data Center', 0.0006443671880872059)\n",
            "___________________\n",
            "\n",
            "Keywords in year 1981 are following:\n",
            "('Clinical Consultation Systems', 3.682359257232871e-05)\n",
            "('Hospital Information Systems', 3.924690678658242e-05)\n",
            "('System Information System', 4.437837486781911e-05)\n",
            "('Data Base Management', 4.575493129389773e-05)\n",
            "('Radiology Information Systems', 5.368204568809779e-05)\n",
            "('Information System Computers', 5.9355773934283234e-05)\n",
            "('Medical Information Systems', 6.001077672856754e-05)\n",
            "('Information System Bayesian', 6.496643087628623e-05)\n",
            "('Medical Data System', 6.555929113967357e-05)\n",
            "('Health Information System', 6.929720730600678e-05)\n",
            "___________________\n",
            "\n"
          ]
        }
      ],
      "source": [
        "\n",
        "for years in data['year'].unique():\n",
        "    print(\"Keywords in year {} are following:\".format(years))\n",
        "    lang = \"en\"\n",
        "    num_of_keywords = 10\n",
        "    title = \" \".join(title for title in data[data['year']==years]['title'].values)\n",
        "    kw_extractor = yake.KeywordExtractor(lan=lang, top=num_of_keywords, features=None)\n",
        "    top_keyword = kw_extractor.extract_keywords(title)\n",
        "\n",
        "    for word in top_keyword:\n",
        "        print(word)\n",
        "    print(\"___________________\")\n",
        "    print()"
      ]
    },
    {
      "cell_type": "code",
      "execution_count": null,
      "metadata": {
        "id": "mgwqWV97jDr8"
      },
      "outputs": [],
      "source": [
        ""
      ]
    }
  ],
  "metadata": {
    "kernelspec": {
      "display_name": "Python 3 (ipykernel)",
      "language": "python",
      "name": "python3"
    },
    "language_info": {
      "codemirror_mode": {
        "name": "ipython",
        "version": 3
      },
      "file_extension": ".py",
      "mimetype": "text/x-python",
      "name": "python",
      "nbconvert_exporter": "python",
      "pygments_lexer": "ipython3",
      "version": "3.9.7"
    },
    "colab": {
      "name": "lab_assignment_05_Ajay (1).ipynb",
      "provenance": [],
      "collapsed_sections": [],
      "include_colab_link": true
    }
  },
  "nbformat": 4,
  "nbformat_minor": 0
}