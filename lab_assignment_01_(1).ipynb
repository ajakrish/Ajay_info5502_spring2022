{
  "cells": [
    {
      "cell_type": "markdown",
      "metadata": {
        "id": "view-in-github",
        "colab_type": "text"
      },
      "source": [
        "<a href=\"https://colab.research.google.com/github/ajakrish/Ajay_info5502_spring2022/blob/main/lab_assignment_01_(1).ipynb\" target=\"_parent\"><img src=\"https://colab.research.google.com/assets/colab-badge.svg\" alt=\"Open In Colab\"/></a>"
      ]
    },
    {
      "cell_type": "markdown",
      "metadata": {
        "id": "DymRJbxDBCnf"
      },
      "source": [
        "# **The first Lab-assignment (01/25/2022, 50 points in total)**"
      ]
    },
    {
      "cell_type": "markdown",
      "metadata": {
        "id": "jJDe71iLB616"
      },
      "source": [
        "(1) Write a Python program to count the number of characters in a string. (5 points)\n",
        "\n",
        "Sample String : 'google.com', \n",
        "\n",
        "Expected Result : {'o': 3, 'g': 2, '.': 1, 'e': 1, 'l': 1, 'm': 1, 'c': 1}"
      ]
    },
    {
      "cell_type": "markdown",
      "source": [
        ""
      ],
      "metadata": {
        "id": "MtKskTzbCLaU"
      }
    },
    {
      "cell_type": "code",
      "source": [
        "from collections import Counter\n",
        "k = \"google.com\"\n",
        "j = Counter(k)\n",
        "print(str(j))"
      ],
      "metadata": {
        "colab": {
          "base_uri": "https://localhost:8080/"
        },
        "id": "of_OsVXs8f4c",
        "outputId": "121c6b00-26bd-43cb-b61a-1b5222193c73"
      },
      "execution_count": 12,
      "outputs": [
        {
          "output_type": "stream",
          "name": "stdout",
          "text": [
            "Counter({'o': 3, 'g': 2, 'l': 1, 'e': 1, '.': 1, 'c': 1, 'm': 1})\n"
          ]
        }
      ]
    },
    {
      "cell_type": "markdown",
      "metadata": {
        "id": "55W9AMdXCSpV"
      },
      "source": [
        "(2) Write a Python program to sum all the items in a list. (5 points)"
      ]
    },
    {
      "cell_type": "code",
      "execution_count": 19,
      "metadata": {
        "colab": {
          "base_uri": "https://localhost:8080/"
        },
        "id": "I57NXsauCec2",
        "outputId": "c6bd7226-a400-483c-d973-b010107821de"
      },
      "outputs": [
        {
          "output_type": "stream",
          "name": "stdout",
          "text": [
            "81\n"
          ]
        }
      ],
      "source": [
        "p = [11,12,13,14,15,16]\n",
        "q = sum(p)\n",
        "print(q)\n"
      ]
    },
    {
      "cell_type": "markdown",
      "metadata": {
        "id": "4ulBZ6yhCi9F"
      },
      "source": [
        "(3) Write a Python program to get a string from a given string where all occurrences of its first char have been changed to '\\$', except the first char itself. (5 points)\n",
        "\n",
        "Sample String : 'restart', \n",
        "\n",
        "Expected Result : 'resta\\$t'"
      ]
    },
    {
      "cell_type": "code",
      "execution_count": 47,
      "metadata": {
        "colab": {
          "base_uri": "https://localhost:8080/"
        },
        "id": "Fj0XhwbBCw2o",
        "outputId": "4c0dfc8c-ce38-4bb0-e63b-3c56b51459ff"
      },
      "outputs": [
        {
          "output_type": "stream",
          "name": "stdout",
          "text": [
            "resta$t\n"
          ]
        }
      ],
      "source": [
        "def except_frist(i):\n",
        "  k = i[0]\n",
        "  l = len(i)\n",
        "  i = i.replace (k, \"$\")\n",
        "  i = k+i[1:]\n",
        "  return i\n",
        "print(except_frist(\"restart\"))\n"
      ]
    },
    {
      "cell_type": "markdown",
      "metadata": {
        "id": "_bIP7s1MCzue"
      },
      "source": [
        "(4) Write a program with python which could accept two parameter a and b to calculate and output the result of S, where \n",
        "\n",
        "$\\ S=3.14*(1+a/b)^3$ (5 points)\n",
        "\n"
      ]
    },
    {
      "cell_type": "code",
      "execution_count": 52,
      "metadata": {
        "colab": {
          "base_uri": "https://localhost:8080/"
        },
        "id": "w79QilHXD3Mg",
        "outputId": "fd3d09bc-53af-4279-df4e-a43a0ce00a4a"
      },
      "outputs": [
        {
          "output_type": "stream",
          "name": "stdout",
          "text": [
            "18.312480000000004\n"
          ]
        }
      ],
      "source": [
        "a = 4\n",
        "b = 5\n",
        "s = 3.14 * (1+a/b)**3\n",
        "print(s)"
      ]
    },
    {
      "cell_type": "markdown",
      "metadata": {
        "id": "xCa2bK9aD4Q3"
      },
      "source": [
        "(5) Write a Python program to concatenate following dictionaries to create a new one. (5 points)\n",
        "\n",
        "Sample Dictionary : dic1={1:10, 2:20}, dic2={3:30, 4:40}, dic3={5:50,6:60}, \n",
        "\n",
        "Expected Result : {1: 10, 2: 20, 3: 30, 4: 40, 5: 50, 6: 60}\n"
      ]
    },
    {
      "cell_type": "code",
      "execution_count": 18,
      "metadata": {
        "colab": {
          "base_uri": "https://localhost:8080/"
        },
        "id": "_z4aLqAbEET1",
        "outputId": "7dd6f1cc-9d35-4138-a2d8-bb9b940583b1"
      },
      "outputs": [
        {
          "output_type": "stream",
          "name": "stdout",
          "text": [
            "{1: 10, 2: 20, 3: 30, 4: 40, 5: 50, 6: 60}\n"
          ]
        }
      ],
      "source": [
        "# write your answer here\n",
        "d1 = {1:10,2:20}\n",
        "d2 = {3:30,4:40}\n",
        "d3 = {5:50,6:60}\n",
        "d4 = {}\n",
        "for i in (d1,d2,d3): d4.update(i)\n",
        "print(d4)"
      ]
    },
    {
      "cell_type": "markdown",
      "metadata": {
        "id": "0v48Vqa7FrQh"
      },
      "source": [
        "(6) Write a Python program to check whether an element exists within a tuple. (5 points)"
      ]
    },
    {
      "cell_type": "code",
      "execution_count": 21,
      "metadata": {
        "colab": {
          "base_uri": "https://localhost:8080/"
        },
        "id": "7WEmgq-DF2P1",
        "outputId": "ff7a78a4-2fbb-4fe8-d586-7d8e676e10db"
      },
      "outputs": [
        {
          "output_type": "stream",
          "name": "stdout",
          "text": [
            "True\n",
            "True\n",
            "False\n",
            "False\n"
          ]
        }
      ],
      "source": [
        "# write your answer here\n",
        "i = (\"z\",\"g\",6,\"k\",8,\"l\",\"x\",2,\"h\")\n",
        "print(\"x\" in i)\n",
        "print(8 in i )\n",
        "print (7 in i)\n",
        "print (\"o\" in i)"
      ]
    },
    {
      "cell_type": "markdown",
      "metadata": {
        "id": "vD5PYLMuGga_"
      },
      "source": [
        "(7) Write a Python program to find maximum and the minimum value in a set. (5 points)"
      ]
    },
    {
      "cell_type": "code",
      "execution_count": 23,
      "metadata": {
        "colab": {
          "base_uri": "https://localhost:8080/"
        },
        "id": "t0D5kdJUGjjw",
        "outputId": "7dc9866c-0bd6-4615-e69e-41019a3d749b"
      },
      "outputs": [
        {
          "output_type": "stream",
          "name": "stdout",
          "text": [
            "17\n",
            "7\n"
          ]
        }
      ],
      "source": [
        "# write your answer here\n",
        "j = {10,14,15,16,17,7,8,9}\n",
        "print(max(j))\n",
        "print(min(j))\n"
      ]
    },
    {
      "cell_type": "markdown",
      "metadata": {
        "id": "uHkd-y5VhVWC"
      },
      "source": [
        "(8) Write a Python program to randomly divide the students in this class into six groups for term projects, each group should have at least 4 students but no more than 6 students (including 6). Here is the students list: (5 points)\n",
        "\n",
        "studnet_list = ['ja0964','sa1198','sb1357','vb0218','sc1229','kg0569','kg0470','sg1297','bg0320','fh0141','jl1252','sk1386',\n",
        "           'ak0956','sk1390','sk1458','sk1313','ak0934','vm0377','nm0618','sm1640','sm1907','gn0108','pr0353','dr0609','ms1500','aos0040','ds0814', 'av0659','nv0234','hy0232']"
      ]
    },
    {
      "cell_type": "code",
      "execution_count": 78,
      "metadata": {
        "colab": {
          "base_uri": "https://localhost:8080/"
        },
        "id": "3iGbmcOBhTwy",
        "outputId": "d741a521-6f1b-4543-8b36-d4699842cb35"
      },
      "outputs": [
        {
          "output_type": "stream",
          "name": "stdout",
          "text": [
            "['sb1357', 'av0659', 'sk1386', 'hy0232']\n",
            "['sm1907', 'bg0320', 'kg0569', 'aos0040', 'sm1640']\n",
            "['ja0964', 'sc1229', 'pr0353', 'ds0814', 'nv0234', 'kg0470']\n",
            "['sk1458', 'dr0609', 'vm0377', 'ak0956', 'fh0141', 'ak0934']\n",
            "['vb0218', 'nm0618', 'sk1313', 'gn0108']\n",
            "['sk1390', 'sa1198', 'ms1500', 'sg1297', 'jl1252']\n"
          ]
        }
      ],
      "source": [
        "# write your answer here\n",
        "import numpy as np, random\n",
        "studnet_list = ['ja0964','sa1198','sb1357','vb0218','sc1229','kg0569','kg0470','sg1297','bg0320','fh0141','jl1252','sk1386', 'ak0956','sk1390','sk1458','sk1313','ak0934','vm0377','nm0618','sm1640','sm1907','gn0108','pr0353','dr0609','ms1500','aos0040','ds0814', 'av0659','nv0234','hy0232']\n",
        "grp_length = [4,5,6,6,4,5]\n",
        "output = []\n",
        "for i in grp_length :\n",
        "  random_grp = random.sample(studnet_list, i)\n",
        "  studnet_list = list(set(studnet_list)^set(random_grp))\n",
        "  output = output+[random_grp]\n",
        "for j in output:\n",
        "  print(j)"
      ]
    },
    {
      "cell_type": "markdown",
      "metadata": {
        "id": "wD6QkU7X2apt"
      },
      "source": [
        "(9) Write a Python program to find the duplicate elements in a given array of integers. Return -1 If there are no such elements. (5 points)"
      ]
    },
    {
      "cell_type": "code",
      "execution_count": 42,
      "metadata": {
        "colab": {
          "base_uri": "https://localhost:8080/"
        },
        "id": "bi5z85mO2apt",
        "outputId": "3454c6ea-a66a-4332-ffa3-b22c1808f1c8"
      },
      "outputs": [
        {
          "output_type": "stream",
          "name": "stdout",
          "text": [
            "14\n",
            "-1\n"
          ]
        }
      ],
      "source": [
        "# write your answer here\n",
        "a = [10,11,13,14,14,15]\n",
        "b = [10,11,13,14,15]\n",
        "def duplicate(a):\n",
        "  k = set()\n",
        "  for i in a :\n",
        "    if i in k:\n",
        "      return i\n",
        "    k.add(i)\n",
        "  return -1\n",
        "print(duplicate(a))\n",
        "print(duplicate(b))"
      ]
    },
    {
      "cell_type": "markdown",
      "metadata": {
        "id": "PhvwCq1_2apu"
      },
      "source": [
        "(10) Write a Python program to select all the Sundays of a specified year. (5 extra points)"
      ]
    },
    {
      "cell_type": "code",
      "execution_count": 54,
      "metadata": {
        "colab": {
          "base_uri": "https://localhost:8080/"
        },
        "id": "g9CXnIgA2apu",
        "outputId": "5ba84e2a-6275-4cf1-cddf-288ca3b2b364"
      },
      "outputs": [
        {
          "output_type": "stream",
          "name": "stdout",
          "text": [
            "1949-01-01\n",
            "1949-01-08\n",
            "1949-01-15\n",
            "1949-01-22\n",
            "1949-01-29\n",
            "1949-02-05\n",
            "1949-02-12\n",
            "1949-02-19\n",
            "1949-02-26\n",
            "1949-03-05\n",
            "1949-03-12\n",
            "1949-03-19\n",
            "1949-03-26\n",
            "1949-04-02\n",
            "1949-04-09\n",
            "1949-04-16\n",
            "1949-04-23\n",
            "1949-04-30\n",
            "1949-05-07\n",
            "1949-05-14\n",
            "1949-05-21\n",
            "1949-05-28\n",
            "1949-06-04\n",
            "1949-06-11\n",
            "1949-06-18\n",
            "1949-06-25\n",
            "1949-07-02\n",
            "1949-07-09\n",
            "1949-07-16\n",
            "1949-07-23\n",
            "1949-07-30\n",
            "1949-08-06\n",
            "1949-08-13\n",
            "1949-08-20\n",
            "1949-08-27\n",
            "1949-09-03\n",
            "1949-09-10\n",
            "1949-09-17\n",
            "1949-09-24\n",
            "1949-10-01\n",
            "1949-10-08\n",
            "1949-10-15\n",
            "1949-10-22\n",
            "1949-10-29\n",
            "1949-11-05\n",
            "1949-11-12\n",
            "1949-11-19\n",
            "1949-11-26\n",
            "1949-12-03\n",
            "1949-12-10\n",
            "1949-12-17\n",
            "1949-12-24\n",
            "1949-12-31\n"
          ]
        }
      ],
      "source": [
        "# write your answer here\n",
        "from datetime import date , timedelta\n",
        "def sunday(y):\n",
        "  a = date(y, 1 ,1)\n",
        "  a += timedelta(days = 6 - d.weekday())\n",
        "  while a.year ==y:\n",
        "    yield a\n",
        "    a += timedelta(days = 7)\n",
        "for a in sunday(1949):\n",
        "  print (a)"
      ]
    }
  ],
  "metadata": {
    "colab": {
      "collapsed_sections": [],
      "name": "lab_assignment_01 (1).ipynb",
      "provenance": [],
      "include_colab_link": true
    },
    "kernelspec": {
      "display_name": "Python 3",
      "language": "python",
      "name": "python3"
    },
    "language_info": {
      "codemirror_mode": {
        "name": "ipython",
        "version": 3
      },
      "file_extension": ".py",
      "mimetype": "text/x-python",
      "name": "python",
      "nbconvert_exporter": "python",
      "pygments_lexer": "ipython3",
      "version": "3.8.5"
    }
  },
  "nbformat": 4,
  "nbformat_minor": 0
}